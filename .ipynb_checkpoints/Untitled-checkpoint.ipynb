{
 "cells": [
  {
   "cell_type": "code",
   "execution_count": 71,
   "metadata": {
    "collapsed": false
   },
   "outputs": [],
   "source": [
    "def elefante():\n",
    "\n",
    "    '''Função que canta a música clássica do elefante'''\n",
    "\n",
    "    texto1 = \"elefante\"\n",
    "    texto2 = \"elefantes\"\n",
    "    texto3 = \"incomoda muita gente\"\n",
    "    texto4 = \"incomodam muita gente\"\n",
    "    texto5 = \"incomodam \"\n",
    "    texto6 = \"muito mais\"\n",
    "\n",
    "    print(\"1 %s %s\" % (texto1, texto3))\n",
    "    print(\"2 %s %s%s\" % (texto2, texto5*2, texto6))\n",
    "    print(\"3 %s %s\" % (texto2, texto4))\n",
    "    print(\"4 %s %s%s\" % (texto2, texto5*4, texto6))    \n",
    "    print(\"5 %s %s\" % (texto2, texto4))\n",
    "    print(\"6 %s %s%s\" % (texto2, texto5*6, texto6)) "
   ]
  },
  {
   "cell_type": "code",
   "execution_count": 72,
   "metadata": {
    "collapsed": false
   },
   "outputs": [
    {
     "name": "stdout",
     "output_type": "stream",
     "text": [
      "1 elefante incomoda muita gente\n",
      "2 elefantes incomodam incomodam muito mais\n",
      "3 elefantes incomodam muita gente\n",
      "4 elefantes incomodam incomodam incomodam incomodam muito mais\n",
      "5 elefantes incomodam muita gente\n",
      "6 elefantes incomodam incomodam incomodam incomodam incomodam incomodam muito mais\n"
     ]
    }
   ],
   "source": [
    "elefante()"
   ]
  },
  {
   "cell_type": "code",
   "execution_count": 109,
   "metadata": {
    "collapsed": false
   },
   "outputs": [],
   "source": [
    "def elefante(x):\n",
    "\n",
    "    '''Função que canta a música clássica do elefante'''\n",
    "\n",
    "    texto1 = \"elefante\"\n",
    "    texto2 = \"elefantes\"\n",
    "    texto3 = \"incomoda muita gente\"\n",
    "    texto4 = \"incomodam muita gente\"\n",
    "    texto5 = \"incomodam \"\n",
    "    texto6 = \"muito mais\"\n",
    "\n",
    "    print(\"1 %s %s\" %(texto1, texto3))\n",
    "    \n",
    "    for i in range(2, x + 1, 2):\n",
    "        print(\"%d %s %s%s\" % (i, texto2, texto5*i, texto6))\n",
    "        print(\"%d %s %s\" % (i+1, texto2, texto4))\n",
    "            "
   ]
  },
  {
   "cell_type": "code",
   "execution_count": 112,
   "metadata": {
    "collapsed": false
   },
   "outputs": [
    {
     "name": "stdout",
     "output_type": "stream",
     "text": [
      "1 elefante incomoda muita gente\n",
      "2 elefantes incomodam incomodam muito mais\n",
      "3 elefantes incomodam muita gente\n",
      "4 elefantes incomodam incomodam incomodam incomodam muito mais\n",
      "5 elefantes incomodam muita gente\n",
      "6 elefantes incomodam incomodam incomodam incomodam incomodam incomodam muito mais\n",
      "7 elefantes incomodam muita gente\n",
      "8 elefantes incomodam incomodam incomodam incomodam incomodam incomodam incomodam incomodam muito mais\n",
      "9 elefantes incomodam muita gente\n",
      "10 elefantes incomodam incomodam incomodam incomodam incomodam incomodam incomodam incomodam incomodam incomodam muito mais\n",
      "11 elefantes incomodam muita gente\n",
      "12 elefantes incomodam incomodam incomodam incomodam incomodam incomodam incomodam incomodam incomodam incomodam incomodam incomodam muito mais\n",
      "13 elefantes incomodam muita gente\n"
     ]
    }
   ],
   "source": [
    "elefante(12)"
   ]
  },
  {
   "cell_type": "code",
   "execution_count": null,
   "metadata": {
    "collapsed": true
   },
   "outputs": [],
   "source": []
  }
 ],
 "metadata": {
  "kernelspec": {
   "display_name": "Python 3",
   "language": "python",
   "name": "python3"
  },
  "language_info": {
   "codemirror_mode": {
    "name": "ipython",
    "version": 3
   },
   "file_extension": ".py",
   "mimetype": "text/x-python",
   "name": "python",
   "nbconvert_exporter": "python",
   "pygments_lexer": "ipython3",
   "version": "3.5.2"
  }
 },
 "nbformat": 4,
 "nbformat_minor": 2
}
