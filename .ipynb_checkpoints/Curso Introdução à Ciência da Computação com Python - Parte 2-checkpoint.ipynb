{
 "cells": [
  {
   "cell_type": "code",
   "execution_count": 1,
   "metadata": {
    "collapsed": true,
    "deletable": true,
    "editable": true
   },
   "outputs": [],
   "source": [
    "def cria_matriz(tot_lin, tot_col, valor):\n",
    "    matriz = []  #lista vazia\n",
    "    for i in range(tot_lin):\n",
    "        linha = []\n",
    "        for j in range(tot_col):\n",
    "            linha.append(valor)\n",
    "        matriz.append(linha)\n",
    "        return matriz"
   ]
  },
  {
   "cell_type": "code",
   "execution_count": 3,
   "metadata": {
    "collapsed": false,
    "deletable": true,
    "editable": true
   },
   "outputs": [
    {
     "data": {
      "text/plain": [
       "[[99, 99, 99]]"
      ]
     },
     "execution_count": 3,
     "metadata": {},
     "output_type": "execute_result"
    }
   ],
   "source": [
    "x = cria_matriz(2, 3, 99)\n",
    "x"
   ]
  },
  {
   "cell_type": "code",
   "execution_count": 4,
   "metadata": {
    "collapsed": true,
    "deletable": true,
    "editable": true
   },
   "outputs": [],
   "source": [
    "def cria_matriz(tot_lin, tot_col, valor):\n",
    "    matriz = []  #lista vazia\n",
    "    for i in range(tot_lin):\n",
    "        linha = []\n",
    "        for j in range(tot_col):\n",
    "            linha.append(valor)\n",
    "        matriz.append(linha)\n",
    "    return matriz"
   ]
  },
  {
   "cell_type": "code",
   "execution_count": 5,
   "metadata": {
    "collapsed": false,
    "deletable": true,
    "editable": true
   },
   "outputs": [
    {
     "data": {
      "text/plain": [
       "[[99, 99, 99], [99, 99, 99]]"
      ]
     },
     "execution_count": 5,
     "metadata": {},
     "output_type": "execute_result"
    }
   ],
   "source": [
    "x = cria_matriz(2, 3, 99)\n",
    "x"
   ]
  },
  {
   "cell_type": "markdown",
   "metadata": {
    "deletable": true,
    "editable": true
   },
   "source": [
    "Este código faz com que primeiramente toda a primeira linha seja preenchida, em seguida a segunda e assim sucessivamente. Se nós quiséssemos que a primeira coluna fosse preenchida e em seguida a segunda coluna e assim por diante, como ficaria o código?\n",
    "\n",
    "Um exemplo: se o usuário digitasse o seguinte comando “x = cria_matriz(2,3)” e em seguida informasse os seis números para serem armazenados na matriz, na seguinte ordem: 1, 2, 3, 4, 5, 6; o x teria ao final da função a seguinte matriz: [[1, 3, 5], [2, 4, 6]]."
   ]
  },
  {
   "cell_type": "code",
   "execution_count": 6,
   "metadata": {
    "collapsed": true,
    "deletable": true,
    "editable": true
   },
   "outputs": [],
   "source": [
    "def cria_matriz(num_linhas, num_colunas):\n",
    "    matriz = []  #lista vazia\n",
    "    for i in range(num_linhas):\n",
    "        linha = []\n",
    "        for j in range(num_colunas):\n",
    "            linha.append(0)\n",
    "        matriz.append(linha)\n",
    "\n",
    "    for i in range(num_colunas):\n",
    "        for j in range(num_linhas):\n",
    "            matriz[j][i] = int(input(\"Digite o elemento [\" + str(j) + \"][\" + str(i) + \"]: \"))\n",
    "\n",
    "    return matriz"
   ]
  },
  {
   "cell_type": "code",
   "execution_count": 7,
   "metadata": {
    "collapsed": false,
    "deletable": true,
    "editable": true
   },
   "outputs": [
    {
     "name": "stdout",
     "output_type": "stream",
     "text": [
      "Digite o elemento [0][0]: 1\n",
      "Digite o elemento [1][0]: 2\n",
      "Digite o elemento [0][1]: 3\n",
      "Digite o elemento [1][1]: 4\n",
      "Digite o elemento [0][2]: 5\n",
      "Digite o elemento [1][2]: 6\n"
     ]
    }
   ],
   "source": [
    "x = cria_matriz(2, 3)"
   ]
  },
  {
   "cell_type": "code",
   "execution_count": 8,
   "metadata": {
    "collapsed": false,
    "deletable": true,
    "editable": true
   },
   "outputs": [
    {
     "data": {
      "text/plain": [
       "[[1, 3, 5], [2, 4, 6]]"
      ]
     },
     "execution_count": 8,
     "metadata": {},
     "output_type": "execute_result"
    }
   ],
   "source": [
    "x"
   ]
  },
  {
   "cell_type": "code",
   "execution_count": 10,
   "metadata": {
    "collapsed": false,
    "deletable": true,
    "editable": true
   },
   "outputs": [
    {
     "name": "stdout",
     "output_type": "stream",
     "text": [
      "3  5  7  "
     ]
    }
   ],
   "source": [
    "def tarefa(mat):\n",
    "    dim = len(mat)\n",
    "    for i in range(dim):\n",
    "        print(mat[i][dim-1-i], end=\"  \")\n",
    "\n",
    "mat = [[1,2,3],[4,5,6],[7,8,9]]\n",
    "tarefa(mat)\n",
    "\n",
    "# Observação: o trecho do print (end = \" \") irá mudar a finalização padrão do print\n",
    "# que é pular para a próxima linha. Com esta mudança, o cursor permanecerá na mesma \n",
    "# linha aguardando a impressão seguinte."
   ]
  },
  {
   "cell_type": "markdown",
   "metadata": {
    "deletable": true,
    "editable": true
   },
   "source": [
    "### Exercício 1: Tamanho da matriz\n",
    "\n",
    "Escreva uma função dimensoes(matriz) que recebe uma matriz como parâmetro e imprime as dimensões da matriz recebida, no formato iXj.\n",
    "\n",
    "Exemplos:\n",
    "\n",
    "minha_matriz = [[1], [2], [3]]\n",
    "\n",
    "dimensoes(minha_matriz)\n",
    "\n",
    "3X1\n",
    "\n",
    "\n",
    "minha_matriz = [[1, 2, 3], [4, 5, 6]]\n",
    "\n",
    "dimensoes(minha_matriz)\n",
    "\n",
    "2X3"
   ]
  },
  {
   "cell_type": "code",
   "execution_count": 1,
   "metadata": {
    "collapsed": true,
    "deletable": true,
    "editable": true
   },
   "outputs": [],
   "source": [
    "def dimensoes(A):\n",
    "    \n",
    "    '''Função que recebe uma matriz como parâmetro e imprime as dimensões da matriz recebida, no formato iXj.\n",
    "    \n",
    "    Obs: i = colunas, j = linhas\n",
    "    \n",
    "    Exemplo: \n",
    "    >>> minha_matriz = [[1], \n",
    "                        [2], \n",
    "                        [3]\n",
    "                        ]\n",
    "    >>> dimensoes(minha_matriz)\n",
    "    >>> 3X1\n",
    "    '''\n",
    "    \n",
    "    lin = len(A)\n",
    "    col = len(A[0])\n",
    "    \n",
    "    return print(\"%dX%d\" % (lin, col))"
   ]
  },
  {
   "cell_type": "code",
   "execution_count": 2,
   "metadata": {
    "collapsed": false,
    "deletable": true,
    "editable": true
   },
   "outputs": [
    {
     "name": "stdout",
     "output_type": "stream",
     "text": [
      "3X1\n"
     ]
    }
   ],
   "source": [
    "matriz1 = [[1], [2], [3]]\n",
    "dimensoes(matriz1)"
   ]
  },
  {
   "cell_type": "code",
   "execution_count": 3,
   "metadata": {
    "collapsed": false,
    "deletable": true,
    "editable": true
   },
   "outputs": [
    {
     "name": "stdout",
     "output_type": "stream",
     "text": [
      "2X3\n"
     ]
    }
   ],
   "source": [
    "matriz2 = [[1, 2, 3], [4, 5, 6]]\n",
    "dimensoes(matriz2)"
   ]
  },
  {
   "cell_type": "markdown",
   "metadata": {
    "deletable": true,
    "editable": true
   },
   "source": [
    "### Exercício 2: Soma de matrizes\n",
    "\n",
    "Escreva a função soma_matrizes(m1, m2) que recebe 2 matrizes e devolve uma matriz que represente sua soma caso as matrizes tenham dimensões iguais. Caso contrário, a função deve devolver False.\n",
    "\n",
    "Exemplos:\n",
    "\n",
    "m1 = [[1, 2, 3], [4, 5, 6]]\n",
    "\n",
    "m2 = [[2, 3, 4], [5, 6, 7]]\n",
    "\n",
    "soma_matrizes(m1, m2) => [[3, 5, 7], [9, 11, 13]]\n",
    "\n",
    "m1 = [[1], [2], [3]]\n",
    "\n",
    "m2 = [[2, 3, 4], [5, 6, 7]]\n",
    "\n",
    "soma_matrizes(m1, m2) => False"
   ]
  },
  {
   "cell_type": "code",
   "execution_count": 7,
   "metadata": {
    "collapsed": false,
    "deletable": true,
    "editable": true
   },
   "outputs": [],
   "source": [
    "def soma_matrizes(m1, m2):\n",
    "    def dimensoes(A):\n",
    "        lin = len(A)\n",
    "        col = len(A[0])\n",
    "    \n",
    "        return ((lin, col))\n",
    "    \n",
    "    if dimensoes(m1) != dimensoes(m2):\n",
    "        return False\n",
    "    else:\n",
    "        matriz = []\n",
    "        for i in range(len(m1)):\n",
    "            linha = []\n",
    "            for j in range(len(m1[0])):\n",
    "                linha.append(m1[i][j] + m2[i][j])\n",
    "            matriz.append(linha)\n",
    "        return matriz"
   ]
  },
  {
   "cell_type": "code",
   "execution_count": 8,
   "metadata": {
    "collapsed": false,
    "deletable": true,
    "editable": true
   },
   "outputs": [
    {
     "data": {
      "text/plain": [
       "[[3, 5, 7], [9, 11, 13]]"
      ]
     },
     "execution_count": 8,
     "metadata": {},
     "output_type": "execute_result"
    }
   ],
   "source": [
    "m1 = [[1, 2, 3], [4, 5, 6]]\n",
    "m2 = [[2, 3, 4], [5, 6, 7]]\n",
    "soma_matrizes(m1, m2)"
   ]
  },
  {
   "cell_type": "code",
   "execution_count": 9,
   "metadata": {
    "collapsed": false,
    "deletable": true,
    "editable": true
   },
   "outputs": [
    {
     "data": {
      "text/plain": [
       "False"
      ]
     },
     "execution_count": 9,
     "metadata": {},
     "output_type": "execute_result"
    }
   ],
   "source": [
    "m1 = [[1], [2], [3]]\n",
    "m2 = [[2, 3, 4], [5, 6, 7]]\n",
    "soma_matrizes(m1, m2)"
   ]
  },
  {
   "cell_type": "code",
   "execution_count": null,
   "metadata": {
    "collapsed": true,
    "deletable": true,
    "editable": true
   },
   "outputs": [],
   "source": []
  },
  {
   "cell_type": "code",
   "execution_count": null,
   "metadata": {
    "collapsed": true,
    "deletable": true,
    "editable": true
   },
   "outputs": [],
   "source": []
  },
  {
   "cell_type": "code",
   "execution_count": null,
   "metadata": {
    "collapsed": true,
    "deletable": true,
    "editable": true
   },
   "outputs": [],
   "source": []
  },
  {
   "cell_type": "code",
   "execution_count": null,
   "metadata": {
    "collapsed": true,
    "deletable": true,
    "editable": true
   },
   "outputs": [],
   "source": []
  },
  {
   "cell_type": "code",
   "execution_count": null,
   "metadata": {
    "collapsed": true,
    "deletable": true,
    "editable": true
   },
   "outputs": [],
   "source": []
  },
  {
   "cell_type": "code",
   "execution_count": null,
   "metadata": {
    "collapsed": true,
    "deletable": true,
    "editable": true
   },
   "outputs": [],
   "source": []
  }
 ],
 "metadata": {
  "kernelspec": {
   "display_name": "Python 3",
   "language": "python",
   "name": "python3"
  },
  "language_info": {
   "codemirror_mode": {
    "name": "ipython",
    "version": 3
   },
   "file_extension": ".py",
   "mimetype": "text/x-python",
   "name": "python",
   "nbconvert_exporter": "python",
   "pygments_lexer": "ipython3",
   "version": "3.5.2"
  }
 },
 "nbformat": 4,
 "nbformat_minor": 2
}
