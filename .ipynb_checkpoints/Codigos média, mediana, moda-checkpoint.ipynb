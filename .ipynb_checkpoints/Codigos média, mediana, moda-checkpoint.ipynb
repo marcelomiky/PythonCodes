{
 "cells": [
  {
   "cell_type": "code",
   "execution_count": 82,
   "metadata": {
    "collapsed": false,
    "deletable": true,
    "editable": true
   },
   "outputs": [],
   "source": [
    "def avg1():\n",
    "\n",
    "    '''Calcula a média de uma lista de números'''\n",
    "    lista = [1, 2, 3, 4]\n",
    "    sum = 0\n",
    "    for i in range(0, len(lista)):\n",
    "        sum = sum + lista[i]\n",
    "    return sum/len(lista)"
   ]
  },
  {
   "cell_type": "code",
   "execution_count": 9,
   "metadata": {
    "collapsed": false,
    "deletable": true,
    "editable": true
   },
   "outputs": [
    {
     "data": {
      "text/plain": [
       "2.5"
      ]
     },
     "execution_count": 9,
     "metadata": {},
     "output_type": "execute_result"
    }
   ],
   "source": [
    "avg1()"
   ]
  },
  {
   "cell_type": "code",
   "execution_count": 80,
   "metadata": {
    "collapsed": true,
    "deletable": true,
    "editable": true
   },
   "outputs": [],
   "source": [
    "def avg2(lista):\n",
    "\n",
    "    '''Calcula a média de números inseridos como argumento da função'''\n",
    "    sum = 0\n",
    "    for i in range(0, len(lista)):\n",
    "        sum = sum + lista[i]\n",
    "    return sum/len(lista)"
   ]
  },
  {
   "cell_type": "code",
   "execution_count": 81,
   "metadata": {
    "collapsed": false,
    "deletable": true,
    "editable": true
   },
   "outputs": [
    {
     "data": {
      "text/plain": [
       "2.5"
      ]
     },
     "execution_count": 81,
     "metadata": {},
     "output_type": "execute_result"
    }
   ],
   "source": [
    "avg2([1, 2, 3, 4])"
   ]
  },
  {
   "cell_type": "code",
   "execution_count": 99,
   "metadata": {
    "collapsed": true,
    "deletable": true,
    "editable": true
   },
   "outputs": [],
   "source": [
    "def mediana1():\n",
    "\n",
    "    '''Calcula a mediana de uma lista de números'''\n",
    "\n",
    "    # lista com número par de itens\n",
    "    x = [6, 4, 8, 2, 5, 1, 3, 2, 9, 7, 5.5, 4, 7, 9, 1, 7, 4, 7, 1, 7]\n",
    "    \n",
    "    x.sort() #ordena a lista\n",
    "    \n",
    "    if len(x) % 2 == 0: # caso que a quantidade de itens na lista seja par\n",
    "        # pega os dois valores centrais (xr, xr+1) e calcula a média deles\n",
    "        xr = x[(((len(x) + 1) // 2) - 1)]\n",
    "        xrplusone = x[((len(x) + 1) // 2)]\n",
    "\n",
    "        return (xr + xrplusone) / 2\n",
    "\n",
    "    else: # resolução para o caso ímpar\n",
    "        return x[(((len(x) + 1) // 2) - 1)]"
   ]
  },
  {
   "cell_type": "code",
   "execution_count": 100,
   "metadata": {
    "collapsed": false,
    "deletable": true,
    "editable": true
   },
   "outputs": [
    {
     "data": {
      "text/plain": [
       "5.25"
      ]
     },
     "execution_count": 100,
     "metadata": {},
     "output_type": "execute_result"
    }
   ],
   "source": [
    "mediana1()"
   ]
  },
  {
   "cell_type": "code",
   "execution_count": 103,
   "metadata": {
    "collapsed": false,
    "deletable": true,
    "editable": true
   },
   "outputs": [],
   "source": [
    "def mediana2(lista):\n",
    "\n",
    "    '''Calcula a mediana de uma lista de números inseridos como argumento da função'''\n",
    "    lista.sort() #ordena a lista\n",
    "    \n",
    "    if len(lista) % 2 == 0: # caso que a quantidade de itens na lista seja par\n",
    "        # pega os dois valores centrais (xr, xr+1) e calcula a média deles\n",
    "        valor_central = (len(lista)) // 2\n",
    "        \n",
    "        xr = lista[(valor_central)]\n",
    "        xrplusone = lista[valor_central - 1]\n",
    "\n",
    "        return (xr + xrplusone) / 2\n",
    "\n",
    "    else: # resolução para o caso ímpar\n",
    "        return lista[(((len(lista) + 1) // 2) - 1)]"
   ]
  },
  {
   "cell_type": "code",
   "execution_count": 105,
   "metadata": {
    "collapsed": false,
    "deletable": true,
    "editable": true
   },
   "outputs": [
    {
     "data": {
      "text/plain": [
       "5.25"
      ]
     },
     "execution_count": 105,
     "metadata": {},
     "output_type": "execute_result"
    }
   ],
   "source": [
    "mediana2([6, 4, 8, 2, 5, 1, 3, 2, 9, 7, 5.5, 4, 7, 9, 1, 7, 4, 7, 1, 7])"
   ]
  },
  {
   "cell_type": "code",
   "execution_count": 112,
   "metadata": {
    "collapsed": true,
    "deletable": true,
    "editable": true
   },
   "outputs": [],
   "source": [
    "def mediana3(lista):\n",
    "    '''Cálculo da mediana, do mesmo modo que feito acima, código mais limpo'''\n",
    "    \n",
    "    lista.sort() #ordena a lista\n",
    "    \n",
    "    if len(lista) % 2 == 0: # caso que a quantidade de itens na lista seja par\n",
    "        \n",
    "        # pega os dois valores centrais e calcula a média deles\n",
    "        n = len(lista)\n",
    "        mediana = (lista[n//2 - 1] + lista[n//2])/2\n",
    "        \n",
    "        return mediana\n",
    "\n",
    "    else: # resolução para o caso ímpar\n",
    "        mediana = lista[len(lista)//2]\n",
    "        return mediana"
   ]
  },
  {
   "cell_type": "code",
   "execution_count": 115,
   "metadata": {
    "collapsed": false,
    "deletable": true,
    "editable": true
   },
   "outputs": [
    {
     "data": {
      "text/plain": [
       "2"
      ]
     },
     "execution_count": 115,
     "metadata": {},
     "output_type": "execute_result"
    }
   ],
   "source": [
    "mediana3([1, 2, 3])"
   ]
  },
  {
   "cell_type": "code",
   "execution_count": 116,
   "metadata": {
    "collapsed": false,
    "deletable": true,
    "editable": true
   },
   "outputs": [
    {
     "data": {
      "text/plain": [
       "2.5"
      ]
     },
     "execution_count": 116,
     "metadata": {},
     "output_type": "execute_result"
    }
   ],
   "source": [
    "mediana3([1, 2, 3, 4])"
   ]
  },
  {
   "cell_type": "code",
   "execution_count": 118,
   "metadata": {
    "collapsed": false,
    "deletable": true,
    "editable": true
   },
   "outputs": [
    {
     "data": {
      "text/plain": [
       "5.5"
      ]
     },
     "execution_count": 118,
     "metadata": {},
     "output_type": "execute_result"
    }
   ],
   "source": [
    "mediana3([1, 2, 3, 4, 5, 6, 7, 8, 9, 10]) #(5 + 6)/2"
   ]
  },
  {
   "cell_type": "code",
   "execution_count": 155,
   "metadata": {
    "collapsed": false,
    "deletable": true,
    "editable": true
   },
   "outputs": [
    {
     "data": {
      "text/plain": [
       "[1, 3, 10, 2, 2, 4, 8, 1, 10, 9]"
      ]
     },
     "execution_count": 155,
     "metadata": {},
     "output_type": "execute_result"
    }
   ],
   "source": [
    "# listas geradas com biblioteca randômica\n",
    "\n",
    "from random import randint\n",
    "\n",
    "list = []\n",
    "\n",
    "for i in range(1, 11):\n",
    "    list.append(randint(1, 10))\n",
    "\n",
    "list"
   ]
  },
  {
   "cell_type": "code",
   "execution_count": 159,
   "metadata": {
    "collapsed": false,
    "deletable": true,
    "editable": true
   },
   "outputs": [
    {
     "name": "stdout",
     "output_type": "stream",
     "text": [
      "[1, 1, 2, 2, 3, 4, 8, 9, 10, 10]\n"
     ]
    },
    {
     "data": {
      "text/plain": [
       "3.5"
      ]
     },
     "execution_count": 159,
     "metadata": {},
     "output_type": "execute_result"
    }
   ],
   "source": [
    "list.sort()\n",
    "print(list)\n",
    "mediana3(list)"
   ]
  },
  {
   "cell_type": "code",
   "execution_count": 76,
   "metadata": {
    "collapsed": false,
    "deletable": true,
    "editable": true
   },
   "outputs": [],
   "source": [
    "def testelista(x):\n",
    "    \n",
    "    x.sort()\n",
    "    results = []\n",
    "    for i in x:\n",
    "        results.append(i)\n",
    "    return results"
   ]
  },
  {
   "cell_type": "code",
   "execution_count": 77,
   "metadata": {
    "collapsed": false,
    "deletable": true,
    "editable": true
   },
   "outputs": [
    {
     "data": {
      "text/plain": [
       "[1, 2, 3, 4, 5, 6]"
      ]
     },
     "execution_count": 77,
     "metadata": {},
     "output_type": "execute_result"
    }
   ],
   "source": [
    "testelista([4, 6, 5, 3, 2, 1])"
   ]
  },
  {
   "cell_type": "code",
   "execution_count": 138,
   "metadata": {
    "collapsed": false,
    "deletable": true,
    "editable": true
   },
   "outputs": [],
   "source": [
    "def moda1():\n",
    "    ''' Função que determina a moda em uma lista de itens'''\n",
    "    # Influenciado por este repositório: https://gist.github.com/juanpabloaj/2832821\n",
    "    \n",
    "    # caso numérico\n",
    "    lista = [1, 2, 3, 4, 5, 6, 7, 8, 2, 7, 3, 3]\n",
    "    \n",
    "    repetição = 0\n",
    "    \n",
    "    for i in lista:\n",
    "            aparição = lista.count(i) # conta a quantidade de cada item, conta em *aparição* o que mais aparece\n",
    "            if aparição > repetição:\n",
    "                repetição = aparição\n",
    "    \n",
    "    moda = [] #lista com os itens que mais aparecem em lista\n",
    "    \n",
    "    for i in lista:\n",
    "        aparição = lista.count(i)\n",
    "        if aparição == repetição and i not in moda: # pega novamente o caso que mais consta \n",
    "                                                    # e não está ainda na lista (para evitar duplicações)\n",
    "            moda.append(i)\n",
    "    \n",
    "    return moda"
   ]
  },
  {
   "cell_type": "code",
   "execution_count": 139,
   "metadata": {
    "collapsed": false,
    "deletable": true,
    "editable": true
   },
   "outputs": [
    {
     "data": {
      "text/plain": [
       "[3]"
      ]
     },
     "execution_count": 139,
     "metadata": {},
     "output_type": "execute_result"
    }
   ],
   "source": [
    "moda1()"
   ]
  },
  {
   "cell_type": "code",
   "execution_count": 143,
   "metadata": {
    "collapsed": true,
    "deletable": true,
    "editable": true
   },
   "outputs": [],
   "source": [
    "def moda2(lista):\n",
    "    ''' Função que determina a moda recebendo como argumento uma lista de itens'''\n",
    "    # Influenciado por este repositório: https://gist.github.com/juanpabloaj/2832821\n",
    "    \n",
    "    repetição = 0\n",
    "    \n",
    "    for i in lista:\n",
    "            aparição = lista.count(i) # conta a quantidade de cada item, conta em *aparição* o que mais aparece\n",
    "            if aparição > repetição:\n",
    "                repetição = aparição\n",
    "    \n",
    "    moda = [] #lista com os itens que mais aparecem em lista\n",
    "    \n",
    "    for i in lista:\n",
    "        aparição = lista.count(i)\n",
    "        if aparição == repetição and i not in moda: # pega novamente o caso que mais consta \n",
    "                                                    # e não está ainda na lista (para evitar duplicações)\n",
    "            moda.append(i)\n",
    "    \n",
    "    return moda"
   ]
  },
  {
   "cell_type": "code",
   "execution_count": 144,
   "metadata": {
    "collapsed": false,
    "deletable": true,
    "editable": true
   },
   "outputs": [
    {
     "data": {
      "text/plain": [
       "[3]"
      ]
     },
     "execution_count": 144,
     "metadata": {},
     "output_type": "execute_result"
    }
   ],
   "source": [
    "moda2([1, 2, 3, 4, 5, 6, 7, 8, 2, 7, 3, 3])"
   ]
  },
  {
   "cell_type": "code",
   "execution_count": 146,
   "metadata": {
    "collapsed": false,
    "deletable": true,
    "editable": true
   },
   "outputs": [
    {
     "data": {
      "text/plain": [
       "['b']"
      ]
     },
     "execution_count": 146,
     "metadata": {},
     "output_type": "execute_result"
    }
   ],
   "source": [
    "moda2(['a', 'b', 'e', 'b', 'x', 'z'])"
   ]
  },
  {
   "cell_type": "code",
   "execution_count": 1,
   "metadata": {
    "collapsed": false,
    "deletable": true,
    "editable": true
   },
   "outputs": [
    {
     "data": {
      "text/plain": [
       "{'boxes': [<matplotlib.lines.Line2D at 0x7f4ee148b710>],\n",
       " 'caps': [<matplotlib.lines.Line2D at 0x7f4ee1445b00>,\n",
       "  <matplotlib.lines.Line2D at 0x7f4ee145b9e8>],\n",
       " 'fliers': [<matplotlib.lines.Line2D at 0x7f4ee1461a58>],\n",
       " 'means': [],\n",
       " 'medians': [<matplotlib.lines.Line2D at 0x7f4ee145bb70>],\n",
       " 'whiskers': [<matplotlib.lines.Line2D at 0x7f4ee1487208>,\n",
       "  <matplotlib.lines.Line2D at 0x7f4ee1445978>]}"
      ]
     },
     "execution_count": 1,
     "metadata": {},
     "output_type": "execute_result"
    }
   ],
   "source": [
    "# Sobre gráficos e quartis. Peguei código daqui: \n",
    "# https://matplotlib.org/examples/pylab_examples/boxplot_demo.html\n",
    "\n",
    "import matplotlib.pyplot as plt\n",
    "import numpy as np\n",
    "\n",
    "# fake up some data\n",
    "spread = np.random.rand(50) * 100 # random values between 0 and 1. https://docs.scipy.org/doc/numpy/reference/generated/numpy.random.rand.html\n",
    "center = np.ones(25) * 50 # Return a new array of given shape and type, filled with ones https://docs.scipy.org/doc/numpy/reference/generated/numpy.ones.html\n",
    "flier_high = np.random.rand(10) * 100 + 100 # random values between 100 and 200.\n",
    "flier_low = np.random.rand(10) * - 100 # random values between 0 and -100.\n",
    "\n",
    "data = np.concatenate((spread, center, flier_high, flier_low), 0) #concanate each of above it\n",
    "\n",
    "# basic plot\n",
    "plt.boxplot(data)\n",
    "\n"
   ]
  },
  {
   "cell_type": "code",
   "execution_count": 3,
   "metadata": {
    "collapsed": false,
    "deletable": true,
    "editable": true
   },
   "outputs": [
    {
     "data": {
      "image/png": "[encoded data removed]",
      "text/plain": [
       "<matplotlib.figure.Figure at 0x7f4f145c2320>"
      ]
     },
     "metadata": {},
     "output_type": "display_data"
    },
    {
     "data": {
      "image/png": "[encoded data removed]",
      "text/plain": [
       "<matplotlib.figure.Figure at 0x7f4ee1423d30>"
      ]
     },
     "metadata": {},
     "output_type": "display_data"
    },
    {
     "data": {
      "image/png": "[encoded data removed]",
      "text/plain": [
       "<matplotlib.figure.Figure at 0x7f4ee147d518>"
      ]
     },
     "metadata": {},
     "output_type": "display_data"
    },
    {
     "data": {
      "image/png": "[encoded data removed]",
      "text/plain": [
       "<matplotlib.figure.Figure at 0x7f4ee13e4438>"
      ]
     },
     "metadata": {},
     "output_type": "display_data"
    },
    {
     "data": {
      "image/png": "[encoded data removed]",
      "text/plain": [
       "<matplotlib.figure.Figure at 0x7f4ee1345198>"
      ]
     },
     "metadata": {},
     "output_type": "display_data"
    },
    {
     "data": {
      "image/png": "[encoded data removed]",
      "text/plain": [
       "<matplotlib.figure.Figure at 0x7f4ee134ce10>"
      ]
     },
     "metadata": {},
     "output_type": "display_data"
    },
    {
     "data": {
      "image/png": "[encoded data removed]",
      "text/plain": [
       "<matplotlib.figure.Figure at 0x7f4ee128c3c8>"
      ]
     },
     "metadata": {},
     "output_type": "display_data"
    }
   ],
   "source": [
    "# notched plot\n",
    "plt.figure()\n",
    "plt.boxplot(data, 1)\n",
    "\n",
    "# https://docs.scipy.org/doc/numpy/reference/generated/numpy.ones.html\n",
    "\n",
    "# change outlier point symbols\n",
    "plt.figure()\n",
    "plt.boxplot(data, 0, 'gD')\n",
    "\n",
    "# don't show outlier points\n",
    "plt.figure()\n",
    "plt.boxplot(data, 0, '')\n",
    "\n",
    "# horizontal boxes\n",
    "plt.figure()\n",
    "plt.boxplot(data, 0, 'rs', 0)\n",
    "\n",
    "# change whisker length\n",
    "plt.figure()\n",
    "plt.boxplot(data, 0, 'rs', 0, 0.75)\n",
    "\n",
    "# fake up some more data\n",
    "spread = np.random.rand(50) * 100\n",
    "center = np.ones(25) * 40\n",
    "flier_high = np.random.rand(10) * 100 + 100\n",
    "flier_low = np.random.rand(10) * -100\n",
    "d2 = np.concatenate((spread, center, flier_high, flier_low), 0)\n",
    "data.shape = (-1, 1)\n",
    "d2.shape = (-1, 1)\n",
    "# data = concatenate( (data, d2), 1 )\n",
    "# Making a 2-D array only works if all the columns are the\n",
    "# same length.  If they are not, then use a list instead.\n",
    "# This is actually more efficient because boxplot converts\n",
    "# a 2-D array into a list of vectors internally anyway.\n",
    "data = [data, d2, d2[::2, 0]]\n",
    "# multiple box plots on one figure\n",
    "plt.figure()\n",
    "plt.boxplot(data)\n",
    "\n",
    "plt.show()"
   ]
  },
  {
   "cell_type": "code",
   "execution_count": null,
   "metadata": {
    "collapsed": true,
    "deletable": true,
    "editable": true
   },
   "outputs": [],
   "source": []
  },
  {
   "cell_type": "code",
   "execution_count": null,
   "metadata": {
    "collapsed": true,
    "deletable": true,
    "editable": true
   },
   "outputs": [],
   "source": []
  },
  {
   "cell_type": "code",
   "execution_count": null,
   "metadata": {
    "collapsed": true,
    "deletable": true,
    "editable": true
   },
   "outputs": [],
   "source": []
  }
 ],
 "metadata": {
  "kernelspec": {
   "display_name": "Python 3",
   "language": "python",
   "name": "python3"
  },
  "language_info": {
   "codemirror_mode": {
    "name": "ipython",
    "version": 3
   },
   "file_extension": ".py",
   "mimetype": "text/x-python",
   "name": "python",
   "nbconvert_exporter": "python",
   "pygments_lexer": "ipython3",
   "version": "3.5.2"
  }
 },
 "nbformat": 4,
 "nbformat_minor": 2
}
