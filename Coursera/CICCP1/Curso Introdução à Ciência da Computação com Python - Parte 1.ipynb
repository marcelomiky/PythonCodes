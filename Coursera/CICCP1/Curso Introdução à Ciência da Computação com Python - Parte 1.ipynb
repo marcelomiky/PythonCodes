{
 "cells": [
  {
   "cell_type": "code",
   "execution_count": 2,
   "metadata": {},
   "outputs": [
    {
     "data": {
      "text/plain": [
       "float"
      ]
     },
     "execution_count": 2,
     "metadata": {},
     "output_type": "execute_result"
    }
   ],
   "source": [
    "type(10 / 3)"
   ]
  },
  {
   "cell_type": "code",
   "execution_count": 3,
   "metadata": {},
   "outputs": [
    {
     "data": {
      "text/plain": [
       "int"
      ]
     },
     "execution_count": 3,
     "metadata": {},
     "output_type": "execute_result"
    }
   ],
   "source": [
    "type(10 // 3) # divisão inteira"
   ]
  },
  {
   "cell_type": "code",
   "execution_count": 5,
   "metadata": {},
   "outputs": [
    {
     "data": {
      "text/plain": [
       "2.3"
      ]
     },
     "execution_count": 5,
     "metadata": {},
     "output_type": "execute_result"
    }
   ],
   "source": [
    "valor_decimal = 2.3\n",
    "valor_decimal"
   ]
  },
  {
   "cell_type": "code",
   "execution_count": 7,
   "metadata": {},
   "outputs": [
    {
     "data": {
      "text/plain": [
       "2"
      ]
     },
     "execution_count": 7,
     "metadata": {},
     "output_type": "execute_result"
    }
   ],
   "source": [
    "valor_inteiro = int(valor_decimal)\n",
    "valor_inteiro"
   ]
  },
  {
   "cell_type": "code",
   "execution_count": 8,
   "metadata": {},
   "outputs": [
    {
     "data": {
      "text/plain": [
       "1.23456"
      ]
     },
     "execution_count": 8,
     "metadata": {},
     "output_type": "execute_result"
    }
   ],
   "source": [
    "numero_decimal = 1.23456\n",
    "numero_decimal"
   ]
  },
  {
   "cell_type": "code",
   "execution_count": 10,
   "metadata": {},
   "outputs": [
    {
     "data": {
      "text/plain": [
       "'1.23456'"
      ]
     },
     "execution_count": 10,
     "metadata": {},
     "output_type": "execute_result"
    }
   ],
   "source": [
    "texto_do_numero_decimal = str(numero_decimal)\n",
    "texto_do_numero_decimal"
   ]
  },
  {
   "cell_type": "code",
   "execution_count": 11,
   "metadata": {},
   "outputs": [
    {
     "data": {
      "text/plain": [
       "str"
      ]
     },
     "execution_count": 11,
     "metadata": {},
     "output_type": "execute_result"
    }
   ],
   "source": [
    "type(texto_do_numero_decimal)"
   ]
  },
  {
   "cell_type": "code",
   "execution_count": 12,
   "metadata": {},
   "outputs": [
    {
     "data": {
      "text/plain": [
       "7"
      ]
     },
     "execution_count": 12,
     "metadata": {},
     "output_type": "execute_result"
    }
   ],
   "source": [
    "len(texto_do_numero_decimal)"
   ]
  },
  {
   "cell_type": "code",
   "execution_count": 1,
   "metadata": {},
   "outputs": [],
   "source": [
    "# Conversor de Temperatura de Fahrenheit para Celsius\n",
    "# ConversorDeTemperatura.py\n",
    "\n",
    "def converteTemp():\n",
    "    F = float(input(\"Digite uma temperatura em Fahrenheit: \"))\n",
    "    return ((F - 32)/9)*5"
   ]
  },
  {
   "cell_type": "code",
   "execution_count": 2,
   "metadata": {},
   "outputs": [
    {
     "name": "stdout",
     "output_type": "stream",
     "text": [
      "Digite uma temperatura em Fahrenheit: 23.65\n"
     ]
    },
    {
     "data": {
      "text/plain": [
       "-4.638888888888889"
      ]
     },
     "execution_count": 2,
     "metadata": {},
     "output_type": "execute_result"
    }
   ],
   "source": [
    "converteTemp()"
   ]
  },
  {
   "cell_type": "code",
   "execution_count": 4,
   "metadata": {},
   "outputs": [
    {
     "name": "stdout",
     "output_type": "stream",
     "text": [
      "Qual o nome da sua mãe? Florinda\n",
      "Qual o nome do seu pai? Navegante Desconhecido\n",
      "Bom dia Sra. Florinda !!! E bom dia Sr. Navegante Desconhecido .\n"
     ]
    }
   ],
   "source": [
    "# Educado.py\n",
    "\n",
    "nomeDaMae = input(\"Qual o nome da sua mãe? \")\n",
    "nomeDoPai = input(\"Qual o nome do seu pai? \")\n",
    "print(\"Bom dia Sra.\", nomeDaMae, \"!!! E bom dia Sr.\", nomeDoPai, \".\")"
   ]
  },
  {
   "cell_type": "code",
   "execution_count": 12,
   "metadata": {},
   "outputs": [
    {
     "name": "stdout",
     "output_type": "stream",
     "text": [
      "Por favor, entre com o número de segundos que deja converter: 80000\n",
      "22 horas,  13 minutos e 20 segundos.\n"
     ]
    }
   ],
   "source": [
    "# ContaSegundos.py\n",
    "\n",
    "segundos_str = input(\"Por favor, entre com o número de segundos que deseja converter: \")\n",
    "total_segs = int(segundos_str)\n",
    "\n",
    "horas = total_segs // 3600                   # a quantidade de horas é a divisão inteira (3600s = 1h)\n",
    "segs_restantes = total_segs % 3600           # o resto da divisão são os segundos restantes\n",
    "minutos = segs_restantes // 60               # os minutos são os segundos restantes acima dividido por 60 (60s = 1 min)\n",
    "segs_restantes_final = segs_restantes % 60   # os segundos finais é o resto de segs_restantes por 60\n",
    "\n",
    "print(horas, \"horas, \", minutos, \"minutos e\", segs_restantes_final, \"segundos.\")"
   ]
  },
  {
   "cell_type": "code",
   "execution_count": 14,
   "metadata": {},
   "outputs": [
    {
     "name": "stdout",
     "output_type": "stream",
     "text": [
      "Por favor, entre com o número de segundos que deja converter: 100000\n",
      "1 dia(s),  3 hora(s),  46 minuto(s) e 40 segundo(s).\n"
     ]
    }
   ],
   "source": [
    "# ContaSegundos2.py\n",
    "\n",
    "segundos_str = input(\"Por favor, entre com o número de segundos que deseja converter: \")\n",
    "total_segs = int(segundos_str)\n",
    "\n",
    "dias = total_segs // (3600 * 24)\n",
    "segs_restantes1 = total_segs % (3600 * 24)\n",
    "\n",
    "horas = segs_restantes1 // 3600                   # a quantidade de horas é a divisão inteira (3600s = 1h)\n",
    "segs_restantes2 = segs_restantes1 % 3600           # o resto da divisão são os segundos restantes\n",
    "\n",
    "minutos = segs_restantes2 // 60               # os minutos são os segundos restantes acima dividido por 60 (60s = 1 min)\n",
    "segs_restantes_final = segs_restantes2 % 60   # os segundos finais é o resto de segs_restantes por 60\n",
    "\n",
    "print(dias, \"dia(s), \", horas, \"hora(s), \", minutos, \"minuto(s) e\", segs_restantes_final, \"segundo(s).\")"
   ]
  },
  {
   "cell_type": "code",
   "execution_count": 15,
   "metadata": {},
   "outputs": [
    {
     "name": "stdout",
     "output_type": "stream",
     "text": [
      "Olá\n",
      "\n",
      "bom dia!\n"
     ]
    }
   ],
   "source": [
    "print(\"Olá\")\n",
    "print()\n",
    "print(\"bom dia!\")"
   ]
  },
  {
   "cell_type": "code",
   "execution_count": 17,
   "metadata": {},
   "outputs": [
    {
     "name": "stdout",
     "output_type": "stream",
     "text": [
      "10 20 15\n"
     ]
    }
   ],
   "source": [
    "a = 10\n",
    "b = 5\n",
    "c = a + b\n",
    "b = 20\n",
    "print(a,b,c)"
   ]
  },
  {
   "cell_type": "code",
   "execution_count": 18,
   "metadata": {},
   "outputs": [
    {
     "name": "stdout",
     "output_type": "stream",
     "text": [
      "40\n"
     ]
    }
   ],
   "source": [
    "A = 10\n",
    "a = 20\n",
    "a = 2 * a\n",
    "A = a + A\n",
    "print(a)"
   ]
  },
  {
   "cell_type": "code",
   "execution_count": 19,
   "metadata": {},
   "outputs": [
    {
     "name": "stdout",
     "output_type": "stream",
     "text": [
      "olámundo\n"
     ]
    }
   ],
   "source": [
    "print (\"olá\" 'mundo')"
   ]
  },
  {
   "cell_type": "code",
   "execution_count": 20,
   "metadata": {},
   "outputs": [
    {
     "name": "stdout",
     "output_type": "stream",
     "text": [
      "Qual a idade? 5\n"
     ]
    }
   ],
   "source": [
    "x = input (\"Qual a idade? \")"
   ]
  },
  {
   "cell_type": "code",
   "execution_count": 22,
   "metadata": {},
   "outputs": [
    {
     "data": {
      "text/plain": [
       "str"
      ]
     },
     "execution_count": 22,
     "metadata": {},
     "output_type": "execute_result"
    }
   ],
   "source": [
    "type(x)"
   ]
  },
  {
   "cell_type": "code",
   "execution_count": 23,
   "metadata": {},
   "outputs": [
    {
     "name": "stdout",
     "output_type": "stream",
     "text": [
      "Qual o valor de a? 1\n",
      "Qual o valor de b? 2\n",
      "2\n",
      "2\n"
     ]
    }
   ],
   "source": [
    "a = int(input(\"Qual o valor de a? \"))\n",
    "b = int(input(\"Qual o valor de b? \"))\n",
    "a = b\n",
    "b = a\n",
    "print(a)\n",
    "print(b)"
   ]
  },
  {
   "cell_type": "code",
   "execution_count": 24,
   "metadata": {},
   "outputs": [
    {
     "name": "stdout",
     "output_type": "stream",
     "text": [
      "Qual o valor de a? 1\n",
      "Qual o valor de b? 2\n",
      "2\n",
      "1\n"
     ]
    }
   ],
   "source": [
    "a = int(input(\"Qual o valor de a? \"))\n",
    "b = int(input(\"Qual o valor de b? \"))\n",
    "aux = a\n",
    "a = b\n",
    "b = aux\n",
    "print(a)\n",
    "print(b)"
   ]
  },
  {
   "cell_type": "markdown",
   "metadata": {
    "collapsed": true
   },
   "source": [
    "### Tarefa de programação: Lista de exercícios - 1"
   ]
  },
  {
   "cell_type": "markdown",
   "metadata": {
    "collapsed": true
   },
   "source": [
    "### Exercício 1\n",
    "\n",
    "Faça um programa em Python que receba (entrada de dados) o valor correspondente ao lado de um quadrado, calcule e imprima (saída de dados) seu perímetro e sua área.\n",
    "\n",
    "Observação: a saída deve estar no formato: \"perímetro: x - área: y\"\n",
    "\n",
    "Abaixo um exemplo de como deve ser a entrada e saída de dados do programa:\n",
    "\n",
    "Exemplo:\n",
    "\n",
    "Entrada de Dados:\n",
    "Digite o valor correspondente ao lado de um quadrado: 3\n",
    "\n",
    "Saída de Dados:\n",
    "perímetro: 12 - área: 9"
   ]
  },
  {
   "cell_type": "code",
   "execution_count": 29,
   "metadata": {},
   "outputs": [],
   "source": [
    "lado = int(input('Digite o valor correspondente ao lado de um quadrado:'))\n",
    "    \n",
    "perimetro = 4 * lado\n",
    "area = lado ** 2\n",
    "    \n",
    "print('perímetro:', perimetro, '- área:', area)"
   ]
  },
  {
   "cell_type": "code",
   "execution_count": 30,
   "metadata": {},
   "outputs": [
    {
     "name": "stdout",
     "output_type": "stream",
     "text": [
      "Digite o valor correspondente ao lado de um quadrado:3\n",
      "perímetro: 12 - área: 9\n"
     ]
    }
   ],
   "source": [
    "quadrado()"
   ]
  },
  {
   "cell_type": "markdown",
   "metadata": {},
   "source": [
    "### Exercício 2\n",
    "\n",
    "Faça um programa em Python que receba quatro notas, calcule e imprima a média aritmética. Observe o exemplo abaixo:\n",
    "\n",
    "Exemplo:\n",
    "\n",
    "Entrada de Dados:\n",
    "Digite a primeira nota: 4\n",
    "\n",
    "Digite a segunda nota: 5\n",
    "\n",
    "Digite a terceira nota: 6\n",
    "\n",
    "Digite a quarta nota: 7\n",
    "\n",
    "Saída de Dados:\n",
    "A média aritmética é 5.5"
   ]
  },
  {
   "cell_type": "code",
   "execution_count": 33,
   "metadata": {},
   "outputs": [
    {
     "name": "stdout",
     "output_type": "stream",
     "text": [
      "Digite a primeira nota:4\n",
      "Digite a segunda nota:5\n",
      "Digite a terceira nota:6\n",
      "Digite a quarta nota:7\n",
      "A média aritmética é 5.5\n"
     ]
    }
   ],
   "source": [
    "n1 = int(input('Digite a primeira nota:'))\n",
    "n2 = int(input('Digite a segunda nota:'))\n",
    "n3 = int(input('Digite a terceira nota:'))\n",
    "n4 = int(input('Digite a quarta nota:'))\n",
    "    \n",
    "media = (n1 + n2 + n3 + n4) / 4\n",
    "               \n",
    "print(\"A média aritmética é\", media)"
   ]
  },
  {
   "cell_type": "markdown",
   "metadata": {},
   "source": [
    "### Praticar tarefa de programação: Exercícios adicionais (opcionais)\n",
    "\n",
    "Exercício 1\n",
    "\n",
    "Uma empresa de cartão de crédito envia suas faturas por email com a seguinte mensagem:\n",
    "\n",
    "Olá, Fulano de Tal\n",
    "\n",
    "A sua fatura com vencimento em 9 de Janeiro no valor de R$ 350,00 está fechada.\n",
    "\n",
    "Escreva um programa que receba (entrada de dados através do teclado) o nome do cliente, o dia de vencimento, o mês de vencimento e o valor da fatura e imprima (saída de dados) a mensagem com os dados recebidos, no mesmo formato da mensagem acima. Note que o programa imprime a saída em duas linhas diferentes. Note também que, como não é preciso realizar cálculos, o valor não precisa ser convertido para número, pode ser tratado como texto.\n",
    "\n",
    "Abaixo um exemplo de como deve ser a entrada e saída de dados do programa:\n",
    "\n",
    "Exemplo:\n",
    "\n",
    "Entrada de Dados:\n",
    "\n",
    "Digite o nome do cliente: Fulano de Tal\n",
    "\n",
    "Digite o dia de vencimento: 9\n",
    "\n",
    "Digite o mês de vencimento: Janeiro\n",
    "\n",
    "Digite o valor da fatura: 350,00\n",
    "\n",
    "\n",
    "Saída de Dados:\n",
    "\n",
    "Olá, Fulano de Tal\n",
    "A sua fatura com vencimento em 9 de Janeiro no valor de R$ 350,00 está fechada."
   ]
  },
  {
   "cell_type": "code",
   "execution_count": 1,
   "metadata": {},
   "outputs": [
    {
     "name": "stdout",
     "output_type": "stream",
     "text": [
      "Digite o nome do cliente: Fulano de Tal\n",
      "Digite o dia de vencimento: 9\n",
      "Digite o mês de vencimento: Janeiro\n",
      "Digite o valor da fatura: 350,00\n",
      "Olá, Fulano de Tal\n",
      "A sua fatura com vencimento em 9 de Janeiro no valor de R$ 350,00 está fechada.\n"
     ]
    }
   ],
   "source": [
    "nome = input(\"Digite o nome do cliente: \")\n",
    "dia_venc = input(\"Digite o dia de vencimento: \")\n",
    "mes_venc = input(\"Digite o mês de vencimento: \")\n",
    "valor = input(\"Digite o valor da fatura: \")\n",
    "\n",
    "print(\"Olá,\", nome)\n",
    "print(\"A sua fatura com vencimento em\", dia_venc, \"de\", mes_venc, \"no valor de R$\", valor, \"está fechada.\")"
   ]
  },
  {
   "cell_type": "markdown",
   "metadata": {},
   "source": [
    "Exercício 2\n",
    "\n",
    "Este é o desafio do vídeo \"Entrada de Dados\".\n",
    "\n",
    "Reescreva o programa contaSegundos para imprimir também a quantidade de dias, ou seja, faça um programa em Python que, dada a quantidade de segundos, \"quebre\" esse valor em dias, horas, minutos e segundos. A saída deve estar no formato: a dias, b horas, c minutos e d segundos. Seja cuidadoso com o formato! Espaços a mais, vírgulas faltando ou outras diferenças são considerados erro\n",
    "\n",
    "Abaixo um exemplo de como deve ser a entrada e saída de dados do programa:\n",
    "\n",
    "Exemplo:\n",
    "\n",
    "Entrada de Dados:\n",
    "Por favor, entre com o número de segundos que deseja converter: 178615\n",
    "\n",
    "Saída de Dados:\n",
    "2 dias, 1 horas, 36 minutos e 55 segundos."
   ]
  },
  {
   "cell_type": "code",
   "execution_count": 41,
   "metadata": {},
   "outputs": [
    {
     "name": "stdout",
     "output_type": "stream",
     "text": [
      "Por favor, entre com o número de segundos que deseja converter: 178615\n",
      "2 dias,  1 horas,  36 minutos e 55 segundos.\n"
     ]
    }
   ],
   "source": [
    "# ContaSegundos2.py\n",
    "\n",
    "segundos_str = input(\"Por favor, entre com o número de segundos que deseja converter: \")\n",
    "total_segs = int(segundos_str)\n",
    "\n",
    "a = total_segs // (3600 * 24) # quantidade de dias\n",
    "segs_restantes1 = total_segs % (3600 * 24)\n",
    "\n",
    "b = segs_restantes1 // 3600                   # a quantidade de horas é a divisão inteira (3600s = 1h)\n",
    "segs_restantes2 = segs_restantes1 % 3600           # o resto da divisão são os segundos restantes\n",
    "\n",
    "c = segs_restantes2 // 60               # os minutos são os segundos restantes acima dividido por 60 (60s = 1 min)\n",
    "d = segs_restantes2 % 60   # os segundos finais é o resto de segs_restantes por 60\n",
    "\n",
    "print(a, \"dias, \", b, \"horas, \", c, \"minutos e\", d, \"segundos.\")"
   ]
  },
  {
   "cell_type": "markdown",
   "metadata": {},
   "source": [
    "Exercício 3\n",
    "\n",
    "Faça um programa em Python que recebe um número inteiro e imprime seu dígito das dezenas. Observe o exemplo abaixo:\n",
    "\n",
    "Exemplo 1:\n",
    "\n",
    "Entrada de Dados:\n",
    "Digite um número inteiro: 78615\n",
    "\n",
    "Saída de Dados:\n",
    "O dígito das dezenas é 1\n",
    "\n",
    "Exemplo 2:\n",
    "\n",
    "Entrada de Dados:\n",
    "Digite um número inteiro: 2\n",
    "\n",
    "Saída de Dados:\n",
    "O dígito das dezenas é 0\n",
    "\n",
    "Dica: O operador \"//\" faz uma divisão inteira jogando fora o resto, ou seja, aquilo que é menor que o divisor. O operador \"%\" devolve apenas o resto da divisão inteira jogando fora o resultado, ou seja, tudo que é maior ou igual ao divisor."
   ]
  },
  {
   "cell_type": "code",
   "execution_count": 75,
   "metadata": {},
   "outputs": [
    {
     "name": "stdout",
     "output_type": "stream",
     "text": [
      "Digite um número inteiro: 2\n",
      "O dígito das dezenas é 0\n"
     ]
    }
   ],
   "source": [
    "numero_inteiro = int(input(\"Digite um número inteiro: \"))\n",
    "\n",
    "temp = numero_inteiro // 10\n",
    "digito_dezena = temp % 10\n",
    "\n",
    "print(\"O dígito das dezenas é\", digito_dezena)"
   ]
  },
  {
   "cell_type": "code",
   "execution_count": 71,
   "metadata": {},
   "outputs": [],
   "source": [
    "num = 78615"
   ]
  },
  {
   "cell_type": "code",
   "execution_count": 72,
   "metadata": {},
   "outputs": [
    {
     "data": {
      "text/plain": [
       "7861"
      ]
     },
     "execution_count": 72,
     "metadata": {},
     "output_type": "execute_result"
    }
   ],
   "source": [
    "a = num // 10\n",
    "a"
   ]
  },
  {
   "cell_type": "code",
   "execution_count": 73,
   "metadata": {},
   "outputs": [
    {
     "data": {
      "text/plain": [
       "1"
      ]
     },
     "execution_count": 73,
     "metadata": {},
     "output_type": "execute_result"
    }
   ],
   "source": [
    "b = a % 10\n",
    "b"
   ]
  },
  {
   "cell_type": "markdown",
   "metadata": {
    "collapsed": true
   },
   "source": [
    "# Expressões Booleanas"
   ]
  },
  {
   "cell_type": "code",
   "execution_count": 1,
   "metadata": {},
   "outputs": [
    {
     "data": {
      "text/plain": [
       "bool"
      ]
     },
     "execution_count": 1,
     "metadata": {},
     "output_type": "execute_result"
    }
   ],
   "source": [
    "type(False)"
   ]
  },
  {
   "cell_type": "code",
   "execution_count": 3,
   "metadata": {
    "collapsed": true
   },
   "outputs": [],
   "source": [
    "x = 3"
   ]
  },
  {
   "cell_type": "code",
   "execution_count": 4,
   "metadata": {},
   "outputs": [
    {
     "data": {
      "text/plain": [
       "bool"
      ]
     },
     "execution_count": 4,
     "metadata": {},
     "output_type": "execute_result"
    }
   ],
   "source": [
    "type(x > 0)"
   ]
  },
  {
   "cell_type": "code",
   "execution_count": 6,
   "metadata": {},
   "outputs": [
    {
     "data": {
      "text/plain": [
       "True"
      ]
     },
     "execution_count": 6,
     "metadata": {},
     "output_type": "execute_result"
    }
   ],
   "source": [
    "x > 2 and x < 100"
   ]
  },
  {
   "cell_type": "code",
   "execution_count": 7,
   "metadata": {},
   "outputs": [
    {
     "data": {
      "text/plain": [
       "True"
      ]
     },
     "execution_count": 7,
     "metadata": {},
     "output_type": "execute_result"
    }
   ],
   "source": [
    "x > 2"
   ]
  },
  {
   "cell_type": "code",
   "execution_count": 8,
   "metadata": {},
   "outputs": [
    {
     "data": {
      "text/plain": [
       "False"
      ]
     },
     "execution_count": 8,
     "metadata": {},
     "output_type": "execute_result"
    }
   ],
   "source": [
    "not x > 2"
   ]
  },
  {
   "cell_type": "code",
   "execution_count": 9,
   "metadata": {},
   "outputs": [
    {
     "data": {
      "text/plain": [
       "False"
      ]
     },
     "execution_count": 9,
     "metadata": {},
     "output_type": "execute_result"
    }
   ],
   "source": [
    "not True"
   ]
  },
  {
   "cell_type": "code",
   "execution_count": 10,
   "metadata": {},
   "outputs": [
    {
     "data": {
      "text/plain": [
       "True"
      ]
     },
     "execution_count": 10,
     "metadata": {},
     "output_type": "execute_result"
    }
   ],
   "source": [
    "not False"
   ]
  },
  {
   "cell_type": "code",
   "execution_count": 11,
   "metadata": {},
   "outputs": [
    {
     "data": {
      "text/plain": [
       "True"
      ]
     },
     "execution_count": 11,
     "metadata": {},
     "output_type": "execute_result"
    }
   ],
   "source": [
    "not not True"
   ]
  },
  {
   "cell_type": "code",
   "execution_count": null,
   "metadata": {
    "collapsed": true
   },
   "outputs": [],
   "source": []
  },
  {
   "cell_type": "code",
   "execution_count": null,
   "metadata": {
    "collapsed": true
   },
   "outputs": [],
   "source": []
  },
  {
   "cell_type": "code",
   "execution_count": null,
   "metadata": {
    "collapsed": true
   },
   "outputs": [],
   "source": []
  },
  {
   "cell_type": "code",
   "execution_count": null,
   "metadata": {
    "collapsed": true
   },
   "outputs": [],
   "source": []
  },
  {
   "cell_type": "code",
   "execution_count": null,
   "metadata": {
    "collapsed": true
   },
   "outputs": [],
   "source": []
  },
  {
   "cell_type": "code",
   "execution_count": null,
   "metadata": {
    "collapsed": true
   },
   "outputs": [],
   "source": []
  },
  {
   "cell_type": "code",
   "execution_count": null,
   "metadata": {
    "collapsed": true
   },
   "outputs": [],
   "source": []
  },
  {
   "cell_type": "code",
   "execution_count": null,
   "metadata": {
    "collapsed": true
   },
   "outputs": [],
   "source": []
  },
  {
   "cell_type": "code",
   "execution_count": null,
   "metadata": {
    "collapsed": true
   },
   "outputs": [],
   "source": []
  },
  {
   "cell_type": "code",
   "execution_count": null,
   "metadata": {
    "collapsed": true
   },
   "outputs": [],
   "source": []
  },
  {
   "cell_type": "code",
   "execution_count": null,
   "metadata": {
    "collapsed": true
   },
   "outputs": [],
   "source": []
  },
  {
   "cell_type": "code",
   "execution_count": null,
   "metadata": {
    "collapsed": true
   },
   "outputs": [],
   "source": []
  },
  {
   "cell_type": "code",
   "execution_count": null,
   "metadata": {
    "collapsed": true
   },
   "outputs": [],
   "source": []
  },
  {
   "cell_type": "code",
   "execution_count": null,
   "metadata": {
    "collapsed": true
   },
   "outputs": [],
   "source": []
  },
  {
   "cell_type": "code",
   "execution_count": null,
   "metadata": {
    "collapsed": true
   },
   "outputs": [],
   "source": []
  },
  {
   "cell_type": "code",
   "execution_count": null,
   "metadata": {
    "collapsed": true
   },
   "outputs": [],
   "source": []
  },
  {
   "cell_type": "code",
   "execution_count": null,
   "metadata": {
    "collapsed": true
   },
   "outputs": [],
   "source": []
  },
  {
   "cell_type": "code",
   "execution_count": null,
   "metadata": {
    "collapsed": true
   },
   "outputs": [],
   "source": []
  },
  {
   "cell_type": "code",
   "execution_count": null,
   "metadata": {
    "collapsed": true
   },
   "outputs": [],
   "source": []
  }
 ],
 "metadata": {
  "kernelspec": {
   "display_name": "Python 3",
   "language": "python",
   "name": "python3"
  },
  "language_info": {
   "codemirror_mode": {
    "name": "ipython",
    "version": 3
   },
   "file_extension": ".py",
   "mimetype": "text/x-python",
   "name": "python",
   "nbconvert_exporter": "python",
   "pygments_lexer": "ipython3",
   "version": "3.5.3"
  }
 },
 "nbformat": 4,
 "nbformat_minor": 2
}
