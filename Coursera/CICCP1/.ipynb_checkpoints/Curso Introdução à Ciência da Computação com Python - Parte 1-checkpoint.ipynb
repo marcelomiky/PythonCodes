{
 "cells": [
  {
   "cell_type": "code",
   "execution_count": 2,
   "metadata": {},
   "outputs": [
    {
     "data": {
      "text/plain": [
       "float"
      ]
     },
     "execution_count": 2,
     "metadata": {},
     "output_type": "execute_result"
    }
   ],
   "source": [
    "type(10 / 3)"
   ]
  },
  {
   "cell_type": "code",
   "execution_count": 3,
   "metadata": {},
   "outputs": [
    {
     "data": {
      "text/plain": [
       "int"
      ]
     },
     "execution_count": 3,
     "metadata": {},
     "output_type": "execute_result"
    }
   ],
   "source": [
    "type(10 // 3) # divisão inteira"
   ]
  },
  {
   "cell_type": "code",
   "execution_count": 5,
   "metadata": {},
   "outputs": [
    {
     "data": {
      "text/plain": [
       "2.3"
      ]
     },
     "execution_count": 5,
     "metadata": {},
     "output_type": "execute_result"
    }
   ],
   "source": [
    "valor_decimal = 2.3\n",
    "valor_decimal"
   ]
  },
  {
   "cell_type": "code",
   "execution_count": 7,
   "metadata": {},
   "outputs": [
    {
     "data": {
      "text/plain": [
       "2"
      ]
     },
     "execution_count": 7,
     "metadata": {},
     "output_type": "execute_result"
    }
   ],
   "source": [
    "valor_inteiro = int(valor_decimal)\n",
    "valor_inteiro"
   ]
  },
  {
   "cell_type": "code",
   "execution_count": 8,
   "metadata": {},
   "outputs": [
    {
     "data": {
      "text/plain": [
       "1.23456"
      ]
     },
     "execution_count": 8,
     "metadata": {},
     "output_type": "execute_result"
    }
   ],
   "source": [
    "numero_decimal = 1.23456\n",
    "numero_decimal"
   ]
  },
  {
   "cell_type": "code",
   "execution_count": 10,
   "metadata": {},
   "outputs": [
    {
     "data": {
      "text/plain": [
       "'1.23456'"
      ]
     },
     "execution_count": 10,
     "metadata": {},
     "output_type": "execute_result"
    }
   ],
   "source": [
    "texto_do_numero_decimal = str(numero_decimal)\n",
    "texto_do_numero_decimal"
   ]
  },
  {
   "cell_type": "code",
   "execution_count": 11,
   "metadata": {},
   "outputs": [
    {
     "data": {
      "text/plain": [
       "str"
      ]
     },
     "execution_count": 11,
     "metadata": {},
     "output_type": "execute_result"
    }
   ],
   "source": [
    "type(texto_do_numero_decimal)"
   ]
  },
  {
   "cell_type": "code",
   "execution_count": 12,
   "metadata": {},
   "outputs": [
    {
     "data": {
      "text/plain": [
       "7"
      ]
     },
     "execution_count": 12,
     "metadata": {},
     "output_type": "execute_result"
    }
   ],
   "source": [
    "len(texto_do_numero_decimal)"
   ]
  },
  {
   "cell_type": "code",
   "execution_count": 1,
   "metadata": {
    "collapsed": true
   },
   "outputs": [],
   "source": [
    "# Conversor de Temperatura de Fahrenheit para Celsius\n",
    "# ConversorDeTemperatura.py\n",
    "\n",
    "def converteTemp():\n",
    "    F = float(input(\"Digite uma temperatura em Fahrenheit: \"))\n",
    "    return ((F - 32)/9)*5"
   ]
  },
  {
   "cell_type": "code",
   "execution_count": 2,
   "metadata": {},
   "outputs": [
    {
     "name": "stdout",
     "output_type": "stream",
     "text": [
      "Digite uma temperatura em Fahrenheit: 23.65\n"
     ]
    },
    {
     "data": {
      "text/plain": [
       "-4.638888888888889"
      ]
     },
     "execution_count": 2,
     "metadata": {},
     "output_type": "execute_result"
    }
   ],
   "source": [
    "converteTemp()"
   ]
  },
  {
   "cell_type": "code",
   "execution_count": 4,
   "metadata": {},
   "outputs": [
    {
     "name": "stdout",
     "output_type": "stream",
     "text": [
      "Qual o nome da sua mãe? Florinda\n",
      "Qual o nome do seu pai? Navegante Desconhecido\n",
      "Bom dia Sra. Florinda !!! E bom dia Sr. Navegante Desconhecido .\n"
     ]
    }
   ],
   "source": [
    "# Educado.py\n",
    "\n",
    "nomeDaMae = input(\"Qual o nome da sua mãe? \")\n",
    "nomeDoPai = input(\"Qual o nome do seu pai? \")\n",
    "print(\"Bom dia Sra.\", nomeDaMae, \"!!! E bom dia Sr.\", nomeDoPai, \".\")"
   ]
  },
  {
   "cell_type": "code",
   "execution_count": 12,
   "metadata": {},
   "outputs": [
    {
     "name": "stdout",
     "output_type": "stream",
     "text": [
      "Por favor, entre com o número de segundos que deja converter: 80000\n",
      "22 horas,  13 minutos e 20 segundos.\n"
     ]
    }
   ],
   "source": [
    "# ContaSegundos.py\n",
    "\n",
    "segundos_str = input(\"Por favor, entre com o número de segundos que deseja converter: \")\n",
    "total_segs = int(segundos_str)\n",
    "\n",
    "horas = total_segs // 3600                   # a quantidade de horas é a divisão inteira (3600s = 1h)\n",
    "segs_restantes = total_segs % 3600           # o resto da divisão são os segundos restantes\n",
    "minutos = segs_restantes // 60               # os minutos são os segundos restantes acima dividido por 60 (60s = 1 min)\n",
    "segs_restantes_final = segs_restantes % 60   # os segundos finais é o resto de segs_restantes por 60\n",
    "\n",
    "print(horas, \"horas, \", minutos, \"minutos e\", segs_restantes_final, \"segundos.\")"
   ]
  },
  {
   "cell_type": "code",
   "execution_count": 14,
   "metadata": {},
   "outputs": [
    {
     "name": "stdout",
     "output_type": "stream",
     "text": [
      "Por favor, entre com o número de segundos que deja converter: 100000\n",
      "1 dia(s),  3 hora(s),  46 minuto(s) e 40 segundo(s).\n"
     ]
    }
   ],
   "source": [
    "# ContaSegundos2.py\n",
    "\n",
    "segundos_str = input(\"Por favor, entre com o número de segundos que deseja converter: \")\n",
    "total_segs = int(segundos_str)\n",
    "\n",
    "dias = total_segs // (3600 * 24)\n",
    "segs_restantes1 = total_segs % (3600 * 24)\n",
    "\n",
    "horas = segs_restantes1 // 3600                   # a quantidade de horas é a divisão inteira (3600s = 1h)\n",
    "segs_restantes2 = segs_restantes1 % 3600           # o resto da divisão são os segundos restantes\n",
    "\n",
    "minutos = segs_restantes2 // 60               # os minutos são os segundos restantes acima dividido por 60 (60s = 1 min)\n",
    "segs_restantes_final = segs_restantes2 % 60   # os segundos finais é o resto de segs_restantes por 60\n",
    "\n",
    "print(dias, \"dia(s), \", horas, \"hora(s), \", minutos, \"minuto(s) e\", segs_restantes_final, \"segundo(s).\")"
   ]
  },
  {
   "cell_type": "code",
   "execution_count": 15,
   "metadata": {},
   "outputs": [
    {
     "name": "stdout",
     "output_type": "stream",
     "text": [
      "Olá\n",
      "\n",
      "bom dia!\n"
     ]
    }
   ],
   "source": [
    "print(\"Olá\")\n",
    "print()\n",
    "print(\"bom dia!\")"
   ]
  },
  {
   "cell_type": "code",
   "execution_count": 17,
   "metadata": {},
   "outputs": [
    {
     "name": "stdout",
     "output_type": "stream",
     "text": [
      "10 20 15\n"
     ]
    }
   ],
   "source": [
    "a = 10\n",
    "b = 5\n",
    "c = a + b\n",
    "b = 20\n",
    "print(a,b,c)"
   ]
  },
  {
   "cell_type": "code",
   "execution_count": 18,
   "metadata": {},
   "outputs": [
    {
     "name": "stdout",
     "output_type": "stream",
     "text": [
      "40\n"
     ]
    }
   ],
   "source": [
    "A = 10\n",
    "a = 20\n",
    "a = 2 * a\n",
    "A = a + A\n",
    "print(a)"
   ]
  },
  {
   "cell_type": "code",
   "execution_count": 19,
   "metadata": {},
   "outputs": [
    {
     "name": "stdout",
     "output_type": "stream",
     "text": [
      "olámundo\n"
     ]
    }
   ],
   "source": [
    "print (\"olá\" 'mundo')"
   ]
  },
  {
   "cell_type": "code",
   "execution_count": 20,
   "metadata": {},
   "outputs": [
    {
     "name": "stdout",
     "output_type": "stream",
     "text": [
      "Qual a idade? 5\n"
     ]
    }
   ],
   "source": [
    "x = input (\"Qual a idade? \")"
   ]
  },
  {
   "cell_type": "code",
   "execution_count": 22,
   "metadata": {},
   "outputs": [
    {
     "data": {
      "text/plain": [
       "str"
      ]
     },
     "execution_count": 22,
     "metadata": {},
     "output_type": "execute_result"
    }
   ],
   "source": [
    "type(x)"
   ]
  },
  {
   "cell_type": "code",
   "execution_count": 23,
   "metadata": {},
   "outputs": [
    {
     "name": "stdout",
     "output_type": "stream",
     "text": [
      "Qual o valor de a? 1\n",
      "Qual o valor de b? 2\n",
      "2\n",
      "2\n"
     ]
    }
   ],
   "source": [
    "a = int(input(\"Qual o valor de a? \"))\n",
    "b = int(input(\"Qual o valor de b? \"))\n",
    "a = b\n",
    "b = a\n",
    "print(a)\n",
    "print(b)"
   ]
  },
  {
   "cell_type": "code",
   "execution_count": 24,
   "metadata": {},
   "outputs": [
    {
     "name": "stdout",
     "output_type": "stream",
     "text": [
      "Qual o valor de a? 1\n",
      "Qual o valor de b? 2\n",
      "2\n",
      "1\n"
     ]
    }
   ],
   "source": [
    "a = int(input(\"Qual o valor de a? \"))\n",
    "b = int(input(\"Qual o valor de b? \"))\n",
    "aux = a\n",
    "a = b\n",
    "b = aux\n",
    "print(a)\n",
    "print(b)"
   ]
  },
  {
   "cell_type": "markdown",
   "metadata": {
    "collapsed": true
   },
   "source": [
    "### Tarefa de programação: Lista de exercícios - 1"
   ]
  },
  {
   "cell_type": "markdown",
   "metadata": {
    "collapsed": true
   },
   "source": [
    "### Exercício 1\n",
    "\n",
    "Faça um programa em Python que receba (entrada de dados) o valor correspondente ao lado de um quadrado, calcule e imprima (saída de dados) seu perímetro e sua área.\n",
    "\n",
    "Observação: a saída deve estar no formato: \"perímetro: x - área: y\"\n",
    "\n",
    "Abaixo um exemplo de como deve ser a entrada e saída de dados do programa:\n",
    "\n",
    "Exemplo:\n",
    "\n",
    "Entrada de Dados:\n",
    "Digite o valor correspondente ao lado de um quadrado: 3\n",
    "\n",
    "Saída de Dados:\n",
    "perímetro: 12 - área: 9"
   ]
  },
  {
   "cell_type": "code",
   "execution_count": 29,
   "metadata": {
    "collapsed": true
   },
   "outputs": [],
   "source": [
    "lado = int(input('Digite o valor correspondente ao lado de um quadrado:'))\n",
    "    \n",
    "perimetro = 4 * lado\n",
    "area = lado ** 2\n",
    "    \n",
    "print('perímetro:', perimetro, '- área:', area)"
   ]
  },
  {
   "cell_type": "code",
   "execution_count": 30,
   "metadata": {},
   "outputs": [
    {
     "name": "stdout",
     "output_type": "stream",
     "text": [
      "Digite o valor correspondente ao lado de um quadrado:3\n",
      "perímetro: 12 - área: 9\n"
     ]
    }
   ],
   "source": [
    "quadrado()"
   ]
  },
  {
   "cell_type": "markdown",
   "metadata": {},
   "source": [
    "### Exercício 2\n",
    "\n",
    "Faça um programa em Python que receba quatro notas, calcule e imprima a média aritmética. Observe o exemplo abaixo:\n",
    "\n",
    "Exemplo:\n",
    "\n",
    "Entrada de Dados:\n",
    "Digite a primeira nota: 4\n",
    "\n",
    "Digite a segunda nota: 5\n",
    "\n",
    "Digite a terceira nota: 6\n",
    "\n",
    "Digite a quarta nota: 7\n",
    "\n",
    "Saída de Dados:\n",
    "A média aritmética é 5.5"
   ]
  },
  {
   "cell_type": "code",
   "execution_count": 33,
   "metadata": {},
   "outputs": [
    {
     "name": "stdout",
     "output_type": "stream",
     "text": [
      "Digite a primeira nota:4\n",
      "Digite a segunda nota:5\n",
      "Digite a terceira nota:6\n",
      "Digite a quarta nota:7\n",
      "A média aritmética é 5.5\n"
     ]
    }
   ],
   "source": [
    "n1 = int(input('Digite a primeira nota:'))\n",
    "n2 = int(input('Digite a segunda nota:'))\n",
    "n3 = int(input('Digite a terceira nota:'))\n",
    "n4 = int(input('Digite a quarta nota:'))\n",
    "    \n",
    "media = (n1 + n2 + n3 + n4) / 4\n",
    "               \n",
    "print(\"A média aritmética é\", media)"
   ]
  },
  {
   "cell_type": "markdown",
   "metadata": {},
   "source": [
    "### Praticar tarefa de programação: Exercícios adicionais (opcionais)\n",
    "\n",
    "Exercício 1\n",
    "\n",
    "Uma empresa de cartão de crédito envia suas faturas por email com a seguinte mensagem:\n",
    "\n",
    "Olá, Fulano de Tal\n",
    "\n",
    "A sua fatura com vencimento em 9 de Janeiro no valor de R$ 350,00 está fechada.\n",
    "\n",
    "Escreva um programa que receba (entrada de dados através do teclado) o nome do cliente, o dia de vencimento, o mês de vencimento e o valor da fatura e imprima (saída de dados) a mensagem com os dados recebidos, no mesmo formato da mensagem acima. Note que o programa imprime a saída em duas linhas diferentes. Note também que, como não é preciso realizar cálculos, o valor não precisa ser convertido para número, pode ser tratado como texto.\n",
    "\n",
    "Abaixo um exemplo de como deve ser a entrada e saída de dados do programa:\n",
    "\n",
    "Exemplo:\n",
    "\n",
    "Entrada de Dados:\n",
    "\n",
    "Digite o nome do cliente: Fulano de Tal\n",
    "\n",
    "Digite o dia de vencimento: 9\n",
    "\n",
    "Digite o mês de vencimento: Janeiro\n",
    "\n",
    "Digite o valor da fatura: 350,00\n",
    "\n",
    "\n",
    "Saída de Dados:\n",
    "\n",
    "Olá, Fulano de Tal\n",
    "A sua fatura com vencimento em 9 de Janeiro no valor de R$ 350,00 está fechada."
   ]
  },
  {
   "cell_type": "code",
   "execution_count": 1,
   "metadata": {},
   "outputs": [
    {
     "name": "stdout",
     "output_type": "stream",
     "text": [
      "Digite o nome do cliente: Fulano de Tal\n",
      "Digite o dia de vencimento: 9\n",
      "Digite o mês de vencimento: Janeiro\n",
      "Digite o valor da fatura: 350,00\n",
      "Olá, Fulano de Tal\n",
      "A sua fatura com vencimento em 9 de Janeiro no valor de R$ 350,00 está fechada.\n"
     ]
    }
   ],
   "source": [
    "nome = input(\"Digite o nome do cliente: \")\n",
    "dia_venc = input(\"Digite o dia de vencimento: \")\n",
    "mes_venc = input(\"Digite o mês de vencimento: \")\n",
    "valor = input(\"Digite o valor da fatura: \")\n",
    "\n",
    "print(\"Olá,\", nome)\n",
    "print(\"A sua fatura com vencimento em\", dia_venc, \"de\", mes_venc, \"no valor de R$\", valor, \"está fechada.\")"
   ]
  },
  {
   "cell_type": "markdown",
   "metadata": {},
   "source": [
    "Exercício 2\n",
    "\n",
    "Este é o desafio do vídeo \"Entrada de Dados\".\n",
    "\n",
    "Reescreva o programa contaSegundos para imprimir também a quantidade de dias, ou seja, faça um programa em Python que, dada a quantidade de segundos, \"quebre\" esse valor em dias, horas, minutos e segundos. A saída deve estar no formato: a dias, b horas, c minutos e d segundos. Seja cuidadoso com o formato! Espaços a mais, vírgulas faltando ou outras diferenças são considerados erro\n",
    "\n",
    "Abaixo um exemplo de como deve ser a entrada e saída de dados do programa:\n",
    "\n",
    "Exemplo:\n",
    "\n",
    "Entrada de Dados:\n",
    "Por favor, entre com o número de segundos que deseja converter: 178615\n",
    "\n",
    "Saída de Dados:\n",
    "2 dias, 1 horas, 36 minutos e 55 segundos."
   ]
  },
  {
   "cell_type": "code",
   "execution_count": 41,
   "metadata": {},
   "outputs": [
    {
     "name": "stdout",
     "output_type": "stream",
     "text": [
      "Por favor, entre com o número de segundos que deseja converter: 178615\n",
      "2 dias,  1 horas,  36 minutos e 55 segundos.\n"
     ]
    }
   ],
   "source": [
    "# ContaSegundos2.py\n",
    "\n",
    "segundos_str = input(\"Por favor, entre com o número de segundos que deseja converter: \")\n",
    "total_segs = int(segundos_str)\n",
    "\n",
    "a = total_segs // (3600 * 24) # quantidade de dias\n",
    "segs_restantes1 = total_segs % (3600 * 24)\n",
    "\n",
    "b = segs_restantes1 // 3600                   # a quantidade de horas é a divisão inteira (3600s = 1h)\n",
    "segs_restantes2 = segs_restantes1 % 3600           # o resto da divisão são os segundos restantes\n",
    "\n",
    "c = segs_restantes2 // 60               # os minutos são os segundos restantes acima dividido por 60 (60s = 1 min)\n",
    "d = segs_restantes2 % 60   # os segundos finais é o resto de segs_restantes por 60\n",
    "\n",
    "print(a, \"dias, \", b, \"horas, \", c, \"minutos e\", d, \"segundos.\")"
   ]
  },
  {
   "cell_type": "markdown",
   "metadata": {},
   "source": [
    "Exercício 3\n",
    "\n",
    "Faça um programa em Python que recebe um número inteiro e imprime seu dígito das dezenas. Observe o exemplo abaixo:\n",
    "\n",
    "Exemplo 1:\n",
    "\n",
    "Entrada de Dados:\n",
    "Digite um número inteiro: 78615\n",
    "\n",
    "Saída de Dados:\n",
    "O dígito das dezenas é 1\n",
    "\n",
    "Exemplo 2:\n",
    "\n",
    "Entrada de Dados:\n",
    "Digite um número inteiro: 2\n",
    "\n",
    "Saída de Dados:\n",
    "O dígito das dezenas é 0\n",
    "\n",
    "Dica: O operador \"//\" faz uma divisão inteira jogando fora o resto, ou seja, aquilo que é menor que o divisor. O operador \"%\" devolve apenas o resto da divisão inteira jogando fora o resultado, ou seja, tudo que é maior ou igual ao divisor."
   ]
  },
  {
   "cell_type": "code",
   "execution_count": 75,
   "metadata": {},
   "outputs": [
    {
     "name": "stdout",
     "output_type": "stream",
     "text": [
      "Digite um número inteiro: 2\n",
      "O dígito das dezenas é 0\n"
     ]
    }
   ],
   "source": [
    "numero_inteiro = int(input(\"Digite um número inteiro: \"))\n",
    "\n",
    "temp = numero_inteiro // 10\n",
    "digito_dezena = temp % 10\n",
    "\n",
    "print(\"O dígito das dezenas é\", digito_dezena)"
   ]
  },
  {
   "cell_type": "code",
   "execution_count": 71,
   "metadata": {
    "collapsed": true
   },
   "outputs": [],
   "source": [
    "num = 78615"
   ]
  },
  {
   "cell_type": "code",
   "execution_count": 72,
   "metadata": {},
   "outputs": [
    {
     "data": {
      "text/plain": [
       "7861"
      ]
     },
     "execution_count": 72,
     "metadata": {},
     "output_type": "execute_result"
    }
   ],
   "source": [
    "a = num // 10\n",
    "a"
   ]
  },
  {
   "cell_type": "code",
   "execution_count": 73,
   "metadata": {},
   "outputs": [
    {
     "data": {
      "text/plain": [
       "1"
      ]
     },
     "execution_count": 73,
     "metadata": {},
     "output_type": "execute_result"
    }
   ],
   "source": [
    "b = a % 10\n",
    "b"
   ]
  },
  {
   "cell_type": "markdown",
   "metadata": {
    "collapsed": true
   },
   "source": [
    "# Expressões Booleanas"
   ]
  },
  {
   "cell_type": "code",
   "execution_count": 1,
   "metadata": {},
   "outputs": [
    {
     "data": {
      "text/plain": [
       "bool"
      ]
     },
     "execution_count": 1,
     "metadata": {},
     "output_type": "execute_result"
    }
   ],
   "source": [
    "type(False)"
   ]
  },
  {
   "cell_type": "code",
   "execution_count": 3,
   "metadata": {
    "collapsed": true
   },
   "outputs": [],
   "source": [
    "x = 3"
   ]
  },
  {
   "cell_type": "code",
   "execution_count": 4,
   "metadata": {},
   "outputs": [
    {
     "data": {
      "text/plain": [
       "bool"
      ]
     },
     "execution_count": 4,
     "metadata": {},
     "output_type": "execute_result"
    }
   ],
   "source": [
    "type(x > 0)"
   ]
  },
  {
   "cell_type": "code",
   "execution_count": 6,
   "metadata": {},
   "outputs": [
    {
     "data": {
      "text/plain": [
       "True"
      ]
     },
     "execution_count": 6,
     "metadata": {},
     "output_type": "execute_result"
    }
   ],
   "source": [
    "x > 2 and x < 100"
   ]
  },
  {
   "cell_type": "code",
   "execution_count": 7,
   "metadata": {},
   "outputs": [
    {
     "data": {
      "text/plain": [
       "True"
      ]
     },
     "execution_count": 7,
     "metadata": {},
     "output_type": "execute_result"
    }
   ],
   "source": [
    "x > 2"
   ]
  },
  {
   "cell_type": "code",
   "execution_count": 8,
   "metadata": {},
   "outputs": [
    {
     "data": {
      "text/plain": [
       "False"
      ]
     },
     "execution_count": 8,
     "metadata": {},
     "output_type": "execute_result"
    }
   ],
   "source": [
    "not x > 2"
   ]
  },
  {
   "cell_type": "code",
   "execution_count": 9,
   "metadata": {},
   "outputs": [
    {
     "data": {
      "text/plain": [
       "False"
      ]
     },
     "execution_count": 9,
     "metadata": {},
     "output_type": "execute_result"
    }
   ],
   "source": [
    "not True"
   ]
  },
  {
   "cell_type": "code",
   "execution_count": 10,
   "metadata": {},
   "outputs": [
    {
     "data": {
      "text/plain": [
       "True"
      ]
     },
     "execution_count": 10,
     "metadata": {},
     "output_type": "execute_result"
    }
   ],
   "source": [
    "not False"
   ]
  },
  {
   "cell_type": "code",
   "execution_count": 11,
   "metadata": {},
   "outputs": [
    {
     "data": {
      "text/plain": [
       "True"
      ]
     },
     "execution_count": 11,
     "metadata": {},
     "output_type": "execute_result"
    }
   ],
   "source": [
    "not not True"
   ]
  },
  {
   "cell_type": "code",
   "execution_count": 12,
   "metadata": {},
   "outputs": [
    {
     "data": {
      "text/plain": [
       "True"
      ]
     },
     "execution_count": 12,
     "metadata": {},
     "output_type": "execute_result"
    }
   ],
   "source": [
    "not not not False"
   ]
  },
  {
   "cell_type": "code",
   "execution_count": 13,
   "metadata": {},
   "outputs": [
    {
     "data": {
      "text/plain": [
       "False"
      ]
     },
     "execution_count": 13,
     "metadata": {},
     "output_type": "execute_result"
    }
   ],
   "source": [
    "fizerSol = True\n",
    "forFeriado = False\n",
    "vouParaPraia = fizerSol and forFeriado\n",
    "vouParaPraia"
   ]
  },
  {
   "cell_type": "code",
   "execution_count": 14,
   "metadata": {},
   "outputs": [
    {
     "data": {
      "text/plain": [
       "True"
      ]
     },
     "execution_count": 14,
     "metadata": {},
     "output_type": "execute_result"
    }
   ],
   "source": [
    "forFeriado = True\n",
    "vouParaPraia = fizerSol and forFeriado\n",
    "vouParaPraia"
   ]
  },
  {
   "cell_type": "markdown",
   "metadata": {},
   "source": [
    "<img src=\"./precedenciapython.png\">"
   ]
  },
  {
   "cell_type": "code",
   "execution_count": 15,
   "metadata": {
    "collapsed": true
   },
   "outputs": [],
   "source": [
    "y = 50"
   ]
  },
  {
   "cell_type": "code",
   "execution_count": 16,
   "metadata": {},
   "outputs": [
    {
     "data": {
      "text/plain": [
       "False"
      ]
     },
     "execution_count": 16,
     "metadata": {},
     "output_type": "execute_result"
    }
   ],
   "source": [
    "x > 0 and not y == 50 or x + y == 150"
   ]
  },
  {
   "cell_type": "code",
   "execution_count": 20,
   "metadata": {},
   "outputs": [
    {
     "data": {
      "text/plain": [
       "False"
      ]
     },
     "execution_count": 20,
     "metadata": {},
     "output_type": "execute_result"
    }
   ],
   "source": [
    "((x > 0) and (not y == 50)) or (x + y == 150)"
   ]
  },
  {
   "cell_type": "code",
   "execution_count": 21,
   "metadata": {},
   "outputs": [
    {
     "data": {
      "text/plain": [
       "True"
      ]
     },
     "execution_count": 21,
     "metadata": {},
     "output_type": "execute_result"
    }
   ],
   "source": [
    "(x > 0) or (x <= 0)"
   ]
  },
  {
   "cell_type": "code",
   "execution_count": 23,
   "metadata": {},
   "outputs": [
    {
     "name": "stdout",
     "output_type": "stream",
     "text": [
      "False\n"
     ]
    }
   ],
   "source": [
    "idade=15\n",
    "maioridade=18\n",
    "pode_dirigir = idade >= maioridade\n",
    "print (pode_dirigir)"
   ]
  },
  {
   "cell_type": "code",
   "execution_count": 24,
   "metadata": {},
   "outputs": [
    {
     "ename": "NameError",
     "evalue": "name 'laranja' is not defined",
     "output_type": "error",
     "traceback": [
      "\u001b[0;31m---------------------------------------------------------------------------\u001b[0m",
      "\u001b[0;31mNameError\u001b[0m                                 Traceback (most recent call last)",
      "\u001b[0;32m<ipython-input-24-01bbbe5758cc>\u001b[0m in \u001b[0;36m<module>\u001b[0;34m()\u001b[0m\n\u001b[0;32m----> 1\u001b[0;31m \u001b[0mfruta\u001b[0m \u001b[0;34m=\u001b[0m \u001b[0mlaranja\u001b[0m\u001b[0;34m\u001b[0m\u001b[0m\n\u001b[0m",
      "\u001b[0;31mNameError\u001b[0m: name 'laranja' is not defined"
     ]
    }
   ],
   "source": [
    "fruta = laranja"
   ]
  },
  {
   "cell_type": "code",
   "execution_count": 25,
   "metadata": {},
   "outputs": [
    {
     "name": "stdout",
     "output_type": "stream",
     "text": [
      "True\n"
     ]
    }
   ],
   "source": [
    "x = 10\n",
    "y = 15\n",
    "z = 25\n",
    "print(x == z - y and z != y - x or not y != z - x)"
   ]
  },
  {
   "cell_type": "code",
   "execution_count": 27,
   "metadata": {},
   "outputs": [
    {
     "name": "stdout",
     "output_type": "stream",
     "text": [
      "True\n"
     ]
    }
   ],
   "source": [
    "x = 10\n",
    "y = 20\n",
    "z = 30\n",
    "\n",
    "print(x >= 10 or y != z - x)\n"
   ]
  },
  {
   "cell_type": "code",
   "execution_count": 28,
   "metadata": {},
   "outputs": [
    {
     "name": "stdout",
     "output_type": "stream",
     "text": [
      "False\n"
     ]
    }
   ],
   "source": [
    "print(not y > 10 or not z > 10)"
   ]
  },
  {
   "cell_type": "code",
   "execution_count": 29,
   "metadata": {},
   "outputs": [
    {
     "name": "stdout",
     "output_type": "stream",
     "text": [
      "True\n"
     ]
    }
   ],
   "source": [
    "print(not y < 10 or not z == 10)"
   ]
  },
  {
   "cell_type": "code",
   "execution_count": 30,
   "metadata": {},
   "outputs": [
    {
     "name": "stdout",
     "output_type": "stream",
     "text": [
      "True\n"
     ]
    }
   ],
   "source": [
    "print(x <= 30 and y >= 5)"
   ]
  },
  {
   "cell_type": "markdown",
   "metadata": {},
   "source": [
    "# Execução Condicional"
   ]
  },
  {
   "cell_type": "code",
   "execution_count": 31,
   "metadata": {},
   "outputs": [
    {
     "data": {
      "text/plain": [
       "True"
      ]
     },
     "execution_count": 31,
     "metadata": {},
     "output_type": "execute_result"
    }
   ],
   "source": [
    "1 + 1 + 1 == 3"
   ]
  },
  {
   "cell_type": "code",
   "execution_count": 33,
   "metadata": {
    "collapsed": true
   },
   "outputs": [],
   "source": [
    "is_ready = True"
   ]
  },
  {
   "cell_type": "code",
   "execution_count": 34,
   "metadata": {},
   "outputs": [
    {
     "data": {
      "text/plain": [
       "bool"
      ]
     },
     "execution_count": 34,
     "metadata": {},
     "output_type": "execute_result"
    }
   ],
   "source": [
    "type(is_ready)"
   ]
  },
  {
   "cell_type": "code",
   "execution_count": 36,
   "metadata": {},
   "outputs": [
    {
     "name": "stdout",
     "output_type": "stream",
     "text": [
      "10\n"
     ]
    }
   ],
   "source": [
    "if(is_ready):\n",
    "    print(10)"
   ]
  },
  {
   "cell_type": "code",
   "execution_count": 38,
   "metadata": {},
   "outputs": [
    {
     "name": "stdout",
     "output_type": "stream",
     "text": [
      "texto com 10 ou menos caracteres\n"
     ]
    }
   ],
   "source": [
    "texto = \"computação\"\n",
    "if len(texto) > 10:\n",
    "    print (\"texto com mais de 10 caracteres\")\n",
    "else:\n",
    "    print (\"texto com 10 ou menos caracteres\")"
   ]
  },
  {
   "cell_type": "code",
   "execution_count": 40,
   "metadata": {},
   "outputs": [
    {
     "data": {
      "text/plain": [
       "True"
      ]
     },
     "execution_count": 40,
     "metadata": {},
     "output_type": "execute_result"
    }
   ],
   "source": [
    "x = 10\n",
    "y = 20\n",
    "\n",
    "x > y or x < y"
   ]
  },
  {
   "cell_type": "code",
   "execution_count": 41,
   "metadata": {},
   "outputs": [
    {
     "data": {
      "text/plain": [
       "True"
      ]
     },
     "execution_count": 41,
     "metadata": {},
     "output_type": "execute_result"
    }
   ],
   "source": [
    "not (x == y)"
   ]
  },
  {
   "cell_type": "code",
   "execution_count": 43,
   "metadata": {},
   "outputs": [
    {
     "name": "stdout",
     "output_type": "stream",
     "text": [
      "Foguete não tem piloto, mas há outros foguetes disponíveis!\n"
     ]
    }
   ],
   "source": [
    "a = 0\n",
    "b = 2\n",
    "c = 1\n",
    "\n",
    "if (a > 0):\n",
    "    if (b > 0):\n",
    "        print (\"Tudo ok para decolagem!\")\n",
    "    else:\n",
    "        print (\"Tanque principal vazio; voando com combustível reserva!\")\n",
    "else:\n",
    "    if (c > 0):\n",
    "        print (\"Foguete não tem piloto, mas há outros foguetes disponíveis!\")"
   ]
  },
  {
   "cell_type": "markdown",
   "metadata": {},
   "source": [
    "# Exercício Resolvido"
   ]
  },
  {
   "cell_type": "code",
   "execution_count": 50,
   "metadata": {},
   "outputs": [
    {
     "name": "stdout",
     "output_type": "stream",
     "text": [
      "Digite o valor de a:10\n",
      "Digite o valor de b:20\n",
      "Digite o valor de c:10\n",
      "A única raiz é: -1.0\n"
     ]
    }
   ],
   "source": [
    "import math\n",
    "\n",
    "a = float(input(\"Digite o valor de a:\"))\n",
    "b = float(input(\"Digite o valor de b:\"))\n",
    "c = float(input(\"Digite o valor de c:\"))\n",
    "\n",
    "delta = b ** 2 - 4 * a * c\n",
    "\n",
    "if delta == 0: \n",
    "    raiz1 = (-b + math.sqrt(delta))/ (2 * a)\n",
    "    print(\"A única raiz é:\", raiz1)\n",
    "else:\n",
    "    if delta < 0:\n",
    "        print(\"Esta equação não possui raízes reais\")\n",
    "    else:\n",
    "        raiz2 = (-b - math.sqrt(delta))/ (2 * a)\n",
    "        print(\"A primeira raiz é:\", raiz1)\n",
    "        print(\"A segunda raiz é:\", raiz2)\n",
    "        \n",
    "# 10 25 10 ==> -0,5, -2.0\n",
    "# 10 20 10 ==> -1.0 -1.0\n",
    "# 10 20 10 ==> -1.0\n",
    "# 10 10 10 ==> não possuí raízes reais"
   ]
  },
  {
   "cell_type": "markdown",
   "metadata": {},
   "source": [
    "# Tarefa de programação: Lista de exercícios - 2\n",
    "\n",
    "Exercício 1 - Par ou ímpar?\n",
    "\n",
    "Receba um número inteiro na entrada e imprima\n",
    "\n",
    "par\n",
    "\n",
    "quando o número for par ou\n",
    "\n",
    "ímpar\n",
    "\n",
    "quando o número for ímpar."
   ]
  },
  {
   "cell_type": "code",
   "execution_count": 52,
   "metadata": {},
   "outputs": [
    {
     "name": "stdout",
     "output_type": "stream",
     "text": [
      "Insira um número inteiro, por favor: 13\n",
      "ímpar\n"
     ]
    }
   ],
   "source": [
    "x = int(input('Insira um número inteiro, por favor: '))\n",
    "\n",
    "if x % 2 == 0:\n",
    "    print('par')\n",
    "else:\n",
    "    print('ímpar')"
   ]
  },
  {
   "cell_type": "markdown",
   "metadata": {},
   "source": [
    "Exercícios 2 - FizzBuzz parcial, parte 1\n",
    "\n",
    "Receba um número inteiro na entrada e imprima\n",
    "\n",
    "Fizz\n",
    "\n",
    "se o número for divisível por 3. Caso contrário, imprima o mesmo número que foi dado na entrada."
   ]
  },
  {
   "cell_type": "code",
   "execution_count": 55,
   "metadata": {},
   "outputs": [
    {
     "name": "stdout",
     "output_type": "stream",
     "text": [
      "Insira um número inteiro, por favor: 10\n",
      "10\n"
     ]
    }
   ],
   "source": [
    "x = int(input('Insira um número inteiro, por favor: '))\n",
    "\n",
    "if x % 3 == 0:\n",
    "    print('Fizz')\n",
    "else:\n",
    "    print(x)"
   ]
  },
  {
   "cell_type": "markdown",
   "metadata": {},
   "source": [
    "Exercícios 3 - FizzBuzz parcial, parte 2\n",
    "\n",
    "Receba um número inteiro na entrada e imprima\n",
    "\n",
    "Buzz\n",
    "\n",
    "se o número for divisível por 5. Caso contrário, imprima o mesmo número que foi dado na entrada."
   ]
  },
  {
   "cell_type": "code",
   "execution_count": 58,
   "metadata": {},
   "outputs": [
    {
     "name": "stdout",
     "output_type": "stream",
     "text": [
      "Insira um número inteiro, por favor: 10\n",
      "Buzz\n"
     ]
    }
   ],
   "source": [
    "x = int(input('Insira um número inteiro, por favor: '))\n",
    "\n",
    "if x % 5 == 0:\n",
    "    print('Buzz')\n",
    "else:\n",
    "    print(x)"
   ]
  },
  {
   "cell_type": "markdown",
   "metadata": {},
   "source": [
    "Exercícios 4 - FizzBuzz parcial, parte 3\n",
    "\n",
    "Receba um número inteiro na entrada e imprima\n",
    "\n",
    "FizzBuzz\n",
    "\n",
    "na saída se o número for divisível por 3 e por 5. Caso contrário, imprima o mesmo número que foi dado na entrada."
   ]
  },
  {
   "cell_type": "code",
   "execution_count": 59,
   "metadata": {},
   "outputs": [
    {
     "name": "stdout",
     "output_type": "stream",
     "text": [
      "Insira um número inteiro, por favor: 15\n",
      "FizzBuzz\n"
     ]
    }
   ],
   "source": [
    "x = int(input('Insira um número inteiro, por favor: '))\n",
    "\n",
    "if x % 3 == 0 and x % 5 == 0:\n",
    "    print('FizzBuzz')\n",
    "else:\n",
    "    print(x)"
   ]
  },
  {
   "cell_type": "markdown",
   "metadata": {},
   "source": [
    "Exercício 5 - Verificando ordenação\n",
    "\n",
    "Receba 3 números inteiros na entrada e imprima\n",
    "\n",
    "crescente\n",
    "\n",
    "se eles forem dados em ordem crescente. Caso contrário, imprima\n",
    "\n",
    "não está em ordem crescente"
   ]
  },
  {
   "cell_type": "code",
   "execution_count": 61,
   "metadata": {},
   "outputs": [
    {
     "name": "stdout",
     "output_type": "stream",
     "text": [
      "Insira o primeiro número inteiro, por favor: 2\n",
      "Insira o segundo número inteiro, por favor: 3\n",
      "Insira o terceiro número inteiro, por favor: 4\n",
      "crescente\n"
     ]
    }
   ],
   "source": [
    "x = int(input('Insira o primeiro número inteiro, por favor: '))\n",
    "y = int(input('Insira o segundo número inteiro, por favor: '))\n",
    "z = int(input('Insira o terceiro número inteiro, por favor: '))\n",
    "\n",
    "if z > y and y > x:\n",
    "    print('crescente')\n",
    "else:\n",
    "    print('não está em ordem crescente')"
   ]
  },
  {
   "cell_type": "markdown",
   "metadata": {},
   "source": [
    "# Praticar tarefa de programação: Exercícios adicionais (opcionais)"
   ]
  },
  {
   "cell_type": "markdown",
   "metadata": {},
   "source": [
    "Exercício 1 - Distância entre dois pontos\n",
    "\n",
    "Receba 4 números inteiros na entrada. Os dois primeiros devem corresponder, respectivamente, às coordenadas x e y de um ponto em um plano cartesiano. Os dois últimos devem corresponder, respectivamente, às coordenadas x e y de um outro ponto no mesmo plano.\n",
    "\n",
    "Calcule a distância entre os dois pontos. Se a distância for maior ou igual a 10, imprima\n",
    "\n",
    "longe\n",
    "\n",
    "na saída. Caso o contrário, quando a distância for menor que 10, imprima\n",
    "\n",
    "perto\n",
    "\n"
   ]
  },
  {
   "cell_type": "code",
   "execution_count": 63,
   "metadata": {},
   "outputs": [
    {
     "name": "stdout",
     "output_type": "stream",
     "text": [
      "Insira o primeiro número inteiro, por favor: 0\n",
      "Insira o segundo número inteiro, por favor: 0\n",
      "Insira o terceiro número inteiro, por favor: 20\n",
      "Insira o quarto número inteiro, por favor: 20\n",
      "longe\n"
     ]
    }
   ],
   "source": [
    "x1 = int(input('Insira o primeiro número inteiro, por favor: '))\n",
    "y1 = int(input('Insira o segundo número inteiro, por favor: '))\n",
    "x2 = int(input('Insira o terceiro número inteiro, por favor: '))\n",
    "y2 = int(input('Insira o quarto número inteiro, por favor: '))\n",
    "\n",
    "import math\n",
    "\n",
    "distancia = math.sqrt((x2 - x1) ** 2 + (y2 - y1) ** 2)\n",
    "\n",
    "if distancia >= 10:\n",
    "    print('longe')\n",
    "else:\n",
    "    print('perto')"
   ]
  },
  {
   "cell_type": "markdown",
   "metadata": {},
   "source": [
    "Exercício 2 - Desafio da videoaula\n",
    "\n",
    "Como pedido na videoaula desta semana, escreva um programa que calcula as raízes de uma equação do segundo grau.\n",
    "\n",
    "O programa deve receber os parâmetros a, b, e c da equação ax2+bx+c, respectivamente, e imprimir o resultado na saída da seguinte maneira:\n",
    "\n",
    "Quando não houver raízes reais imprima:\n",
    "\n",
    "esta equação não possui raízes reais\n",
    "\n",
    "Quando houver apenas uma raiz real imprima:\n",
    "\n",
    "a raiz desta equação é X\n",
    "\n",
    "onde X é o valor da raiz\n",
    "\n",
    "Quando houver duas raízes reais imprima:\n",
    "\n",
    "as raízes da equação são X e Y\n",
    "\n",
    "onde X e Y são os valor das raízes.\n",
    "\n",
    "Além disso, no caso de existirem 2 raízes reais, elas devem ser impressas em ordem crescente, ou seja, X deve ser menor que Y."
   ]
  },
  {
   "cell_type": "code",
   "execution_count": 77,
   "metadata": {},
   "outputs": [
    {
     "name": "stdout",
     "output_type": "stream",
     "text": [
      "Digite o valor de a:10\n",
      "Digite o valor de b:25\n",
      "Digite o valor de c:10\n",
      "as raízes da equação são -2.0 e -1.0\n"
     ]
    }
   ],
   "source": [
    "import math\n",
    "\n",
    "a = float(input(\"Digite o valor de a:\"))\n",
    "b = float(input(\"Digite o valor de b:\"))\n",
    "c = float(input(\"Digite o valor de c:\"))\n",
    "\n",
    "delta = b ** 2 - 4 * a * c\n",
    "\n",
    "if delta == 0: \n",
    "    raiz1 = (-b + math.sqrt(delta))/ (2 * a)\n",
    "    print(\"a raiz desta equação é\", raiz1)\n",
    "else:\n",
    "    if delta < 0:\n",
    "        print(\"esta equação não possui raízes reais\")\n",
    "    else:\n",
    "        raiz1 = (-b + math.sqrt(delta))/ (2 * a)\n",
    "        raiz2 = (-b - math.sqrt(delta))/ (2 * a)\n",
    "        if raiz1 < raiz2:\n",
    "            print(\"as raízes da equação são\", raiz1, \"e\", raiz2)\n",
    "        else:\n",
    "            print(\"as raízes da equação são\", raiz2, \"e\", raiz1)"
   ]
  },
  {
   "cell_type": "code",
   "execution_count": null,
   "metadata": {
    "collapsed": true
   },
   "outputs": [],
   "source": [
    "# 10 25 10 ==> -0,5, -2.0\n",
    "# 10 20 10 ==> -1.0\n",
    "# 10 10 10 ==> não possuí raízes reais"
   ]
  },
  {
   "cell_type": "markdown",
   "metadata": {},
   "source": [
    "# Week 4"
   ]
  },
  {
   "cell_type": "markdown",
   "metadata": {},
   "source": [
    "# Repetição com while"
   ]
  },
  {
   "cell_type": "code",
   "execution_count": 80,
   "metadata": {},
   "outputs": [
    {
     "name": "stdout",
     "output_type": "stream",
     "text": [
      "2^0 =  1\n",
      "2^1 =  2\n",
      "2^2 =  4\n",
      "2^3 =  8\n",
      "2^4 =  16\n",
      "2^5 =  32\n",
      "2^6 =  64\n",
      "2^7 =  128\n",
      "2^8 =  256\n",
      "2^9 =  512\n",
      "2^10 =  1024\n"
     ]
    }
   ],
   "source": [
    "i = 0\n",
    "\n",
    "while i <= 10:\n",
    "    print(\"2^%d = \" % i, 2 ** i)\n",
    "    i += 1"
   ]
  },
  {
   "cell_type": "code",
   "execution_count": 8,
   "metadata": {},
   "outputs": [
    {
     "name": "stdout",
     "output_type": "stream",
     "text": [
      "Digite uma sequência de valores. Digite zero para finalizar.\n",
      "Digite um valor a ser somado:10\n",
      "Digite um valor a ser somado:20\n",
      "Digite um valor a ser somado:10\n",
      "Digite um valor a ser somado:0\n",
      "A soma dos valores digitados é: 40\n"
     ]
    }
   ],
   "source": [
    "print(\"Digite uma sequência de valores. Digite zero para finalizar.\")\n",
    "\n",
    "soma = 0\n",
    "valor = 1\n",
    "\n",
    "while valor != 0:\n",
    "    valor = int(input(\"Digite um valor a ser somado:\"))\n",
    "    soma += valor\n",
    "    \n",
    "print(\"A soma dos valores digitados é:\", soma)"
   ]
  },
  {
   "cell_type": "code",
   "execution_count": 1,
   "metadata": {},
   "outputs": [
    {
     "name": "stdout",
     "output_type": "stream",
     "text": [
      "Digite o tamanho da sequência de números:5\n",
      "Digite um valor a ser multiplicado ao anterior (faltam 5 números):2\n",
      "Digite um valor a ser multiplicado ao anterior (faltam 4 números):3\n",
      "Digite um valor a ser multiplicado ao anterior (faltam 3 números):5\n",
      "Digite um valor a ser multiplicado ao anterior (faltam 2 números):10\n",
      "Digite um valor a ser multiplicado ao anterior (faltam 1 números):20\n",
      "A multiplicação dos valores digitados é: 6000\n"
     ]
    }
   ],
   "source": [
    "tamanho = int(input(\"Digite o tamanho da sequência de números:\"))\n",
    "\n",
    "produto = 1\n",
    "i = 0\n",
    "\n",
    "while i < tamanho:\n",
    "    valor = int(input(\"Digite um valor a ser multiplicado ao anterior (faltam %d números):\" % (tamanho - i)))\n",
    "    produto *= valor\n",
    "    i += 1\n",
    "    \n",
    "print(\"A multiplicação dos valores digitados é:\", produto)"
   ]
  },
  {
   "cell_type": "code",
   "execution_count": 2,
   "metadata": {},
   "outputs": [
    {
     "data": {
      "text/plain": [
       "2"
      ]
     },
     "execution_count": 2,
     "metadata": {},
     "output_type": "execute_result"
    }
   ],
   "source": [
    "# somar todos os números dado um número inteiro. \n",
    "# por exemplo: 6532. A soma é 6 + 5 + 3 + 2 = 16\n",
    "\n",
    "x = 6532\n",
    "\n",
    "x % 10"
   ]
  },
  {
   "cell_type": "code",
   "execution_count": 4,
   "metadata": {},
   "outputs": [
    {
     "data": {
      "text/plain": [
       "653"
      ]
     },
     "execution_count": 4,
     "metadata": {},
     "output_type": "execute_result"
    }
   ],
   "source": [
    "x // 10"
   ]
  },
  {
   "cell_type": "code",
   "execution_count": 6,
   "metadata": {},
   "outputs": [
    {
     "data": {
      "text/plain": [
       "3"
      ]
     },
     "execution_count": 6,
     "metadata": {},
     "output_type": "execute_result"
    }
   ],
   "source": [
    "y = 23\n",
    "y % 10"
   ]
  },
  {
   "cell_type": "code",
   "execution_count": 7,
   "metadata": {},
   "outputs": [
    {
     "data": {
      "text/plain": [
       "2"
      ]
     },
     "execution_count": 7,
     "metadata": {},
     "output_type": "execute_result"
    }
   ],
   "source": [
    "y // 10"
   ]
  },
  {
   "cell_type": "code",
   "execution_count": 12,
   "metadata": {},
   "outputs": [
    {
     "name": "stdout",
     "output_type": "stream",
     "text": [
      "Insira um número inteiro:234\n",
      "A soma dos caracteres é: 9\n"
     ]
    }
   ],
   "source": [
    "x = input(\"Insira um número inteiro:\")\n",
    "\n",
    "tamanho = len(x)\n",
    "valor_x = int(x)\n",
    "\n",
    "soma = 0\n",
    "restante = valor_x\n",
    "\n",
    "for i in range(tamanho):\n",
    "    soma += restante % 10\n",
    "    restante = restante // 10\n",
    "    \n",
    "print('A soma dos caracteres é:', soma)"
   ]
  },
  {
   "cell_type": "code",
   "execution_count": null,
   "metadata": {
    "collapsed": true
   },
   "outputs": [],
   "source": []
  },
  {
   "cell_type": "code",
   "execution_count": 5,
   "metadata": {},
   "outputs": [
    {
     "name": "stdout",
     "output_type": "stream",
     "text": [
      "x vale 4\n"
     ]
    }
   ],
   "source": [
    "x = 1\n",
    "while (x < 4):\n",
    "    x = x + 1\n",
    "print (\"x vale\", x)"
   ]
  },
  {
   "cell_type": "code",
   "execution_count": 6,
   "metadata": {},
   "outputs": [
    {
     "name": "stdout",
     "output_type": "stream",
     "text": [
      "0\n",
      "1\n",
      "2\n",
      "3\n",
      "4\n"
     ]
    }
   ],
   "source": [
    "i = 0\n",
    "while (i< 5):\n",
    "  print (i) \n",
    "  i = i + 1"
   ]
  },
  {
   "cell_type": "code",
   "execution_count": 7,
   "metadata": {},
   "outputs": [
    {
     "name": "stdout",
     "output_type": "stream",
     "text": [
      "2\n",
      "4\n"
     ]
    }
   ],
   "source": [
    "i = 2\n",
    "while True:\n",
    "    if i%3 == 0:\n",
    "        break\n",
    "    print(i)\n",
    "    i += 2"
   ]
  },
  {
   "cell_type": "code",
   "execution_count": 8,
   "metadata": {},
   "outputs": [
    {
     "name": "stdout",
     "output_type": "stream",
     "text": [
      "Olá... 0\n",
      "Olá... 1\n",
      "Olá... 2\n",
      "Olá... 3\n",
      "Olá... 4\n",
      "Olá... 5\n",
      "Olá... 6\n",
      "Olá... 7\n",
      "Olá... 8\n",
      "Olá... 9\n"
     ]
    }
   ],
   "source": [
    "count = 0\n",
    "while (count < 10):\n",
    "     # Ponto A\n",
    "     print (\"Olá...\", count)\n",
    "     count =  count + 1\n",
    "     # Ponto B\n",
    "# Ponto C"
   ]
  },
  {
   "cell_type": "code",
   "execution_count": 9,
   "metadata": {},
   "outputs": [
    {
     "name": "stdout",
     "output_type": "stream",
     "text": [
      "3\n",
      "0\n"
     ]
    }
   ],
   "source": [
    "i = 6\n",
    "while (i > 0):\n",
    "      i = i - 3;\n",
    "      print (i) "
   ]
  },
  {
   "cell_type": "markdown",
   "metadata": {
    "collapsed": true
   },
   "source": [
    "# Variáveis Booleanas"
   ]
  },
  {
   "cell_type": "code",
   "execution_count": 3,
   "metadata": {},
   "outputs": [
    {
     "name": "stdout",
     "output_type": "stream",
     "text": [
      "Digite o primeiro número da sequência: 10\n",
      "Digite o próximo número (inteiro) da sequência (digite zero para sair): 5\n",
      "Digite o próximo número (inteiro) da sequência (digite zero para sair): 11\n",
      "A sequência não está em ordem descrescente! :-(\n"
     ]
    }
   ],
   "source": [
    "decrescente = True\n",
    "\n",
    "anterior = int(input(\"Digite o primeiro número da sequência: \"))\n",
    "valor = 1\n",
    "\n",
    "while valor != 0 and decrescente:\n",
    "    valor = int(input(\"Digite o próximo número (inteiro) da sequência (digite zero para sair): \"))\n",
    "    if valor > anterior:\n",
    "        decrescente = False\n",
    "    anterior = valor\n",
    "    \n",
    "if decrescente:\n",
    "    print(\"A sequência está em ordem decrescente! =D\")\n",
    "else:\n",
    "    print(\"A sequência não está em ordem descrescente! :-(\")"
   ]
  },
  {
   "cell_type": "code",
   "execution_count": 2,
   "metadata": {},
   "outputs": [
    {
     "name": "stdout",
     "output_type": "stream",
     "text": [
      "Digite o número do seu cartão de crédito: 123456789\n",
      "Digite o número do próximo cartão: 654654\n",
      "Digite o número do próximo cartão: 654698654\n",
      "Digite o número do próximo cartão: 0\n",
      "Não encontrei.\n"
     ]
    }
   ],
   "source": [
    "meuCartão = int(input(\"Digite o número do seu cartão de crédito: \"))\n",
    "\n",
    "cartãoLido = 1\n",
    "encontreiMeuCartãoNaLista = False\n",
    "\n",
    "# permanece no while enquanto o caracter não for zero ou não encontrou o número do cartão na lista\n",
    "while cartãoLido != 0 and not encontreiMeuCartãoNaLista:\n",
    "    cartãoLido = int(input(\"Digite o número do próximo cartão: \"))\n",
    "    if cartãoLido == meuCartão:\n",
    "        encontreiMeuCartãoNaLista = True\n",
    "\n",
    "if encontreiMeuCartãoNaLista:\n",
    "    print(\"Encontrei!\")\n",
    "else:\n",
    "    print(\"Não encontrei.\")"
   ]
  },
  {
   "cell_type": "markdown",
   "metadata": {
    "collapsed": true
   },
   "source": [
    "# Exercício desafio\n",
    "\n",
    "Dado um número, verificar se este número tem dois números (caracteres) adjacentes iguais.\n",
    "\n",
    "Ex: 213215 não tem\n",
    "\n",
    "3142254 tem\n"
   ]
  },
  {
   "cell_type": "code",
   "execution_count": 13,
   "metadata": {},
   "outputs": [
    {
     "ename": "IndentationError",
     "evalue": "expected an indented block (<ipython-input-13-a0fed6b6f56b>, line 15)",
     "output_type": "error",
     "traceback": [
      "\u001b[0;36m  File \u001b[0;32m\"<ipython-input-13-a0fed6b6f56b>\"\u001b[0;36m, line \u001b[0;32m15\u001b[0m\n\u001b[0;31m    1.     print(\"Este número NÃO contém dois caracteres adjacentes iguais.\")\u001b[0m\n\u001b[0m     ^\u001b[0m\n\u001b[0;31mIndentationError\u001b[0m\u001b[0;31m:\u001b[0m expected an indented block\n"
     ]
    }
   ],
   "source": [
    "x = input('Insira um valor inteiro:')\n",
    "\n",
    "tamanho = len(x)\n",
    "verifica = False\n",
    "i = 0\n",
    "\n",
    "while i < tamanho - 1:\n",
    "    if x[i] == x[i + 1]:\n",
    "        verifica = True\n",
    "    i += 1\n",
    "    \n",
    "if verifica:\n",
    "    print(\"Este número contém dois caracteres adjacentes iguais.\")\n",
    "else:\n",
    "1.     print(\"Este número NÃO contém dois caracteres adjacentes iguais.\")"
   ]
  },
  {
   "cell_type": "code",
   "execution_count": 14,
   "metadata": {},
   "outputs": [
    {
     "data": {
      "text/plain": [
       "'1'"
      ]
     },
     "execution_count": 14,
     "metadata": {},
     "output_type": "execute_result"
    }
   ],
   "source": [
    "x = str(12245)\n",
    "\n",
    "x[0]"
   ]
  },
  {
   "cell_type": "code",
   "execution_count": 15,
   "metadata": {},
   "outputs": [
    {
     "data": {
      "text/plain": [
       "True"
      ]
     },
     "execution_count": 15,
     "metadata": {},
     "output_type": "execute_result"
    }
   ],
   "source": [
    "x[2] == x[1]"
   ]
  },
  {
   "cell_type": "markdown",
   "metadata": {
    "collapsed": true
   },
   "source": [
    "# Depurador"
   ]
  },
  {
   "cell_type": "code",
   "execution_count": 16,
   "metadata": {},
   "outputs": [
    {
     "name": "stdout",
     "output_type": "stream",
     "text": [
      "0 Olá Mundo!\n",
      "1 Olá Mundo!\n",
      "2 Olá Mundo!\n",
      "3 Olá Mundo!\n",
      "4 Olá Mundo!\n",
      "5 Olá Mundo!\n",
      "6 Olá Mundo!\n",
      "7 Olá Mundo!\n",
      "8 Olá Mundo!\n",
      "9 Olá Mundo!\n",
      "10 Olá Mundo!\n"
     ]
    }
   ],
   "source": [
    "count = 0\n",
    "while (count <= 10):\n",
    "    print (count, \"Olá Mundo!\")\n",
    "    count = count + 1"
   ]
  },
  {
   "cell_type": "code",
   "execution_count": 17,
   "metadata": {},
   "outputs": [
    {
     "name": "stdout",
     "output_type": "stream",
     "text": [
      "9\n",
      "7\n",
      "5\n",
      "3\n",
      "1\n"
     ]
    }
   ],
   "source": [
    "x = 10\n",
    "while not (x == 0):\n",
    "    x = x-1\n",
    "    if x % 2 != 0: print (x)"
   ]
  },
  {
   "cell_type": "code",
   "execution_count": 21,
   "metadata": {},
   "outputs": [
    {
     "name": "stdout",
     "output_type": "stream",
     "text": [
      "iteração\n",
      "iteração\n"
     ]
    }
   ],
   "source": [
    "i = 1\n",
    "n = 3\n",
    "while i < n:\n",
    "      print(\"iteração\")\n",
    "      i = i + 1"
   ]
  },
  {
   "cell_type": "code",
   "execution_count": 22,
   "metadata": {},
   "outputs": [
    {
     "name": "stdout",
     "output_type": "stream",
     "text": [
      "Digite um número, ou zero para terminar: 1\n",
      "Digite um número, ou zero para terminar: 2\n",
      "Digite um número, ou zero para terminar: 3\n",
      "Digite um número, ou zero para terminar: 4\n",
      "Digite um número, ou zero para terminar: 5\n",
      "Digite um número, ou zero para terminar: 6\n",
      "Digite um número, ou zero para terminar: 7\n",
      "Digite um número, ou zero para terminar: 8\n",
      "Digite um número, ou zero para terminar: 9\n",
      "Digite um número, ou zero para terminar: 10\n",
      "Digite um número, ou zero para terminar: 11\n",
      "Digite um número, ou zero para terminar: 0\n",
      "P =  5\n",
      "I =  6\n"
     ]
    }
   ],
   "source": [
    "terminou = False\n",
    "p = i = 0\n",
    "while (not terminou):\n",
    "    n = int(input(\"Digite um número, ou zero para terminar: \"))\n",
    "    if n == 0:\n",
    "        terminou = True\n",
    "    else:\n",
    "        if n % 2 == 0:\n",
    "            p = p + 1\n",
    "        else:\n",
    "            i = i + 1\n",
    "\n",
    "print (\"P = \", p)\n",
    "print (\"I = \", i)"
   ]
  },
  {
   "cell_type": "markdown",
   "metadata": {
    "collapsed": true
   },
   "source": [
    "# Tarefa de programação: Lista de exercícios - 3"
   ]
  },
  {
   "cell_type": "markdown",
   "metadata": {
    "collapsed": true
   },
   "source": [
    "Exercício 1\n",
    "\n",
    "Escreva um programa que receba um número natural n na entrada e imprima n! (fatorial) na saída.\n",
    "\n",
    "Digite o valor de n: 5\n",
    "\n",
    "120"
   ]
  },
  {
   "cell_type": "code",
   "execution_count": 31,
   "metadata": {},
   "outputs": [
    {
     "name": "stdout",
     "output_type": "stream",
     "text": [
      "Insira um número natural n:5\n",
      "120\n"
     ]
    }
   ],
   "source": [
    "n = int(input(\"Insira um número natural n:\"))\n",
    "\n",
    "i = 1\n",
    "fat = 1\n",
    "\n",
    "while i <= n:\n",
    "    fat *= i\n",
    "    i += 1\n",
    "\n",
    "print(fat)"
   ]
  },
  {
   "cell_type": "code",
   "execution_count": null,
   "metadata": {
    "collapsed": true
   },
   "outputs": [],
   "source": []
  },
  {
   "cell_type": "markdown",
   "metadata": {
    "collapsed": true
   },
   "source": [
    "Exercício 2\n",
    "\n",
    "Receba um número inteiro positivo na entrada e imprima os n primeiros números ímpares naturais. Para a saída, siga o formato do exemplo abaixo.\n",
    "\n",
    "Exemplo:\n",
    "\n",
    "Digite o valor de n: 5\n",
    "\n",
    "1\n",
    "\n",
    "3\n",
    "\n",
    "5\n",
    "\n",
    "7\n",
    "\n",
    "9\n",
    "\n",
    "\n",
    "    "
   ]
  },
  {
   "cell_type": "code",
   "execution_count": 5,
   "metadata": {},
   "outputs": [
    {
     "name": "stdout",
     "output_type": "stream",
     "text": [
      "Insira um número inteiro positivo:5\n",
      "1\n",
      "3\n",
      "5\n",
      "7\n",
      "9\n"
     ]
    }
   ],
   "source": [
    "qtd = int(input(\"Insira um número inteiro positivo:\"))\n",
    "\n",
    "i = 1\n",
    "\n",
    "while qtd > 0:\n",
    "    if i % 2 != 0:\n",
    "        print(i)\n",
    "        qtd -= 1\n",
    "    i += 1   "
   ]
  },
  {
   "cell_type": "code",
   "execution_count": null,
   "metadata": {
    "collapsed": true
   },
   "outputs": [],
   "source": []
  },
  {
   "cell_type": "code",
   "execution_count": null,
   "metadata": {
    "collapsed": true
   },
   "outputs": [],
   "source": []
  },
  {
   "cell_type": "code",
   "execution_count": null,
   "metadata": {
    "collapsed": true
   },
   "outputs": [],
   "source": []
  },
  {
   "cell_type": "code",
   "execution_count": null,
   "metadata": {
    "collapsed": true
   },
   "outputs": [],
   "source": []
  },
  {
   "cell_type": "markdown",
   "metadata": {},
   "source": [
    "Exercício 3\n",
    "\n",
    "Escreva um programa que receba um número inteiro na entrada, calcule e imprima a soma dos dígitos deste número na saída\n",
    "\n",
    "Exemplo:\n",
    "\n",
    "Digite um número inteiro: 123\n",
    "\n",
    "6\n"
   ]
  },
  {
   "cell_type": "code",
   "execution_count": 6,
   "metadata": {},
   "outputs": [
    {
     "name": "stdout",
     "output_type": "stream",
     "text": [
      "Insira um número inteiro:123\n",
      "6\n"
     ]
    }
   ],
   "source": [
    "x = input(\"Insira um número inteiro:\")\n",
    "\n",
    "tamanho = len(x)\n",
    "valor_x = int(x)\n",
    "\n",
    "soma = 0\n",
    "restante = valor_x\n",
    "\n",
    "for i in range(tamanho):\n",
    "    soma += restante % 10\n",
    "    restante = restante // 10\n",
    "    \n",
    "print(soma)"
   ]
  },
  {
   "cell_type": "markdown",
   "metadata": {
    "collapsed": true
   },
   "source": [
    "# Praticar tarefa de programação: Exercícios adicionais (opcionais)"
   ]
  },
  {
   "cell_type": "markdown",
   "metadata": {
    "collapsed": true
   },
   "source": [
    "Exercício 1\n",
    "\n",
    "Escreva um programa que receba um número inteiro positivo na entrada e verifique se é primo. Se o número for primo, imprima \"primo\". Caso contrário, imprima \"não primo\".\n",
    "\n",
    "Exemplos:\n",
    "\n",
    "Digite um número inteiro: 11\n",
    "\n",
    "primo\n",
    "\n",
    "Digite um número inteiro: 12\n",
    "\n",
    "não primo"
   ]
  },
  {
   "cell_type": "code",
   "execution_count": 16,
   "metadata": {},
   "outputs": [
    {
     "name": "stdout",
     "output_type": "stream",
     "text": [
      "Insira um número inteiro positivo:17\n",
      "primo\n"
     ]
    }
   ],
   "source": [
    "x = int(input('Insira um número inteiro positivo:'))\n",
    "\n",
    "divisores = 0\n",
    "\n",
    "for i in range(1, x):\n",
    "    if x % i == 0:\n",
    "        divisores += 1\n",
    "\n",
    "if divisores >= 2:\n",
    "    print('não primo')\n",
    "else:\n",
    "    print('primo')"
   ]
  },
  {
   "cell_type": "markdown",
   "metadata": {},
   "source": [
    "Exercício 2 - Desafio do vídeo \"Repetição com while\"\n",
    "\n",
    "Escreva um programa que receba um número inteiro na entrada e verifique se o número recebido possui ao menos um dígito com um dígito adjacente igual a ele. Caso exista, imprima \"sim\"; se não existir, imprima \"não\".\n",
    "\n",
    "Exemplos:\n",
    "\n",
    "Digite um número inteiro: 123\n",
    "\n",
    "não\n",
    "\n",
    "Digite um número inteiro: 3556\n",
    "\n",
    "sim"
   ]
  },
  {
   "cell_type": "code",
   "execution_count": 18,
   "metadata": {},
   "outputs": [
    {
     "name": "stdout",
     "output_type": "stream",
     "text": [
      "Insira um valor inteiro:3556\n",
      "sim\n"
     ]
    }
   ],
   "source": [
    "x = input('Insira um valor inteiro:')\n",
    "\n",
    "tamanho = len(x)\n",
    "verifica = False\n",
    "i = 0\n",
    "\n",
    "while i < tamanho - 1:\n",
    "    if x[i] == x[i + 1]:\n",
    "        verifica = True\n",
    "    i += 1\n",
    "    \n",
    "if verifica:\n",
    "    print(\"sim\")\n",
    "else:\n",
    "    print(\"não\")"
   ]
  },
  {
   "cell_type": "markdown",
   "metadata": {
    "collapsed": true
   },
   "source": [
    "# Week 5 - Funções (Definição, criação e utilização de funções. Escopo de variável)"
   ]
  },
  {
   "cell_type": "code",
   "execution_count": 1,
   "metadata": {
    "collapsed": true
   },
   "outputs": [],
   "source": [
    "def soma(x, y):\n",
    "    return x + y"
   ]
  },
  {
   "cell_type": "code",
   "execution_count": 2,
   "metadata": {},
   "outputs": [
    {
     "data": {
      "text/plain": [
       "3"
      ]
     },
     "execution_count": 2,
     "metadata": {},
     "output_type": "execute_result"
    }
   ],
   "source": [
    "soma(1, 2)"
   ]
  },
  {
   "cell_type": "code",
   "execution_count": 3,
   "metadata": {},
   "outputs": [
    {
     "data": {
      "text/plain": [
       "1"
      ]
     },
     "execution_count": 3,
     "metadata": {},
     "output_type": "execute_result"
    }
   ],
   "source": [
    "soma(-4, 5)"
   ]
  },
  {
   "cell_type": "code",
   "execution_count": 4,
   "metadata": {},
   "outputs": [
    {
     "data": {
      "text/plain": [
       "15"
      ]
     },
     "execution_count": 4,
     "metadata": {},
     "output_type": "execute_result"
    }
   ],
   "source": [
    "soma(soma(4, 5), 6)"
   ]
  },
  {
   "cell_type": "code",
   "execution_count": 5,
   "metadata": {},
   "outputs": [
    {
     "data": {
      "text/plain": [
       "20"
      ]
     },
     "execution_count": 5,
     "metadata": {},
     "output_type": "execute_result"
    }
   ],
   "source": [
    "soma(3*4, 8)"
   ]
  },
  {
   "cell_type": "code",
   "execution_count": 6,
   "metadata": {},
   "outputs": [
    {
     "data": {
      "text/plain": [
       "(3, 7)"
      ]
     },
     "execution_count": 6,
     "metadata": {},
     "output_type": "execute_result"
    }
   ],
   "source": [
    "soma(1, 2), soma(3, 4)"
   ]
  },
  {
   "cell_type": "markdown",
   "metadata": {
    "collapsed": true
   },
   "source": [
    "<img src=\"coefbin.png\">"
   ]
  },
  {
   "cell_type": "code",
   "execution_count": 10,
   "metadata": {
    "collapsed": true
   },
   "outputs": [],
   "source": [
    "def fat(x):\n",
    "    \n",
    "    if x <= 1:\n",
    "        return 1\n",
    "    else:\n",
    "        return x * fat(x-1)"
   ]
  },
  {
   "cell_type": "code",
   "execution_count": 15,
   "metadata": {},
   "outputs": [
    {
     "data": {
      "text/plain": [
       "120"
      ]
     },
     "execution_count": 15,
     "metadata": {},
     "output_type": "execute_result"
    }
   ],
   "source": [
    "fat(5)"
   ]
  },
  {
   "cell_type": "code",
   "execution_count": 42,
   "metadata": {
    "collapsed": true
   },
   "outputs": [],
   "source": [
    "def coeficiente_binomial(n, k):\n",
    "    \n",
    "    def fat(x):\n",
    "    \n",
    "        if x <= 1:\n",
    "            return 1\n",
    "        else:\n",
    "            return x * fat(x-1)\n",
    "    \n",
    "    numerador = fat(n)\n",
    "    denominador = fat(k) * fat(n - k)\n",
    "    \n",
    "    return numerador // denominador"
   ]
  },
  {
   "cell_type": "code",
   "execution_count": 43,
   "metadata": {},
   "outputs": [
    {
     "data": {
      "text/plain": [
       "6"
      ]
     },
     "execution_count": 43,
     "metadata": {},
     "output_type": "execute_result"
    }
   ],
   "source": [
    "coeficiente_binomial(4, 2)"
   ]
  },
  {
   "cell_type": "code",
   "execution_count": 44,
   "metadata": {},
   "outputs": [
    {
     "data": {
      "text/plain": [
       "120"
      ]
     },
     "execution_count": 44,
     "metadata": {},
     "output_type": "execute_result"
    }
   ],
   "source": [
    "coeficiente_binomial(10, 3)"
   ]
  },
  {
   "cell_type": "markdown",
   "metadata": {
    "collapsed": true
   },
   "source": [
    "# Testes Automatizados - Introdução ao pytest\n",
    "\n"
   ]
  },
  {
   "cell_type": "code",
   "execution_count": 45,
   "metadata": {
    "collapsed": true
   },
   "outputs": [],
   "source": [
    "def func(x):\n",
    "    return x + 1\n",
    "\n",
    "def test_answer():\n",
    "    assert func(3) == 5"
   ]
  },
  {
   "cell_type": "code",
   "execution_count": 46,
   "metadata": {},
   "outputs": [
    {
     "data": {
      "text/plain": [
       "4"
      ]
     },
     "execution_count": 46,
     "metadata": {},
     "output_type": "execute_result"
    }
   ],
   "source": [
    "func(3)"
   ]
  },
  {
   "cell_type": "code",
   "execution_count": 47,
   "metadata": {},
   "outputs": [
    {
     "ename": "AssertionError",
     "evalue": "",
     "output_type": "error",
     "traceback": [
      "\u001b[0;31m---------------------------------------------------------------------------\u001b[0m",
      "\u001b[0;31mAssertionError\u001b[0m                            Traceback (most recent call last)",
      "\u001b[0;32m<ipython-input-47-c2b62e207c05>\u001b[0m in \u001b[0;36m<module>\u001b[0;34m()\u001b[0m\n\u001b[0;32m----> 1\u001b[0;31m \u001b[0mtest_answer\u001b[0m\u001b[0;34m(\u001b[0m\u001b[0;34m)\u001b[0m\u001b[0;34m\u001b[0m\u001b[0m\n\u001b[0m",
      "\u001b[0;32m<ipython-input-45-8be4bdcc7aa6>\u001b[0m in \u001b[0;36mtest_answer\u001b[0;34m()\u001b[0m\n\u001b[1;32m      3\u001b[0m \u001b[0;34m\u001b[0m\u001b[0m\n\u001b[1;32m      4\u001b[0m \u001b[0;32mdef\u001b[0m \u001b[0mtest_answer\u001b[0m\u001b[0;34m(\u001b[0m\u001b[0;34m)\u001b[0m\u001b[0;34m:\u001b[0m\u001b[0;34m\u001b[0m\u001b[0m\n\u001b[0;32m----> 5\u001b[0;31m     \u001b[0;32massert\u001b[0m \u001b[0mfunc\u001b[0m\u001b[0;34m(\u001b[0m\u001b[0;36m3\u001b[0m\u001b[0;34m)\u001b[0m \u001b[0;34m==\u001b[0m \u001b[0;36m5\u001b[0m\u001b[0;34m\u001b[0m\u001b[0m\n\u001b[0m",
      "\u001b[0;31mAssertionError\u001b[0m: "
     ]
    }
   ],
   "source": [
    "test_answer()"
   ]
  },
  {
   "cell_type": "code",
   "execution_count": null,
   "metadata": {
    "collapsed": true
   },
   "outputs": [],
   "source": [
    "# arquivo fatorial_com_teste.py\n",
    "# pytest fatorial_com_teste.py \n",
    "\n",
    "def fatorial(n):\n",
    "    if n < 0:\n",
    "        return 0\n",
    "    \n",
    "    i = fat = 1\n",
    "    while i <= n:\n",
    "        fat = fat * i\n",
    "        i += 1\n",
    "    return fat\n",
    "\n",
    "def test_fatorial0():\n",
    "    assert fatorial(0) == 1\n",
    "    \n",
    "def test_fatorial1():\n",
    "    assert fatorial(1) == 1\n",
    "    \n",
    "def test_fatorial_negativo():\n",
    "    assert fatorial(-10) == 0\n",
    "\n",
    "def test_fatorial4():\n",
    "    assert fatorial(4) == 24    \n",
    "    \n",
    "def test_fatorial5():\n",
    "    assert fatorial(5) == 120   "
   ]
  },
  {
   "cell_type": "markdown",
   "metadata": {},
   "source": [
    "# Tarefa de programação: Lista de exercícios - 4"
   ]
  },
  {
   "cell_type": "markdown",
   "metadata": {},
   "source": [
    "Exercício 1 - Máximo\n",
    "\n",
    "Escreva a função maximo que recebe 2 números inteiros como parâmetro e devolve o maior deles.\n",
    "\n",
    "Note que\n",
    "\n",
    "maximo(3,4) deve devolver 4\n",
    "\n",
    "maximo(0,-1) deve devolver 0"
   ]
  },
  {
   "cell_type": "code",
   "execution_count": 49,
   "metadata": {
    "collapsed": true
   },
   "outputs": [],
   "source": [
    "def maximo(x, y):\n",
    "    \n",
    "    if x > y: \n",
    "        return x\n",
    "    else:\n",
    "        return y   "
   ]
  },
  {
   "cell_type": "code",
   "execution_count": 50,
   "metadata": {},
   "outputs": [
    {
     "data": {
      "text/plain": [
       "4"
      ]
     },
     "execution_count": 50,
     "metadata": {},
     "output_type": "execute_result"
    }
   ],
   "source": [
    "maximo(3,4)"
   ]
  },
  {
   "cell_type": "code",
   "execution_count": 51,
   "metadata": {},
   "outputs": [
    {
     "data": {
      "text/plain": [
       "0"
      ]
     },
     "execution_count": 51,
     "metadata": {},
     "output_type": "execute_result"
    }
   ],
   "source": [
    "maximo(0,-1)"
   ]
  },
  {
   "cell_type": "code",
   "execution_count": null,
   "metadata": {
    "collapsed": true
   },
   "outputs": [],
   "source": []
  },
  {
   "cell_type": "markdown",
   "metadata": {},
   "source": [
    "Exercício 2 - Primos\n",
    "\n",
    "Escreva a função maior_primo que recebe um número inteiro maior ou igual a 2 como parâmetro e devolve o maior número primo menor ou igual ao número passado à função\n",
    "\n",
    "Note que\n",
    "\n",
    "maior_primo(100) deve devolver 97\n",
    "\n",
    "maior_primo(7) deve devolver 7\n",
    "\n",
    "Dica: escreva uma função éPrimo(k) e faça um laço percorrendo os números até o número dado checando se o número é primo ou não; se for, guarde numa variável. Ao fim do laço, o valor armazenado na variável é o maior primo encontrado.\n",
    "\n"
   ]
  },
  {
   "cell_type": "code",
   "execution_count": 64,
   "metadata": {
    "collapsed": true
   },
   "outputs": [],
   "source": [
    "def éPrimo(k):\n",
    "\n",
    "    divisores = 0\n",
    "    for i in range(1,k):\n",
    "        if k % i == 0:\n",
    "            divisores += 1\n",
    "    if divisores >= 2:\n",
    "        return False\n",
    "    else:\n",
    "        return True"
   ]
  },
  {
   "cell_type": "code",
   "execution_count": 68,
   "metadata": {},
   "outputs": [
    {
     "data": {
      "text/plain": [
       "True"
      ]
     },
     "execution_count": 68,
     "metadata": {},
     "output_type": "execute_result"
    }
   ],
   "source": [
    "éPrimo(7)"
   ]
  },
  {
   "cell_type": "code",
   "execution_count": 69,
   "metadata": {},
   "outputs": [
    {
     "data": {
      "text/plain": [
       "True"
      ]
     },
     "execution_count": 69,
     "metadata": {},
     "output_type": "execute_result"
    }
   ],
   "source": [
    "éPrimo(97)"
   ]
  },
  {
   "cell_type": "code",
   "execution_count": 82,
   "metadata": {
    "collapsed": true
   },
   "outputs": [],
   "source": [
    "def maior_primo(n):\n",
    "    \n",
    "    maior_primo = 1\n",
    "    \n",
    "    for i in range(n + 1):\n",
    "        if éPrimo(i) == True:\n",
    "            maior_primo = i\n",
    "    \n",
    "    return maior_primo"
   ]
  },
  {
   "cell_type": "code",
   "execution_count": 83,
   "metadata": {},
   "outputs": [
    {
     "data": {
      "text/plain": [
       "7"
      ]
     },
     "execution_count": 83,
     "metadata": {},
     "output_type": "execute_result"
    }
   ],
   "source": [
    "maior_primo(10)"
   ]
  },
  {
   "cell_type": "code",
   "execution_count": 84,
   "metadata": {},
   "outputs": [
    {
     "data": {
      "text/plain": [
       "11"
      ]
     },
     "execution_count": 84,
     "metadata": {},
     "output_type": "execute_result"
    }
   ],
   "source": [
    "maior_primo(12)"
   ]
  },
  {
   "cell_type": "code",
   "execution_count": 85,
   "metadata": {},
   "outputs": [
    {
     "data": {
      "text/plain": [
       "97"
      ]
     },
     "execution_count": 85,
     "metadata": {},
     "output_type": "execute_result"
    }
   ],
   "source": [
    "maior_primo(100)"
   ]
  },
  {
   "cell_type": "code",
   "execution_count": 86,
   "metadata": {},
   "outputs": [
    {
     "data": {
      "text/plain": [
       "19"
      ]
     },
     "execution_count": 86,
     "metadata": {},
     "output_type": "execute_result"
    }
   ],
   "source": [
    "maior_primo(20)"
   ]
  },
  {
   "cell_type": "code",
   "execution_count": 87,
   "metadata": {},
   "outputs": [
    {
     "data": {
      "text/plain": [
       "29"
      ]
     },
     "execution_count": 87,
     "metadata": {},
     "output_type": "execute_result"
    }
   ],
   "source": [
    "maior_primo(30)"
   ]
  },
  {
   "cell_type": "code",
   "execution_count": 88,
   "metadata": {},
   "outputs": [
    {
     "data": {
      "text/plain": [
       "101"
      ]
     },
     "execution_count": 88,
     "metadata": {},
     "output_type": "execute_result"
    }
   ],
   "source": [
    "maior_primo(101)"
   ]
  },
  {
   "cell_type": "code",
   "execution_count": 89,
   "metadata": {},
   "outputs": [
    {
     "data": {
      "text/plain": [
       "7"
      ]
     },
     "execution_count": 89,
     "metadata": {},
     "output_type": "execute_result"
    }
   ],
   "source": [
    "maior_primo(7)"
   ]
  },
  {
   "cell_type": "markdown",
   "metadata": {},
   "source": [
    "Exercício 3 - Vogais\n",
    "\n",
    "Escreva a função vogal que recebe um único caractere como parâmetro e devolve True se ele for uma vogal e False se for uma consoante.\n",
    "\n",
    "Note que\n",
    "\n",
    "vogal(\"a\") deve devolver True\n",
    "\n",
    "vogal(\"b\") deve devolver False\n",
    "\n",
    "vogal(\"E\") deve devolver True\n",
    "\n",
    "Os valores True e False devolvidos devem ser do tipo bool (booleanos)\n",
    "\n",
    "Dica: Lembre-se que para passar uma vogal como parâmetro ela precisa ser um texto, ou seja, precisa estar entre aspas."
   ]
  },
  {
   "cell_type": "code",
   "execution_count": 76,
   "metadata": {
    "collapsed": true
   },
   "outputs": [],
   "source": [
    "def vogal(c):\n",
    "    \n",
    "    if c == 'a' or c == 'e' or c == 'i' or c == 'o' or c == 'u' or c == 'A' or c == 'E' or c == 'I' or c == 'O' or c == 'U':\n",
    "        return True\n",
    "    else:\n",
    "        return False"
   ]
  },
  {
   "cell_type": "code",
   "execution_count": 77,
   "metadata": {},
   "outputs": [
    {
     "data": {
      "text/plain": [
       "True"
      ]
     },
     "execution_count": 77,
     "metadata": {},
     "output_type": "execute_result"
    }
   ],
   "source": [
    "vogal(\"a\")"
   ]
  },
  {
   "cell_type": "code",
   "execution_count": 78,
   "metadata": {},
   "outputs": [
    {
     "data": {
      "text/plain": [
       "False"
      ]
     },
     "execution_count": 78,
     "metadata": {},
     "output_type": "execute_result"
    }
   ],
   "source": [
    "vogal(\"b\")"
   ]
  },
  {
   "cell_type": "code",
   "execution_count": 79,
   "metadata": {},
   "outputs": [
    {
     "data": {
      "text/plain": [
       "True"
      ]
     },
     "execution_count": 79,
     "metadata": {},
     "output_type": "execute_result"
    }
   ],
   "source": [
    "vogal(\"E\")"
   ]
  },
  {
   "cell_type": "markdown",
   "metadata": {},
   "source": [
    "# Praticar tarefa de programação: Exercícios adicionais (opcionais)"
   ]
  },
  {
   "cell_type": "markdown",
   "metadata": {},
   "source": [
    "Exercício 1 - FizzBuzz\n",
    "\n",
    "Escreva a função fizzbuzz que recebe como parâmetro um número inteiro e devolve\n",
    "\n",
    "'Fizz' se o número for divisível por 3 e não for divisível por 5;\n",
    "\n",
    "'Buzz' se o número for divisível por 5 e não for divisível por 3;\n",
    "\n",
    "'FizzBuzz' se o número for divisível por 3 e por 5;\n",
    "\n",
    "Caso a função não seja divisível 3 e também não seja divisível por 5, ela deve devolver o número recebido como parâmetro.\n",
    "\n",
    "Note que\n",
    "\n",
    "fizzbuzz(3) deve devolver Fizz\n",
    "\n",
    "fizzbuzz(5) deve devolver Buzz\n",
    "\n",
    "fizzbuzz(15) deve devolver FizzBuzz\n",
    "\n",
    "fizzbuzz(4) deve devolver 4\n",
    "\n",
    "As cadeias de caracteres Fizz e Buzz devem respeitar letras maiúsculas e minúsculas"
   ]
  },
  {
   "cell_type": "code",
   "execution_count": 90,
   "metadata": {
    "collapsed": true
   },
   "outputs": [],
   "source": [
    "def fizzbuzz(n):\n",
    "    \n",
    "    if n % 3 == 0 and n % 5 != 0:\n",
    "        return 'Fizz'\n",
    "    elif n % 5 == 0 and n % 3 != 0:\n",
    "        return 'Buzz'\n",
    "    elif n % 3 == 0 and n % 5 == 0:\n",
    "        return 'FizzBuzz'\n",
    "    else:\n",
    "        return n  "
   ]
  },
  {
   "cell_type": "code",
   "execution_count": 91,
   "metadata": {},
   "outputs": [
    {
     "data": {
      "text/plain": [
       "'Fizz'"
      ]
     },
     "execution_count": 91,
     "metadata": {},
     "output_type": "execute_result"
    }
   ],
   "source": [
    "fizzbuzz(3)"
   ]
  },
  {
   "cell_type": "code",
   "execution_count": 93,
   "metadata": {},
   "outputs": [
    {
     "data": {
      "text/plain": [
       "'Buzz'"
      ]
     },
     "execution_count": 93,
     "metadata": {},
     "output_type": "execute_result"
    }
   ],
   "source": [
    "fizzbuzz(5)"
   ]
  },
  {
   "cell_type": "code",
   "execution_count": 95,
   "metadata": {},
   "outputs": [
    {
     "data": {
      "text/plain": [
       "'FizzBuzz'"
      ]
     },
     "execution_count": 95,
     "metadata": {},
     "output_type": "execute_result"
    }
   ],
   "source": [
    "fizzbuzz(15)"
   ]
  },
  {
   "cell_type": "code",
   "execution_count": 96,
   "metadata": {},
   "outputs": [
    {
     "data": {
      "text/plain": [
       "4"
      ]
     },
     "execution_count": 96,
     "metadata": {},
     "output_type": "execute_result"
    }
   ],
   "source": [
    "fizzbuzz(4)"
   ]
  },
  {
   "cell_type": "markdown",
   "metadata": {},
   "source": [
    "Exercício 2 - Máximo com 3 parâmetros\n",
    "\n",
    "Reescreva a função 'maximo' do outro exercício, que devolve o maior valor dentre dois inteiros recebidos, para que ela passe a receber 3 valores inteiros como parâmetros e devolva o maior dentre eles.\n",
    "\n",
    "Note que\n",
    "\n",
    "maximo(30,14,10) deve devolver 30\n",
    "\n",
    "maximo(0,-1, 1) deve devolver 1"
   ]
  },
  {
   "cell_type": "code",
   "execution_count": 97,
   "metadata": {
    "collapsed": true
   },
   "outputs": [],
   "source": [
    "def maximo(x, y, z):\n",
    "    \n",
    "    if x > y and x > z: \n",
    "        return x\n",
    "    elif y > x and y > z:\n",
    "        return y\n",
    "    else: \n",
    "        return z"
   ]
  },
  {
   "cell_type": "code",
   "execution_count": 98,
   "metadata": {},
   "outputs": [
    {
     "data": {
      "text/plain": [
       "30"
      ]
     },
     "execution_count": 98,
     "metadata": {},
     "output_type": "execute_result"
    }
   ],
   "source": [
    "maximo(30,14,10)"
   ]
  },
  {
   "cell_type": "code",
   "execution_count": 99,
   "metadata": {},
   "outputs": [
    {
     "data": {
      "text/plain": [
       "1"
      ]
     },
     "execution_count": 99,
     "metadata": {},
     "output_type": "execute_result"
    }
   ],
   "source": [
    "maximo(0,-1, 1)"
   ]
  },
  {
   "cell_type": "markdown",
   "metadata": {
    "collapsed": true
   },
   "source": [
    "# Week 6 - Depuração e refatoração"
   ]
  },
  {
   "cell_type": "code",
   "execution_count": 9,
   "metadata": {
    "collapsed": true
   },
   "outputs": [],
   "source": [
    "import math\n",
    "\n",
    "def delta(a, b, c):\n",
    "    return b ** 2 - 4 * a * c\n",
    "\n",
    "def main():\n",
    "    a = float(input(\"Digite o valor de a:\"))\n",
    "    b = float(input(\"Digite o valor de b:\"))\n",
    "    c = float(input(\"Digite o valor de c:\"))\n",
    "    imprime_raizes(a, b, c)\n",
    "\n",
    "def imprime_raizes(a, b, c):\n",
    "    d = delta(a, b, c)\n",
    "    if d == 0: \n",
    "        raiz1 = (-b + math.sqrt(d))/ (2 * a)\n",
    "        print(\"a raiz desta equação é\", raiz1)\n",
    "    else:\n",
    "        if d < 0:\n",
    "            print(\"Esta equação não possui raízes reais\")\n",
    "        else:\n",
    "            raiz1 = (-b + math.sqrt(d))/ (2 * a)\n",
    "            raiz2 = (-b - math.sqrt(d))/ (2 * a)\n",
    "            if raiz1 < raiz2:\n",
    "                print(\"As raízes da equação são\", raiz1, \"e\", raiz2)\n",
    "            else:\n",
    "                print(\"As raízes da equação são\", raiz2, \"e\", raiz1)"
   ]
  },
  {
   "cell_type": "code",
   "execution_count": 10,
   "metadata": {},
   "outputs": [
    {
     "data": {
      "text/plain": [
       "-800"
      ]
     },
     "execution_count": 10,
     "metadata": {},
     "output_type": "execute_result"
    }
   ],
   "source": [
    "delta(10, 20, 30)"
   ]
  },
  {
   "cell_type": "code",
   "execution_count": 12,
   "metadata": {},
   "outputs": [
    {
     "name": "stdout",
     "output_type": "stream",
     "text": [
      "Digite o valor de a:5\n",
      "Digite o valor de b:20\n",
      "Digite o valor de c:5\n",
      "As raízes da equação são -3.7320508075688776 e -0.26794919243112253\n"
     ]
    }
   ],
   "source": [
    "main()"
   ]
  },
  {
   "cell_type": "markdown",
   "metadata": {
    "collapsed": true
   },
   "source": [
    "# Tarefa de programação: Programa completo - Jogo do NIM"
   ]
  },
  {
   "cell_type": "markdown",
   "metadata": {
    "collapsed": true
   },
   "source": [
    "Você conhece o jogo do NIM? Nesse jogo, n peças são inicialmente dispostas numa mesa ou tabuleiro. Dois jogadores jogam alternadamente, retirando pelo menos 1 e no máximo m peças cada um. Quem tirar as últimas peças possíveis ganha o jogo.\n",
    "\n",
    "Existe uma estratégia para ganhar o jogo que é muito simples: ela consiste em deixar sempre múltiplos de (m+1) peças ao jogador oponente.\n",
    "\n",
    "Objetivo\n",
    "\n",
    "Você deverá escrever um programa na linguagem Python, versão 3, que permita a uma \"vítima\" jogar o NIM contra o computador. O computador, é claro, deverá seguir a estratégia vencedora descrita acima.\n",
    "\n",
    "Sejam n o número de peças inicial e m o número máximo de peças que é possível retirar em uma rodada. Para garantir que o computador ganhe sempre, é preciso considerar os dois cenários possíveis para o início do jogo:\n",
    "\n",
    "Se n é múltiplo de (m+1), o computador deve ser \"generoso\" e convidar o jogador a iniciar a partida;\n",
    "Caso contrário, o computador toma a inciativa de começar o jogo.\n",
    "Uma vez iniciado o jogo, a estratégia do computador para ganhar consiste em deixar sempre um número de peças que seja múltiplo de (m+1) ao jogador. Caso isso não seja possível, deverá tirar o número máximo de peças possíveis.\n",
    "\n",
    "Seu trabalho, então, será implementar o Jogo e fazer com que o computador se utilize da estratégia vencedora.\n",
    "\n",
    "Seu Programa\n",
    "\n",
    "Com o objetivo do EP já definido, uma dúvida que deve surgir nesse momento é como modelar o jogo de forma que possa ser implementado em Python 3 correspondendo rigorosamente às especificações descritas até agora.\n",
    "\n",
    "Para facilitar seu trabalho e permitir a correção automática do exercício, apresentamos a seguir um modelo, isto é, uma descrição em linhas gerais de um conjunto de funções que resolve o problema proposto neste EP. Embora sejam possíveis outras abordagens, é preciso atender exatamente o que está definido abaixo para que a correção automática do trabalho funcione corretamente.\n",
    "\n",
    "O programa deve implementar:\n",
    "\n",
    "Uma função computador_escolhe_jogada que recebe, como parâmetros, os números n e m descritos acima e devolve um inteiro correspondente à próxima jogada do computador de acordo com a estratégia vencedora.\n",
    "Uma função usuario_escolhe_jogada que recebe os mesmos parâmetros, solicita que o jogador informe sua jogada e verifica se o valor informado é válido. Se o valor informado for válido, a função deve devolvê-lo; caso contrário, deve solicitar novamente ao usuário que informe uma jogada válida.\n",
    "Uma função partida que não recebe nenhum parâmetro, solicita ao usuário que informe os valores de n e m e inicia o jogo, alternando entre jogadas do computador e do usuário (ou seja, chamadas às duas funções anteriores). A escolha da jogada inicial deve ser feita em função da estratégia vencedora, como dito anteriormente. A cada jogada, deve ser impresso na tela o estado atual do jogo, ou seja, quantas peças foram removidas na última jogada e quantas restam na mesa. Quando a última peça é removida, essa função imprime na tela a mensagem \"O computador ganhou!\" ou \"Você ganhou!\" conforme o caso.\n",
    "Observe que, para isso funcionar, seu programa deve sempre \"lembrar\" qual é o número de peças atualmente no tabuleiro e qual é o máximo de peças a retirar em cada jogada.\n",
    "\n",
    "Cuidado: o corretor automático não funciona bem se você tiver alguma chamada a input() antes da definição de todas as funções do jogo (a menos que essa chamada esteja dentro de uma função). Se seu programa usar input() sem que ele esteja dentro de alguma função, coloque-o no final do programa.\n",
    "\n",
    "Campeonatos\n",
    "\n",
    "Como todos sabemos, uma única rodada de um jogo não é suficiente para definir quem é o melhor jogador. Assim, uma vez que a função partida esteja funcionando, você deverá criar uma outra função chamada campeonato. Essa nova função deve realizar três partidas seguidas do jogo e, ao final, mostrar o placar dessas três partidas e indicar o vencedor do campeonato. O placar deve ser impresso na forma\n",
    "\n",
    "Placar: Você ??? X ??? Computador\n",
    "\n",
    "Execução\n",
    "\n",
    "Dado que é possível jogar partidas individuais ou campeonatos, seu programa deve começar solicitando ao usuário que escolha se prefere jogar apenas uma partida (opção 1) ou um campeonato (opção 2).\n",
    "\n",
    "Veja um exemplo de como deve funcionar o jogo:"
   ]
  },
  {
   "cell_type": "markdown",
   "metadata": {
    "collapsed": true
   },
   "source": [
    "$ > python3 jogo_nim.py\n",
    "\n",
    "Bem-vindo ao jogo do NIM! Escolha:\n",
    "\n",
    "1 - para jogar uma partida isolada\n",
    "2 - para jogar um campeonato 2\n",
    "\n",
    "Voce escolheu um campeonato!\n",
    "\n",
    "**** Rodada 1 ****\n",
    "\n",
    "Quantas peças? 3\n",
    "Limite de peças por jogada? 1\n",
    "\n",
    "Computador começa!\n",
    "\n",
    "O computador tirou uma peça.\n",
    "Agora restam 2 peças no tabuleiro.\n",
    "\n",
    "Quantas peças você vai tirar? 2\n",
    "\n",
    "Oops! Jogada inválida! Tente de novo.\n",
    "\n",
    "Quantas peças você vai tirar? 1\n",
    "\n",
    "Você tirou uma peça.\n",
    "Agora resta apenas uma peça no tabuleiro.\n",
    "\n",
    "O computador tirou uma peça.\n",
    "Fim do jogo! O computador ganhou!\n",
    "\n",
    "**** Rodada 2 ****\n",
    "\n",
    "Quantas peças? 3\n",
    "Limite de peças por jogada? 2\n",
    "\n",
    "Voce começa!\n",
    "\n",
    "Quantas peças você vai tirar? 2 \n",
    "Voce tirou 2 peças.\n",
    "Agora resta apenas uma peça no tabuleiro.\n",
    "\n",
    "O computador tirou uma peça.\n",
    "Fim do jogo! O computador ganhou!\n",
    "\n",
    "**** Rodada 3 ****\n",
    "\n",
    "Quantas peças? 4\n",
    "Limite de peças por jogada? 3\n",
    "\n",
    "Voce começa!\n",
    "\n",
    "Quantas peças você vai tirar? 2\n",
    "Voce tirou 2 peças.\n",
    "Agora restam 2 peças no tabuleiro.\n",
    "\n",
    "O computador tirou 2 peças.\n",
    "Fim do jogo! O computador ganhou!\n",
    "\n",
    "**** Final do campeonato! ****\n",
    "\n",
    "Placar: Você 0 X 3 Computador"
   ]
  },
  {
   "cell_type": "code",
   "execution_count": 12,
   "metadata": {},
   "outputs": [],
   "source": [
    "# n = número de peças dispostas\n",
    "# m = número máximo de peças a ser retiradas por jogador\n",
    "\n",
    "def computador_escolhe_jogada(n, m):\n",
    "    \n",
    "    # cálculos para a melhor jogada\n",
    "    if (m + 1) % n == 0:\n",
    "        print(\"Computador permite que usuário comece a partida.\")\n",
    "        proxima_jogada = 0\n",
    "    else:\n",
    "        proxima_jogada = m - n\n",
    "        print(\"Computador retira %d peças.\" % n)\n",
    "    return proxima_jogada"
   ]
  },
  {
   "cell_type": "code",
   "execution_count": 13,
   "metadata": {},
   "outputs": [
    {
     "name": "stdout",
     "output_type": "stream",
     "text": [
      "Computador retira 2 peças.\n"
     ]
    },
    {
     "data": {
      "text/plain": [
       "8"
      ]
     },
     "execution_count": 13,
     "metadata": {},
     "output_type": "execute_result"
    }
   ],
   "source": [
    "computador_escolhe_jogada(2, 10)"
   ]
  },
  {
   "cell_type": "code",
   "execution_count": 14,
   "metadata": {},
   "outputs": [
    {
     "name": "stdout",
     "output_type": "stream",
     "text": [
      "Computador permite que usuário comece a partida.\n"
     ]
    },
    {
     "data": {
      "text/plain": [
       "0"
      ]
     },
     "execution_count": 14,
     "metadata": {},
     "output_type": "execute_result"
    }
   ],
   "source": [
    "computador_escolhe_jogada(2, 11)"
   ]
  },
  {
   "cell_type": "code",
   "execution_count": 16,
   "metadata": {},
   "outputs": [
    {
     "name": "stdout",
     "output_type": "stream",
     "text": [
      "Computador retira 2 peças.\n"
     ]
    },
    {
     "data": {
      "text/plain": [
       "18"
      ]
     },
     "execution_count": 16,
     "metadata": {},
     "output_type": "execute_result"
    }
   ],
   "source": [
    "computador_escolhe_jogada(2, 20)"
   ]
  },
  {
   "cell_type": "code",
   "execution_count": 17,
   "metadata": {},
   "outputs": [
    {
     "name": "stdout",
     "output_type": "stream",
     "text": [
      "Computador permite que usuário comece a partida.\n"
     ]
    },
    {
     "data": {
      "text/plain": [
       "0"
      ]
     },
     "execution_count": 17,
     "metadata": {},
     "output_type": "execute_result"
    }
   ],
   "source": [
    "computador_escolhe_jogada(2, 23)"
   ]
  },
  {
   "cell_type": "code",
   "execution_count": 34,
   "metadata": {},
   "outputs": [],
   "source": [
    "def usuario_escolhe_jogada(n, m):\n",
    "    \n",
    "    jogada_usuario = int(input(\"Informe sua jogada: \"))\n",
    "                         \n",
    "    while jogada_usuario <= 0 or jogada_usuario > n:\n",
    "        print(\"Valor incorreto. O valor deve estar entre 1 e\", n)\n",
    "        jogada_usuario = int(input(\"Informe sua jogada: \"))\n",
    "\n",
    "    return jogada_usuario"
   ]
  },
  {
   "cell_type": "code",
   "execution_count": 37,
   "metadata": {},
   "outputs": [
    {
     "name": "stdout",
     "output_type": "stream",
     "text": [
      "Informe sua jogada: 3\n",
      "Valor incorreto. O valor deve estar entre 1 e 2\n",
      "Informe sua jogada: 4\n",
      "Valor incorreto. O valor deve estar entre 1 e 2\n",
      "Informe sua jogada: 5\n",
      "Valor incorreto. O valor deve estar entre 1 e 2\n",
      "Informe sua jogada: 6\n",
      "Valor incorreto. O valor deve estar entre 1 e 2\n",
      "Informe sua jogada: 2\n"
     ]
    },
    {
     "data": {
      "text/plain": [
       "2"
      ]
     },
     "execution_count": 37,
     "metadata": {},
     "output_type": "execute_result"
    }
   ],
   "source": [
    "usuario_escolhe_jogada(2, 10)"
   ]
  },
  {
   "cell_type": "code",
   "execution_count": 38,
   "metadata": {},
   "outputs": [
    {
     "name": "stdout",
     "output_type": "stream",
     "text": [
      "Informe sua jogada: 12\n",
      "Valor incorreto. O valor deve estar entre 1 e 2\n",
      "Informe sua jogada: 10\n",
      "Valor incorreto. O valor deve estar entre 1 e 2\n",
      "Informe sua jogada: 2\n"
     ]
    },
    {
     "data": {
      "text/plain": [
       "2"
      ]
     },
     "execution_count": 38,
     "metadata": {},
     "output_type": "execute_result"
    }
   ],
   "source": [
    "usuario_escolhe_jogada(2, 11)"
   ]
  },
  {
   "cell_type": "code",
   "execution_count": 33,
   "metadata": {},
   "outputs": [
    {
     "name": "stdout",
     "output_type": "stream",
     "text": [
      "Informe sua jogada: 21\n",
      "Valor incorreto. O valor deve estar entre 1 e  20\n",
      "Informe sua jogada: 20\n"
     ]
    },
    {
     "data": {
      "text/plain": [
       "20"
      ]
     },
     "execution_count": 33,
     "metadata": {},
     "output_type": "execute_result"
    }
   ],
   "source": [
    "usuario_escolhe_jogada(2, 20)"
   ]
  },
  {
   "cell_type": "code",
   "execution_count": null,
   "metadata": {
    "collapsed": true
   },
   "outputs": [],
   "source": [
    "def partida():\n",
    "    n = int(input(\"Informe o valor das peças dispostas: \")\n",
    "    m = int(input(\"Informe o valor de máximo de peças a ser retiradas: \")\n",
    "    \n",
    "    partida_terminada = False\n",
    "    \n",
    "    vencedor = 2 # variável de controle para quem venceu. 1 para cpu, 0 para usuário.\n",
    "    \n",
    "    n_atual = n\n",
    "    m_atual = m\n",
    "            \n",
    "    while partida_terminada == False:\n",
    "        \n",
    "        # jogada computador\n",
    "        peças_retiradas = computador_escolhe_jogada(n_atual, m_atual)\n",
    "        n_atual = m_atual - peças_retiradas\n",
    "\n",
    "        if n_atual == 0:\n",
    "            partida_terminada = True\n",
    "            vencedor = 1\n",
    "            break\n",
    "            \n",
    "        # jogada usuaŕio\n",
    "        peças_retiradas = usuario_escolhe_jogada(n_atual, m_atual)\n",
    "        n_atual = m_atual - peças_retiradas\n",
    "\n",
    "        if n_atual == 0:\n",
    "            partida_terminada = True\n",
    "            vencedor = 0\n",
    "            break\n",
    "    \n",
    "    if vencedor == 1:\n",
    "        print(\"O computador ganhou!\")\n",
    "    elif vencedor == 0:\n",
    "        print(\"Você ganhou!\")"
   ]
  },
  {
   "cell_type": "code",
   "execution_count": null,
   "metadata": {
    "collapsed": true
   },
   "outputs": [],
   "source": []
  },
  {
   "cell_type": "code",
   "execution_count": null,
   "metadata": {
    "collapsed": true
   },
   "outputs": [],
   "source": []
  },
  {
   "cell_type": "code",
   "execution_count": null,
   "metadata": {
    "collapsed": true
   },
   "outputs": [],
   "source": []
  },
  {
   "cell_type": "code",
   "execution_count": null,
   "metadata": {
    "collapsed": true
   },
   "outputs": [],
   "source": []
  },
  {
   "cell_type": "code",
   "execution_count": null,
   "metadata": {
    "collapsed": true
   },
   "outputs": [],
   "source": []
  },
  {
   "cell_type": "code",
   "execution_count": null,
   "metadata": {
    "collapsed": true
   },
   "outputs": [],
   "source": []
  },
  {
   "cell_type": "code",
   "execution_count": null,
   "metadata": {
    "collapsed": true
   },
   "outputs": [],
   "source": []
  },
  {
   "cell_type": "code",
   "execution_count": null,
   "metadata": {
    "collapsed": true
   },
   "outputs": [],
   "source": []
  },
  {
   "cell_type": "code",
   "execution_count": null,
   "metadata": {
    "collapsed": true
   },
   "outputs": [],
   "source": []
  },
  {
   "cell_type": "code",
   "execution_count": null,
   "metadata": {
    "collapsed": true
   },
   "outputs": [],
   "source": []
  },
  {
   "cell_type": "code",
   "execution_count": null,
   "metadata": {
    "collapsed": true
   },
   "outputs": [],
   "source": []
  },
  {
   "cell_type": "code",
   "execution_count": null,
   "metadata": {
    "collapsed": true
   },
   "outputs": [],
   "source": []
  },
  {
   "cell_type": "code",
   "execution_count": null,
   "metadata": {
    "collapsed": true
   },
   "outputs": [],
   "source": []
  },
  {
   "cell_type": "code",
   "execution_count": null,
   "metadata": {
    "collapsed": true
   },
   "outputs": [],
   "source": []
  },
  {
   "cell_type": "code",
   "execution_count": null,
   "metadata": {
    "collapsed": true
   },
   "outputs": [],
   "source": []
  },
  {
   "cell_type": "code",
   "execution_count": null,
   "metadata": {
    "collapsed": true
   },
   "outputs": [],
   "source": []
  },
  {
   "cell_type": "code",
   "execution_count": null,
   "metadata": {
    "collapsed": true
   },
   "outputs": [],
   "source": []
  },
  {
   "cell_type": "code",
   "execution_count": null,
   "metadata": {
    "collapsed": true
   },
   "outputs": [],
   "source": []
  },
  {
   "cell_type": "code",
   "execution_count": null,
   "metadata": {
    "collapsed": true
   },
   "outputs": [],
   "source": []
  },
  {
   "cell_type": "code",
   "execution_count": null,
   "metadata": {
    "collapsed": true
   },
   "outputs": [],
   "source": []
  },
  {
   "cell_type": "code",
   "execution_count": null,
   "metadata": {
    "collapsed": true
   },
   "outputs": [],
   "source": []
  },
  {
   "cell_type": "code",
   "execution_count": null,
   "metadata": {
    "collapsed": true
   },
   "outputs": [],
   "source": []
  },
  {
   "cell_type": "code",
   "execution_count": null,
   "metadata": {
    "collapsed": true
   },
   "outputs": [],
   "source": []
  },
  {
   "cell_type": "code",
   "execution_count": null,
   "metadata": {
    "collapsed": true
   },
   "outputs": [],
   "source": []
  },
  {
   "cell_type": "code",
   "execution_count": null,
   "metadata": {
    "collapsed": true
   },
   "outputs": [],
   "source": []
  }
 ],
 "metadata": {
  "kernelspec": {
   "display_name": "Python 3",
   "language": "python",
   "name": "python3"
  },
  "language_info": {
   "codemirror_mode": {
    "name": "ipython",
    "version": 3
   },
   "file_extension": ".py",
   "mimetype": "text/x-python",
   "name": "python",
   "nbconvert_exporter": "python",
   "pygments_lexer": "ipython3",
   "version": "3.5.2"
  }
 },
 "nbformat": 4,
 "nbformat_minor": 2
}
