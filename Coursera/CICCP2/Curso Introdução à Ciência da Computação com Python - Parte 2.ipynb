{
 "cells": [
  {
   "cell_type": "markdown",
   "metadata": {},
   "source": [
    "# Semana 1"
   ]
  },
  {
   "cell_type": "code",
   "execution_count": 1,
   "metadata": {
    "collapsed": true
   },
   "outputs": [],
   "source": [
    "def cria_matriz(tot_lin, tot_col, valor):\n",
    "    matriz = []  #lista vazia\n",
    "    for i in range(tot_lin):\n",
    "        linha = []\n",
    "        for j in range(tot_col):\n",
    "            linha.append(valor)\n",
    "        matriz.append(linha)\n",
    "        return matriz"
   ]
  },
  {
   "cell_type": "code",
   "execution_count": 3,
   "metadata": {},
   "outputs": [
    {
     "data": {
      "text/plain": [
       "[[99, 99, 99]]"
      ]
     },
     "execution_count": 3,
     "metadata": {},
     "output_type": "execute_result"
    }
   ],
   "source": [
    "x = cria_matriz(2, 3, 99)\n",
    "x"
   ]
  },
  {
   "cell_type": "code",
   "execution_count": 4,
   "metadata": {
    "collapsed": true
   },
   "outputs": [],
   "source": [
    "def cria_matriz(tot_lin, tot_col, valor):\n",
    "    matriz = []  #lista vazia\n",
    "    for i in range(tot_lin):\n",
    "        linha = []\n",
    "        for j in range(tot_col):\n",
    "            linha.append(valor)\n",
    "        matriz.append(linha)\n",
    "    return matriz"
   ]
  },
  {
   "cell_type": "code",
   "execution_count": 5,
   "metadata": {},
   "outputs": [
    {
     "data": {
      "text/plain": [
       "[[99, 99, 99], [99, 99, 99]]"
      ]
     },
     "execution_count": 5,
     "metadata": {},
     "output_type": "execute_result"
    }
   ],
   "source": [
    "x = cria_matriz(2, 3, 99)\n",
    "x"
   ]
  },
  {
   "cell_type": "markdown",
   "metadata": {},
   "source": [
    "Este código faz com que primeiramente toda a primeira linha seja preenchida, em seguida a segunda e assim sucessivamente. Se nós quiséssemos que a primeira coluna fosse preenchida e em seguida a segunda coluna e assim por diante, como ficaria o código?\n",
    "\n",
    "Um exemplo: se o usuário digitasse o seguinte comando “x = cria_matriz(2,3)” e em seguida informasse os seis números para serem armazenados na matriz, na seguinte ordem: 1, 2, 3, 4, 5, 6; o x teria ao final da função a seguinte matriz: [[1, 3, 5], [2, 4, 6]]."
   ]
  },
  {
   "cell_type": "code",
   "execution_count": 6,
   "metadata": {
    "collapsed": true
   },
   "outputs": [],
   "source": [
    "def cria_matriz(num_linhas, num_colunas):\n",
    "    matriz = []  #lista vazia\n",
    "    for i in range(num_linhas):\n",
    "        linha = []\n",
    "        for j in range(num_colunas):\n",
    "            linha.append(0)\n",
    "        matriz.append(linha)\n",
    "\n",
    "    for i in range(num_colunas):\n",
    "        for j in range(num_linhas):\n",
    "            matriz[j][i] = int(input(\"Digite o elemento [\" + str(j) + \"][\" + str(i) + \"]: \"))\n",
    "\n",
    "    return matriz"
   ]
  },
  {
   "cell_type": "code",
   "execution_count": 7,
   "metadata": {},
   "outputs": [
    {
     "name": "stdout",
     "output_type": "stream",
     "text": [
      "Digite o elemento [0][0]: 1\n",
      "Digite o elemento [1][0]: 2\n",
      "Digite o elemento [0][1]: 3\n",
      "Digite o elemento [1][1]: 4\n",
      "Digite o elemento [0][2]: 5\n",
      "Digite o elemento [1][2]: 6\n"
     ]
    }
   ],
   "source": [
    "x = cria_matriz(2, 3)"
   ]
  },
  {
   "cell_type": "code",
   "execution_count": 8,
   "metadata": {},
   "outputs": [
    {
     "data": {
      "text/plain": [
       "[[1, 3, 5], [2, 4, 6]]"
      ]
     },
     "execution_count": 8,
     "metadata": {},
     "output_type": "execute_result"
    }
   ],
   "source": [
    "x"
   ]
  },
  {
   "cell_type": "code",
   "execution_count": 10,
   "metadata": {},
   "outputs": [
    {
     "name": "stdout",
     "output_type": "stream",
     "text": [
      "3  5  7  "
     ]
    }
   ],
   "source": [
    "def tarefa(mat):\n",
    "    dim = len(mat)\n",
    "    for i in range(dim):\n",
    "        print(mat[i][dim-1-i], end=\"  \")\n",
    "\n",
    "mat = [[1,2,3],[4,5,6],[7,8,9]]\n",
    "tarefa(mat)\n",
    "\n",
    "# Observação: o trecho do print (end = \" \") irá mudar a finalização padrão do print\n",
    "# que é pular para a próxima linha. Com esta mudança, o cursor permanecerá na mesma \n",
    "# linha aguardando a impressão seguinte."
   ]
  },
  {
   "cell_type": "markdown",
   "metadata": {},
   "source": [
    "### Exercício 1: Tamanho da matriz\n",
    "\n",
    "Escreva uma função dimensoes(matriz) que recebe uma matriz como parâmetro e imprime as dimensões da matriz recebida, no formato iXj.\n",
    "\n",
    "Exemplos:\n",
    "\n",
    "minha_matriz = [[1], [2], [3]]\n",
    "\n",
    "dimensoes(minha_matriz)\n",
    "\n",
    "3X1\n",
    "\n",
    "\n",
    "minha_matriz = [[1, 2, 3], [4, 5, 6]]\n",
    "\n",
    "dimensoes(minha_matriz)\n",
    "\n",
    "2X3"
   ]
  },
  {
   "cell_type": "code",
   "execution_count": 1,
   "metadata": {
    "collapsed": true
   },
   "outputs": [],
   "source": [
    "def dimensoes(A):\n",
    "    \n",
    "    '''Função que recebe uma matriz como parâmetro e imprime as dimensões da matriz recebida, no formato iXj.\n",
    "    \n",
    "    Obs: i = colunas, j = linhas\n",
    "    \n",
    "    Exemplo: \n",
    "    >>> minha_matriz = [[1], \n",
    "                        [2], \n",
    "                        [3]\n",
    "                        ]\n",
    "    >>> dimensoes(minha_matriz)\n",
    "    >>> 3X1\n",
    "    '''\n",
    "    \n",
    "    lin = len(A)\n",
    "    col = len(A[0])\n",
    "    \n",
    "    return print(\"%dX%d\" % (lin, col))"
   ]
  },
  {
   "cell_type": "code",
   "execution_count": 2,
   "metadata": {},
   "outputs": [
    {
     "name": "stdout",
     "output_type": "stream",
     "text": [
      "3X1\n"
     ]
    }
   ],
   "source": [
    "matriz1 = [[1], [2], [3]]\n",
    "dimensoes(matriz1)"
   ]
  },
  {
   "cell_type": "code",
   "execution_count": 3,
   "metadata": {},
   "outputs": [
    {
     "name": "stdout",
     "output_type": "stream",
     "text": [
      "2X3\n"
     ]
    }
   ],
   "source": [
    "matriz2 = [[1, 2, 3], [4, 5, 6]]\n",
    "dimensoes(matriz2)"
   ]
  },
  {
   "cell_type": "markdown",
   "metadata": {},
   "source": [
    "### Exercício 2: Soma de matrizes\n",
    "\n",
    "Escreva a função soma_matrizes(m1, m2) que recebe 2 matrizes e devolve uma matriz que represente sua soma caso as matrizes tenham dimensões iguais. Caso contrário, a função deve devolver False.\n",
    "\n",
    "Exemplos:\n",
    "\n",
    "m1 = [[1, 2, 3], [4, 5, 6]]\n",
    "\n",
    "m2 = [[2, 3, 4], [5, 6, 7]]\n",
    "\n",
    "soma_matrizes(m1, m2) => [[3, 5, 7], [9, 11, 13]]\n",
    "\n",
    "m1 = [[1], [2], [3]]\n",
    "\n",
    "m2 = [[2, 3, 4], [5, 6, 7]]\n",
    "\n",
    "soma_matrizes(m1, m2) => False"
   ]
  },
  {
   "cell_type": "code",
   "execution_count": 7,
   "metadata": {
    "collapsed": true
   },
   "outputs": [],
   "source": [
    "def soma_matrizes(m1, m2):\n",
    "    \n",
    "    def dimensoes(A):\n",
    "        lin = len(A)\n",
    "        col = len(A[0])\n",
    "    \n",
    "        return ((lin, col))\n",
    "    \n",
    "    if dimensoes(m1) != dimensoes(m2):\n",
    "        return False\n",
    "    else:\n",
    "        matriz = []\n",
    "        for i in range(len(m1)):\n",
    "            linha = []\n",
    "            for j in range(len(m1[0])):\n",
    "                linha.append(m1[i][j] + m2[i][j])\n",
    "            matriz.append(linha)\n",
    "        return matriz"
   ]
  },
  {
   "cell_type": "code",
   "execution_count": 8,
   "metadata": {},
   "outputs": [
    {
     "data": {
      "text/plain": [
       "[[3, 5, 7], [9, 11, 13]]"
      ]
     },
     "execution_count": 8,
     "metadata": {},
     "output_type": "execute_result"
    }
   ],
   "source": [
    "m1 = [[1, 2, 3], [4, 5, 6]]\n",
    "m2 = [[2, 3, 4], [5, 6, 7]]\n",
    "soma_matrizes(m1, m2)"
   ]
  },
  {
   "cell_type": "code",
   "execution_count": 9,
   "metadata": {},
   "outputs": [
    {
     "data": {
      "text/plain": [
       "False"
      ]
     },
     "execution_count": 9,
     "metadata": {},
     "output_type": "execute_result"
    }
   ],
   "source": [
    "m1 = [[1], [2], [3]]\n",
    "m2 = [[2, 3, 4], [5, 6, 7]]\n",
    "soma_matrizes(m1, m2)"
   ]
  },
  {
   "cell_type": "markdown",
   "metadata": {
    "collapsed": true
   },
   "source": [
    "### Praticar tarefa de programação: Exercícios adicionais (opcionais)\n",
    "\n",
    "Exercício 1: Imprimindo matrizes\n",
    "\n",
    "Como proposto na primeira vídeo-aula da semana, escreva uma função imprime_matriz(matriz), que recebe uma matriz como parâmetro e imprime a matriz, linha por linha. Note que NÃO se deve imprimir espaços após o último elemento de cada linha!\n",
    "\n",
    "Exemplos:\n",
    "\n",
    "\n",
    "minha_matriz = [[1], [2], [3]]\n",
    "\n",
    "imprime_matriz(minha_matriz)\n",
    "\n",
    "1\n",
    "\n",
    "2\n",
    "\n",
    "3\n",
    "\n",
    "minha_matriz = [[1, 2, 3], [4, 5, 6]]\n",
    "\n",
    "imprime_matriz(minha_matriz)\n",
    "\n",
    "1 2 3\n",
    "\n",
    "4 5 6\n"
   ]
  },
  {
   "cell_type": "code",
   "execution_count": 26,
   "metadata": {
    "collapsed": true
   },
   "outputs": [],
   "source": [
    "def imprime_matriz(A):\n",
    "    \n",
    "    for i in range(len(A)):\n",
    "        for j in range(len(A[i])):\n",
    "            print(A[i][j])"
   ]
  },
  {
   "cell_type": "code",
   "execution_count": 27,
   "metadata": {},
   "outputs": [
    {
     "name": "stdout",
     "output_type": "stream",
     "text": [
      "1\n",
      "2\n",
      "3\n"
     ]
    }
   ],
   "source": [
    "minha_matriz = [[1], [2], [3]]\n",
    "imprime_matriz(minha_matriz)"
   ]
  },
  {
   "cell_type": "code",
   "execution_count": 28,
   "metadata": {},
   "outputs": [
    {
     "name": "stdout",
     "output_type": "stream",
     "text": [
      "1\n",
      "2\n",
      "3\n",
      "4\n",
      "5\n",
      "6\n"
     ]
    }
   ],
   "source": [
    "minha_matriz = [[1, 2, 3], [4, 5, 6]]\n",
    "imprime_matriz(minha_matriz)"
   ]
  },
  {
   "cell_type": "markdown",
   "metadata": {
    "collapsed": true
   },
   "source": [
    "### Exercício 2: Matrizes multiplicáveis\n",
    "\n",
    "Duas matrizes são multiplicáveis se o número de colunas da primeira é igual ao número de linhas da segunda. Escreva a função sao_multiplicaveis(m1, m2) que recebe duas matrizes como parâmetro e devolve True se as matrizes forem multiplicavéis (na ordem dada) e False caso contrário.\n",
    "\n",
    "Exemplos:\n",
    "\n",
    "m1 = [[1, 2, 3], [4, 5, 6]]\n",
    "\n",
    "m2 = [[2, 3, 4], [5, 6, 7]]\n",
    "\n",
    "sao_multiplicaveis(m1, m2) => False\n",
    "\n",
    "\n",
    "m1 = [[1], [2], [3]]\n",
    "\n",
    "m2 = [[1, 2, 3]]\n",
    "\n",
    "sao_multiplicaveis(m1, m2) => True"
   ]
  },
  {
   "cell_type": "code",
   "execution_count": 30,
   "metadata": {
    "collapsed": true
   },
   "outputs": [],
   "source": [
    "def sao_multiplicaveis(m1, m2):\n",
    "    \n",
    "    '''Recebe duas matrizes como parâmetros e devolve True se as matrizes forem multiplicáveis (número de colunas \n",
    "    da primeira é igual ao número de linhs da segunda). False se não forem\n",
    "    '''\n",
    "    \n",
    "    if len(m1) == len(m2[0]):\n",
    "        return True\n",
    "    else:\n",
    "        return False"
   ]
  },
  {
   "cell_type": "code",
   "execution_count": 31,
   "metadata": {},
   "outputs": [
    {
     "data": {
      "text/plain": [
       "False"
      ]
     },
     "execution_count": 31,
     "metadata": {},
     "output_type": "execute_result"
    }
   ],
   "source": [
    "m1 = [[1, 2, 3], [4, 5, 6]]\n",
    "m2 = [[2, 3, 4], [5, 6, 7]]\n",
    "sao_multiplicaveis(m1, m2)"
   ]
  },
  {
   "cell_type": "code",
   "execution_count": 32,
   "metadata": {},
   "outputs": [
    {
     "data": {
      "text/plain": [
       "True"
      ]
     },
     "execution_count": 32,
     "metadata": {},
     "output_type": "execute_result"
    }
   ],
   "source": [
    "m1 = [[1], [2], [3]]\n",
    "m2 = [[1, 2, 3]]\n",
    "sao_multiplicaveis(m1, m2)"
   ]
  },
  {
   "cell_type": "markdown",
   "metadata": {
    "collapsed": true
   },
   "source": [
    "# Semana 2"
   ]
  },
  {
   "cell_type": "code",
   "execution_count": 1,
   "metadata": {},
   "outputs": [
    {
     "data": {
      "text/plain": [
       "'Áurea gosta de coentro'"
      ]
     },
     "execution_count": 1,
     "metadata": {},
     "output_type": "execute_result"
    }
   ],
   "source": [
    "\"áurea gosta de coentro\".capitalize()"
   ]
  },
  {
   "cell_type": "code",
   "execution_count": 2,
   "metadata": {},
   "outputs": [
    {
     "data": {
      "text/plain": [
       "'Aqui'"
      ]
     },
     "execution_count": 2,
     "metadata": {},
     "output_type": "execute_result"
    }
   ],
   "source": [
    "\"AQUI\".capitalize()"
   ]
  },
  {
   "cell_type": "code",
   "execution_count": 3,
   "metadata": {},
   "outputs": [
    {
     "data": {
      "text/plain": [
       "'email@company.com'"
      ]
     },
     "execution_count": 3,
     "metadata": {},
     "output_type": "execute_result"
    }
   ],
   "source": [
    "# função para remover espaços em branco\n",
    "\n",
    "\"   email@company.com    \".strip()"
   ]
  },
  {
   "cell_type": "code",
   "execution_count": 4,
   "metadata": {},
   "outputs": [
    {
     "data": {
      "text/plain": [
       "3"
      ]
     },
     "execution_count": 4,
     "metadata": {},
     "output_type": "execute_result"
    }
   ],
   "source": [
    "\"o abecedário da Xuxa é didático\".count(\"a\")"
   ]
  },
  {
   "cell_type": "code",
   "execution_count": 5,
   "metadata": {},
   "outputs": [
    {
     "data": {
      "text/plain": [
       "2"
      ]
     },
     "execution_count": 5,
     "metadata": {},
     "output_type": "execute_result"
    }
   ],
   "source": [
    "\"o abecedário da Xuxa é didático\".count(\"á\")"
   ]
  },
  {
   "cell_type": "code",
   "execution_count": 6,
   "metadata": {},
   "outputs": [
    {
     "data": {
      "text/plain": [
       "1"
      ]
     },
     "execution_count": 6,
     "metadata": {},
     "output_type": "execute_result"
    }
   ],
   "source": [
    "\"o abecedário da Xuxa é didático\".count(\"X\")"
   ]
  },
  {
   "cell_type": "code",
   "execution_count": 7,
   "metadata": {},
   "outputs": [
    {
     "data": {
      "text/plain": [
       "1"
      ]
     },
     "execution_count": 7,
     "metadata": {},
     "output_type": "execute_result"
    }
   ],
   "source": [
    "\"o abecedário da Xuxa é didático\".count(\"x\")"
   ]
  },
  {
   "cell_type": "code",
   "execution_count": 8,
   "metadata": {},
   "outputs": [
    {
     "data": {
      "text/plain": [
       "0"
      ]
     },
     "execution_count": 8,
     "metadata": {},
     "output_type": "execute_result"
    }
   ],
   "source": [
    "\"o abecedário da Xuxa é didático\".count(\"z\")"
   ]
  },
  {
   "cell_type": "code",
   "execution_count": 9,
   "metadata": {},
   "outputs": [
    {
     "data": {
      "text/plain": [
       "'A vida como ela é'"
      ]
     },
     "execution_count": 9,
     "metadata": {},
     "output_type": "execute_result"
    }
   ],
   "source": [
    "\"A vida como ela seje\".replace(\"seje\", \"é\")"
   ]
  },
  {
   "cell_type": "code",
   "execution_count": 11,
   "metadata": {},
   "outputs": [
    {
     "data": {
      "text/plain": [
       "'                             Áurea gosta de coentro                             '"
      ]
     },
     "execution_count": 11,
     "metadata": {},
     "output_type": "execute_result"
    }
   ],
   "source": [
    "\"áurea gosta de coentro\".capitalize().center(80) #80 caracteres de largura, no centro apareça este texto"
   ]
  },
  {
   "cell_type": "code",
   "execution_count": 12,
   "metadata": {},
   "outputs": [
    {
     "data": {
      "text/plain": [
       "'Ao que se percebe, só há o agora'"
      ]
     },
     "execution_count": 12,
     "metadata": {},
     "output_type": "execute_result"
    }
   ],
   "source": [
    "texto = \"Ao que se percebe, só há o agora\"\n",
    "texto"
   ]
  },
  {
   "cell_type": "code",
   "execution_count": 13,
   "metadata": {},
   "outputs": [
    {
     "data": {
      "text/plain": [
       "3"
      ]
     },
     "execution_count": 13,
     "metadata": {},
     "output_type": "execute_result"
    }
   ],
   "source": [
    "texto.find(\"q\")"
   ]
  },
  {
   "cell_type": "code",
   "execution_count": 14,
   "metadata": {},
   "outputs": [
    {
     "data": {
      "text/plain": [
       "7"
      ]
     },
     "execution_count": 14,
     "metadata": {},
     "output_type": "execute_result"
    }
   ],
   "source": [
    "texto.find('se')"
   ]
  },
  {
   "cell_type": "code",
   "execution_count": 16,
   "metadata": {},
   "outputs": [
    {
     "data": {
      "text/plain": [
       "'se'"
      ]
     },
     "execution_count": 16,
     "metadata": {},
     "output_type": "execute_result"
    }
   ],
   "source": [
    "texto[7] + texto[8]"
   ]
  },
  {
   "cell_type": "code",
   "execution_count": 17,
   "metadata": {},
   "outputs": [
    {
     "data": {
      "text/plain": [
       "-1"
      ]
     },
     "execution_count": 17,
     "metadata": {},
     "output_type": "execute_result"
    }
   ],
   "source": [
    "texto.find('w')"
   ]
  },
  {
   "cell_type": "code",
   "execution_count": 18,
   "metadata": {
    "collapsed": true
   },
   "outputs": [],
   "source": [
    "fruta = 'amora'"
   ]
  },
  {
   "cell_type": "code",
   "execution_count": 20,
   "metadata": {},
   "outputs": [
    {
     "data": {
      "text/plain": [
       "'amor'"
      ]
     },
     "execution_count": 20,
     "metadata": {},
     "output_type": "execute_result"
    }
   ],
   "source": [
    "fruta[:4] # desde o começo até a posição TRÊS!"
   ]
  },
  {
   "cell_type": "code",
   "execution_count": 23,
   "metadata": {},
   "outputs": [
    {
     "data": {
      "text/plain": [
       "'mora'"
      ]
     },
     "execution_count": 23,
     "metadata": {},
     "output_type": "execute_result"
    }
   ],
   "source": [
    "fruta[1:] # desde a posição 1 (começa no zero) até o final"
   ]
  },
  {
   "cell_type": "code",
   "execution_count": 24,
   "metadata": {},
   "outputs": [
    {
     "data": {
      "text/plain": [
       "'or'"
      ]
     },
     "execution_count": 24,
     "metadata": {},
     "output_type": "execute_result"
    }
   ],
   "source": [
    "fruta[2:4] # desde a posição 2 até a posição 3"
   ]
  },
  {
   "cell_type": "markdown",
   "metadata": {},
   "source": [
    "### Exercício\n",
    "\n",
    "Escrever uma função que recebe uma lista de Strings contendo nomes de pessoas como parâmetro e devolve o nome mais curto. A função deve ignorar espaços antes e depois do nome e deve devolver o nome com a primeira letra maiúscula. "
   ]
  },
  {
   "cell_type": "code",
   "execution_count": 30,
   "metadata": {
    "collapsed": true
   },
   "outputs": [],
   "source": [
    "def mais_curto(lista_de_nomes):\n",
    "    \n",
    "    menor = lista_de_nomes[0] # considerando que o menor nome está no primeiro lugar\n",
    "    \n",
    "    for i in lista_de_nomes:\n",
    "        if len(i) < len(menor):\n",
    "            menor = i\n",
    "    \n",
    "    return menor.capitalize()"
   ]
  },
  {
   "cell_type": "code",
   "execution_count": 31,
   "metadata": {
    "collapsed": true
   },
   "outputs": [],
   "source": [
    "lista = ['carlos', 'césar', 'ana', 'vicente', 'maicon', 'washington']"
   ]
  },
  {
   "cell_type": "code",
   "execution_count": 32,
   "metadata": {},
   "outputs": [
    {
     "data": {
      "text/plain": [
       "'Ana'"
      ]
     },
     "execution_count": 32,
     "metadata": {},
     "output_type": "execute_result"
    }
   ],
   "source": [
    "mais_curto(lista)"
   ]
  },
  {
   "cell_type": "code",
   "execution_count": 33,
   "metadata": {},
   "outputs": [
    {
     "data": {
      "text/plain": [
       "97"
      ]
     },
     "execution_count": 33,
     "metadata": {},
     "output_type": "execute_result"
    }
   ],
   "source": [
    "ord('a')"
   ]
  },
  {
   "cell_type": "code",
   "execution_count": 34,
   "metadata": {},
   "outputs": [
    {
     "data": {
      "text/plain": [
       "65"
      ]
     },
     "execution_count": 34,
     "metadata": {},
     "output_type": "execute_result"
    }
   ],
   "source": [
    "ord('A')"
   ]
  },
  {
   "cell_type": "code",
   "execution_count": 35,
   "metadata": {},
   "outputs": [
    {
     "data": {
      "text/plain": [
       "98"
      ]
     },
     "execution_count": 35,
     "metadata": {},
     "output_type": "execute_result"
    }
   ],
   "source": [
    "ord('b')"
   ]
  },
  {
   "cell_type": "code",
   "execution_count": 39,
   "metadata": {},
   "outputs": [
    {
     "data": {
      "text/plain": [
       "109"
      ]
     },
     "execution_count": 39,
     "metadata": {},
     "output_type": "execute_result"
    }
   ],
   "source": [
    "ord('m')"
   ]
  },
  {
   "cell_type": "code",
   "execution_count": 40,
   "metadata": {},
   "outputs": [
    {
     "data": {
      "text/plain": [
       "77"
      ]
     },
     "execution_count": 40,
     "metadata": {},
     "output_type": "execute_result"
    }
   ],
   "source": [
    "ord('M')"
   ]
  },
  {
   "cell_type": "code",
   "execution_count": 26,
   "metadata": {},
   "outputs": [
    {
     "ename": "TypeError",
     "evalue": "ord() expected a character, but string of length 2 found",
     "output_type": "error",
     "traceback": [
      "\u001b[0;31m---------------------------------------------------------------------------\u001b[0m",
      "\u001b[0;31mTypeError\u001b[0m                                 Traceback (most recent call last)",
      "\u001b[0;32m<ipython-input-26-ce393a8d8496>\u001b[0m in \u001b[0;36m<module>\u001b[0;34m()\u001b[0m\n\u001b[0;32m----> 1\u001b[0;31m \u001b[0mord\u001b[0m\u001b[0;34m(\u001b[0m\u001b[0;34m'AA'\u001b[0m\u001b[0;34m)\u001b[0m\u001b[0;34m\u001b[0m\u001b[0m\n\u001b[0m",
      "\u001b[0;31mTypeError\u001b[0m: ord() expected a character, but string of length 2 found"
     ]
    }
   ],
   "source": [
    "ord('AA')"
   ]
  },
  {
   "cell_type": "code",
   "execution_count": 36,
   "metadata": {},
   "outputs": [
    {
     "data": {
      "text/plain": [
       "True"
      ]
     },
     "execution_count": 36,
     "metadata": {},
     "output_type": "execute_result"
    }
   ],
   "source": [
    "'maçã' > 'banana'"
   ]
  },
  {
   "cell_type": "code",
   "execution_count": 37,
   "metadata": {},
   "outputs": [
    {
     "data": {
      "text/plain": [
       "False"
      ]
     },
     "execution_count": 37,
     "metadata": {},
     "output_type": "execute_result"
    }
   ],
   "source": [
    "'Maçã' > 'banana'"
   ]
  },
  {
   "cell_type": "code",
   "execution_count": 41,
   "metadata": {},
   "outputs": [
    {
     "data": {
      "text/plain": [
       "True"
      ]
     },
     "execution_count": 41,
     "metadata": {},
     "output_type": "execute_result"
    }
   ],
   "source": [
    "'Maçã'.lower() > 'banana'.lower()"
   ]
  },
  {
   "cell_type": "code",
   "execution_count": 56,
   "metadata": {},
   "outputs": [
    {
     "data": {
      "text/plain": [
       "'josé'"
      ]
     },
     "execution_count": 56,
     "metadata": {},
     "output_type": "execute_result"
    }
   ],
   "source": [
    "txt = 'José'\n",
    "txt = txt.lower()\n",
    "txt"
   ]
  },
  {
   "cell_type": "code",
   "execution_count": 92,
   "metadata": {},
   "outputs": [
    {
     "data": {
      "text/plain": [
       "4"
      ]
     },
     "execution_count": 92,
     "metadata": {},
     "output_type": "execute_result"
    }
   ],
   "source": [
    "lista = ['ana', 'maria', 'José', 'Valdemar']\n",
    "len(lista)"
   ]
  },
  {
   "cell_type": "code",
   "execution_count": 93,
   "metadata": {},
   "outputs": [
    {
     "data": {
      "text/plain": [
       "'valdemar'"
      ]
     },
     "execution_count": 93,
     "metadata": {},
     "output_type": "execute_result"
    }
   ],
   "source": [
    "lista[3].lower()"
   ]
  },
  {
   "cell_type": "code",
   "execution_count": 94,
   "metadata": {},
   "outputs": [
    {
     "data": {
      "text/plain": [
       "'José'"
      ]
     },
     "execution_count": 94,
     "metadata": {},
     "output_type": "execute_result"
    }
   ],
   "source": [
    "lista[2]"
   ]
  },
  {
   "cell_type": "code",
   "execution_count": 95,
   "metadata": {
    "collapsed": true
   },
   "outputs": [],
   "source": [
    "lista[2] = lista[2].lower()"
   ]
  },
  {
   "cell_type": "code",
   "execution_count": 96,
   "metadata": {},
   "outputs": [
    {
     "data": {
      "text/plain": [
       "['ana', 'maria', 'josé', 'Valdemar']"
      ]
     },
     "execution_count": 96,
     "metadata": {},
     "output_type": "execute_result"
    }
   ],
   "source": [
    "lista"
   ]
  },
  {
   "cell_type": "code",
   "execution_count": 98,
   "metadata": {},
   "outputs": [
    {
     "name": "stdout",
     "output_type": "stream",
     "text": [
      "ana\n",
      "maria\n",
      "josé\n",
      "Valdemar\n"
     ]
    }
   ],
   "source": [
    "for i in lista:\n",
    "    print(i)"
   ]
  },
  {
   "cell_type": "code",
   "execution_count": 105,
   "metadata": {},
   "outputs": [
    {
     "data": {
      "text/plain": [
       "'a'"
      ]
     },
     "execution_count": 105,
     "metadata": {},
     "output_type": "execute_result"
    }
   ],
   "source": [
    "lista[0][0]"
   ]
  },
  {
   "cell_type": "code",
   "execution_count": null,
   "metadata": {
    "collapsed": true
   },
   "outputs": [],
   "source": []
  },
  {
   "cell_type": "markdown",
   "metadata": {},
   "source": [
    "#### Exercício\n",
    "\n",
    "Escreva uma função que recebe um array de strings como parâmetro e devolve o primeiro string na ordem lexicográfica, ignorando-se maiúsculas e minúsculas"
   ]
  },
  {
   "cell_type": "code",
   "execution_count": 106,
   "metadata": {
    "collapsed": true
   },
   "outputs": [],
   "source": [
    "def menor_string(array_string):\n",
    "    \n",
    "    for i in range(len(array_string)):\n",
    "        array_string[i] = array_string[i].lower()\n",
    "    \n",
    "    menor = array_string[0] # considera o primeiro como o menor\n",
    "    \n",
    "    for i in array_string:\n",
    "        if ord(i[0][0]) < ord(menor[0]):\n",
    "            menor = i\n",
    "    \n",
    "    return menor"
   ]
  },
  {
   "cell_type": "code",
   "execution_count": 111,
   "metadata": {
    "collapsed": true
   },
   "outputs": [],
   "source": [
    "lista = ['maria', 'José', 'Valdemar']"
   ]
  },
  {
   "cell_type": "code",
   "execution_count": 112,
   "metadata": {},
   "outputs": [
    {
     "data": {
      "text/plain": [
       "'josé'"
      ]
     },
     "execution_count": 112,
     "metadata": {},
     "output_type": "execute_result"
    }
   ],
   "source": [
    "menor_string(lista)"
   ]
  },
  {
   "cell_type": "code",
   "execution_count": 114,
   "metadata": {},
   "outputs": [
    {
     "name": "stdout",
     "output_type": "stream",
     "text": [
      "ODEPIPELELARAP"
     ]
    }
   ],
   "source": [
    "# Código para inverter string e deixa maiúsculo\n",
    "\n",
    "def fazAlgo(string):\n",
    "    pos = len(string)-1\n",
    "    string = string.upper()\n",
    "    while pos >= 0:\n",
    "        print(string[pos],end = \"\")\n",
    "        pos = pos - 1\n",
    "\n",
    "fazAlgo(\"paralelepipedo\")"
   ]
  },
  {
   "cell_type": "code",
   "execution_count": 115,
   "metadata": {},
   "outputs": [
    {
     "name": "stdout",
     "output_type": "stream",
     "text": [
      "PaRaLeLePiPeDo\n"
     ]
    }
   ],
   "source": [
    "# Código que deixa maiúsculo as letras de ordem ímpar: \n",
    "\n",
    "def fazAlgo(string):\n",
    "    pos = 0\n",
    "    string1 = \"\"\n",
    "    string = string.lower()\n",
    "    stringMa = string.upper()\n",
    "    while pos < len(string):\n",
    "        if pos % 2 == 0:\n",
    "            string1 = string1 + stringMa[pos]\n",
    "        else:\n",
    "            string1 = string1 + string[pos]\n",
    "        pos = pos + 1\n",
    "    return string1    \n",
    "\n",
    "print(fazAlgo(\"paralelepipedo\"))"
   ]
  },
  {
   "cell_type": "code",
   "execution_count": 118,
   "metadata": {},
   "outputs": [
    {
     "name": "stdout",
     "output_type": "stream",
     "text": [
      "ISTOÉUMTESTE\n"
     ]
    }
   ],
   "source": [
    "# Código que tira os espaços em branco\n",
    "\n",
    "def fazAlgo(string):\n",
    "    pos = 0\n",
    "    string1 = \"\"\n",
    "    while pos < len(string):\n",
    "        if string[pos] != \" \":\n",
    "            string1 = string1 + string[pos]\n",
    "        pos = pos + 1\n",
    "    return string1    \n",
    "\n",
    "print(fazAlgo(\"ISTO É UM TESTE\"))"
   ]
  },
  {
   "cell_type": "code",
   "execution_count": 135,
   "metadata": {
    "collapsed": true
   },
   "outputs": [],
   "source": [
    "# e para retornar \"Istoéumteste\", ou seja, só deixar a primeira letra maiúscula...\n",
    "\n",
    "def fazAlgo(string):\n",
    "    pos = 0\n",
    "    string1 = \"\"    \n",
    "    while pos < len(string):\n",
    "        if string[pos] != \" \":\n",
    "            string1 = string1 + string[pos]\n",
    "        pos = pos + 1\n",
    "        string1 = string1.capitalize()\n",
    "    return string1"
   ]
  },
  {
   "cell_type": "code",
   "execution_count": 136,
   "metadata": {},
   "outputs": [
    {
     "name": "stdout",
     "output_type": "stream",
     "text": [
      "Istoéumteste\n"
     ]
    }
   ],
   "source": [
    "print(fazAlgo(\"ISTO É UM TESTE\"))"
   ]
  },
  {
   "cell_type": "code",
   "execution_count": 1,
   "metadata": {
    "collapsed": true
   },
   "outputs": [],
   "source": [
    "x, y = 10, 20"
   ]
  },
  {
   "cell_type": "code",
   "execution_count": 2,
   "metadata": {},
   "outputs": [
    {
     "data": {
      "text/plain": [
       "(10, 20)"
      ]
     },
     "execution_count": 2,
     "metadata": {},
     "output_type": "execute_result"
    }
   ],
   "source": [
    "x, y"
   ]
  },
  {
   "cell_type": "code",
   "execution_count": 3,
   "metadata": {},
   "outputs": [
    {
     "data": {
      "text/plain": [
       "10"
      ]
     },
     "execution_count": 3,
     "metadata": {},
     "output_type": "execute_result"
    }
   ],
   "source": [
    "x"
   ]
  },
  {
   "cell_type": "code",
   "execution_count": 4,
   "metadata": {},
   "outputs": [
    {
     "data": {
      "text/plain": [
       "20"
      ]
     },
     "execution_count": 4,
     "metadata": {},
     "output_type": "execute_result"
    }
   ],
   "source": [
    "y"
   ]
  },
  {
   "cell_type": "code",
   "execution_count": 5,
   "metadata": {
    "collapsed": true
   },
   "outputs": [],
   "source": [
    "def peso_altura():\n",
    "\n",
    "    return 77, 1.83"
   ]
  },
  {
   "cell_type": "code",
   "execution_count": 6,
   "metadata": {},
   "outputs": [
    {
     "data": {
      "text/plain": [
       "(77, 1.83)"
      ]
     },
     "execution_count": 6,
     "metadata": {},
     "output_type": "execute_result"
    }
   ],
   "source": [
    "peso_altura()"
   ]
  },
  {
   "cell_type": "code",
   "execution_count": 8,
   "metadata": {
    "collapsed": true
   },
   "outputs": [],
   "source": [
    "peso, altura = peso_altura()"
   ]
  },
  {
   "cell_type": "code",
   "execution_count": 9,
   "metadata": {},
   "outputs": [
    {
     "data": {
      "text/plain": [
       "77"
      ]
     },
     "execution_count": 9,
     "metadata": {},
     "output_type": "execute_result"
    }
   ],
   "source": [
    "peso"
   ]
  },
  {
   "cell_type": "code",
   "execution_count": 10,
   "metadata": {},
   "outputs": [
    {
     "data": {
      "text/plain": [
       "1.83"
      ]
     },
     "execution_count": 10,
     "metadata": {},
     "output_type": "execute_result"
    }
   ],
   "source": [
    "altura"
   ]
  },
  {
   "cell_type": "code",
   "execution_count": null,
   "metadata": {
    "collapsed": true
   },
   "outputs": [],
   "source": [
    "# Atribuição múltipla em C (vacas magras...)\n",
    "'''\n",
    "int a, b, temp\n",
    "\n",
    "a = 10\n",
    "b = 20\n",
    "\n",
    "temp = a\n",
    "a = b\n",
    "b = temp\n",
    "'''"
   ]
  },
  {
   "cell_type": "code",
   "execution_count": 14,
   "metadata": {},
   "outputs": [
    {
     "data": {
      "text/plain": [
       "(20, 10)"
      ]
     },
     "execution_count": 14,
     "metadata": {},
     "output_type": "execute_result"
    }
   ],
   "source": [
    "a, b = 10, 20\n",
    "a, b = b, a\n",
    "a, b"
   ]
  },
  {
   "cell_type": "code",
   "execution_count": 15,
   "metadata": {},
   "outputs": [
    {
     "data": {
      "text/plain": [
       "20"
      ]
     },
     "execution_count": 15,
     "metadata": {},
     "output_type": "execute_result"
    }
   ],
   "source": [
    "# Atribuição aumentada\n",
    "\n",
    "x = 10\n",
    "\n",
    "x = x + 10\n",
    "\n",
    "x"
   ]
  },
  {
   "cell_type": "code",
   "execution_count": 17,
   "metadata": {},
   "outputs": [
    {
     "data": {
      "text/plain": [
       "20"
      ]
     },
     "execution_count": 17,
     "metadata": {},
     "output_type": "execute_result"
    }
   ],
   "source": [
    "x = 10\n",
    "\n",
    "x += 10\n",
    "\n",
    "x"
   ]
  },
  {
   "cell_type": "code",
   "execution_count": 19,
   "metadata": {},
   "outputs": [
    {
     "data": {
      "text/plain": [
       "6"
      ]
     },
     "execution_count": 19,
     "metadata": {},
     "output_type": "execute_result"
    }
   ],
   "source": [
    "x = 3\n",
    "\n",
    "x *= 2\n",
    "\n",
    "x"
   ]
  },
  {
   "cell_type": "code",
   "execution_count": 20,
   "metadata": {},
   "outputs": [
    {
     "data": {
      "text/plain": [
       "1024"
      ]
     },
     "execution_count": 20,
     "metadata": {},
     "output_type": "execute_result"
    }
   ],
   "source": [
    "x = 2\n",
    "x **= 10\n",
    "x"
   ]
  },
  {
   "cell_type": "code",
   "execution_count": 22,
   "metadata": {},
   "outputs": [
    {
     "data": {
      "text/plain": [
       "33.333333333333336"
      ]
     },
     "execution_count": 22,
     "metadata": {},
     "output_type": "execute_result"
    }
   ],
   "source": [
    "x = 100\n",
    "x /= 3\n",
    "x"
   ]
  },
  {
   "cell_type": "code",
   "execution_count": 23,
   "metadata": {
    "collapsed": true
   },
   "outputs": [],
   "source": [
    "def pagamento_semanal(valor_por_hora, num_horas = 40):\n",
    "    return valor_por_hora * num_horas"
   ]
  },
  {
   "cell_type": "code",
   "execution_count": 24,
   "metadata": {},
   "outputs": [
    {
     "data": {
      "text/plain": [
       "400"
      ]
     },
     "execution_count": 24,
     "metadata": {},
     "output_type": "execute_result"
    }
   ],
   "source": [
    "pagamento_semanal(10)"
   ]
  },
  {
   "cell_type": "code",
   "execution_count": 26,
   "metadata": {},
   "outputs": [
    {
     "data": {
      "text/plain": [
       "200"
      ]
     },
     "execution_count": 26,
     "metadata": {},
     "output_type": "execute_result"
    }
   ],
   "source": [
    "pagamento_semanal(10, 20) # aceita, mesmo assim, o segundo parâmetro."
   ]
  },
  {
   "cell_type": "code",
   "execution_count": 27,
   "metadata": {
    "collapsed": true
   },
   "outputs": [],
   "source": [
    "# Asserção de Invariantes\n",
    "\n",
    "def pagamento_semanal(valor_por_hora, num_horas = 40):\n",
    "    assert valor_por_hora >= 0 and num_horas > 0    \n",
    "    return valor_por_hora * num_horas"
   ]
  },
  {
   "cell_type": "code",
   "execution_count": 28,
   "metadata": {},
   "outputs": [
    {
     "data": {
      "text/plain": [
       "300"
      ]
     },
     "execution_count": 28,
     "metadata": {},
     "output_type": "execute_result"
    }
   ],
   "source": [
    "pagamento_semanal(30, 10)"
   ]
  },
  {
   "cell_type": "code",
   "execution_count": 29,
   "metadata": {},
   "outputs": [
    {
     "ename": "AssertionError",
     "evalue": "",
     "output_type": "error",
     "traceback": [
      "\u001b[0;31m---------------------------------------------------------------------------\u001b[0m",
      "\u001b[0;31mAssertionError\u001b[0m                            Traceback (most recent call last)",
      "\u001b[0;32m<ipython-input-29-d4888163423a>\u001b[0m in \u001b[0;36m<module>\u001b[0;34m()\u001b[0m\n\u001b[0;32m----> 1\u001b[0;31m \u001b[0mpagamento_semanal\u001b[0m\u001b[0;34m(\u001b[0m\u001b[0;36m10\u001b[0m\u001b[0;34m,\u001b[0m \u001b[0;34m-\u001b[0m\u001b[0;36m10\u001b[0m\u001b[0;34m)\u001b[0m\u001b[0;34m\u001b[0m\u001b[0m\n\u001b[0m",
      "\u001b[0;32m<ipython-input-27-f3cd269ee201>\u001b[0m in \u001b[0;36mpagamento_semanal\u001b[0;34m(valor_por_hora, num_horas)\u001b[0m\n\u001b[1;32m      2\u001b[0m \u001b[0;34m\u001b[0m\u001b[0m\n\u001b[1;32m      3\u001b[0m \u001b[0;32mdef\u001b[0m \u001b[0mpagamento_semanal\u001b[0m\u001b[0;34m(\u001b[0m\u001b[0mvalor_por_hora\u001b[0m\u001b[0;34m,\u001b[0m \u001b[0mnum_horas\u001b[0m \u001b[0;34m=\u001b[0m \u001b[0;36m40\u001b[0m\u001b[0;34m)\u001b[0m\u001b[0;34m:\u001b[0m\u001b[0;34m\u001b[0m\u001b[0m\n\u001b[0;32m----> 4\u001b[0;31m     \u001b[0;32massert\u001b[0m \u001b[0mvalor_por_hora\u001b[0m \u001b[0;34m>=\u001b[0m \u001b[0;36m0\u001b[0m \u001b[0;32mand\u001b[0m \u001b[0mnum_horas\u001b[0m \u001b[0;34m>\u001b[0m \u001b[0;36m0\u001b[0m\u001b[0;34m\u001b[0m\u001b[0m\n\u001b[0m\u001b[1;32m      5\u001b[0m     \u001b[0;32mreturn\u001b[0m \u001b[0mvalor_por_hora\u001b[0m \u001b[0;34m*\u001b[0m \u001b[0mnum_horas\u001b[0m\u001b[0;34m\u001b[0m\u001b[0m\n",
      "\u001b[0;31mAssertionError\u001b[0m: "
     ]
    }
   ],
   "source": [
    "pagamento_semanal(10, -10)"
   ]
  },
  {
   "cell_type": "code",
   "execution_count": 30,
   "metadata": {},
   "outputs": [
    {
     "name": "stdout",
     "output_type": "stream",
     "text": [
      "x =  12 e y =  10\n"
     ]
    }
   ],
   "source": [
    "x, y = 10, 12\n",
    "x, y = y, x\n",
    "print(\"x = \",x,\"e y = \",y)"
   ]
  },
  {
   "cell_type": "code",
   "execution_count": 31,
   "metadata": {},
   "outputs": [
    {
     "name": "stdout",
     "output_type": "stream",
     "text": [
      "9.0\n"
     ]
    }
   ],
   "source": [
    "x = 10\n",
    "x += 10\n",
    "x /= 2\n",
    "x //= 3\n",
    "x %= 2\n",
    "x *= 9\n",
    "print(x)"
   ]
  },
  {
   "cell_type": "code",
   "execution_count": 32,
   "metadata": {},
   "outputs": [
    {
     "data": {
      "text/plain": [
       "7"
      ]
     },
     "execution_count": 32,
     "metadata": {},
     "output_type": "execute_result"
    }
   ],
   "source": [
    "def calculo(x, y = 10, z = 5):\n",
    "    return x + y * z;\n",
    "\n",
    "calculo(1, 2, 3)"
   ]
  },
  {
   "cell_type": "code",
   "execution_count": 34,
   "metadata": {},
   "outputs": [
    {
     "data": {
      "text/plain": [
       "11"
      ]
     },
     "execution_count": 34,
     "metadata": {},
     "output_type": "execute_result"
    }
   ],
   "source": [
    "calculo(1, 2) # 2 entra em y."
   ]
  },
  {
   "cell_type": "code",
   "execution_count": 36,
   "metadata": {},
   "outputs": [
    {
     "name": "stdout",
     "output_type": "stream",
     "text": [
      "7\n"
     ]
    }
   ],
   "source": [
    "def calculo(x, y = 10, z = 5):\n",
    "    return x + y * z;\n",
    "\n",
    "print(calculo(1, 2, 3))"
   ]
  },
  {
   "cell_type": "code",
   "execution_count": 37,
   "metadata": {},
   "outputs": [
    {
     "ename": "TypeError",
     "evalue": "calculo() missing 1 required positional argument: 'x'",
     "output_type": "error",
     "traceback": [
      "\u001b[0;31m---------------------------------------------------------------------------\u001b[0m",
      "\u001b[0;31mTypeError\u001b[0m                                 Traceback (most recent call last)",
      "\u001b[0;32m<ipython-input-37-b3086c7998bf>\u001b[0m in \u001b[0;36m<module>\u001b[0;34m()\u001b[0m\n\u001b[0;32m----> 1\u001b[0;31m \u001b[0mcalculo\u001b[0m\u001b[0;34m(\u001b[0m\u001b[0;34m)\u001b[0m\u001b[0;34m\u001b[0m\u001b[0m\n\u001b[0m",
      "\u001b[0;31mTypeError\u001b[0m: calculo() missing 1 required positional argument: 'x'"
     ]
    }
   ],
   "source": [
    "calculo()"
   ]
  },
  {
   "cell_type": "code",
   "execution_count": 38,
   "metadata": {},
   "outputs": [
    {
     "ename": "SyntaxError",
     "evalue": "invalid syntax (<ipython-input-38-5107460fd864>, line 1)",
     "output_type": "error",
     "traceback": [
      "\u001b[0;36m  File \u001b[0;32m\"<ipython-input-38-5107460fd864>\"\u001b[0;36m, line \u001b[0;32m1\u001b[0m\n\u001b[0;31m    print(calculo( ,12, 10))\u001b[0m\n\u001b[0m                   ^\u001b[0m\n\u001b[0;31mSyntaxError\u001b[0m\u001b[0;31m:\u001b[0m invalid syntax\n"
     ]
    }
   ],
   "source": [
    "print(calculo( ,12, 10))"
   ]
  },
  {
   "cell_type": "code",
   "execution_count": 39,
   "metadata": {},
   "outputs": [
    {
     "name": "stdout",
     "output_type": "stream",
     "text": [
      "10850\n"
     ]
    }
   ],
   "source": [
    "def horario_em_segundos(h, m, s):\n",
    "    assert h >= 0 and m >= 0 and s >= 0\n",
    "    return h * 3600 + m * 60 + s\n",
    "\n",
    "print(horario_em_segundos (3,0,50))"
   ]
  },
  {
   "cell_type": "code",
   "execution_count": 40,
   "metadata": {},
   "outputs": [
    {
     "name": "stdout",
     "output_type": "stream",
     "text": [
      "3723\n"
     ]
    }
   ],
   "source": [
    "print(horario_em_segundos(1,2,3))"
   ]
  },
  {
   "cell_type": "code",
   "execution_count": 41,
   "metadata": {},
   "outputs": [
    {
     "ename": "AssertionError",
     "evalue": "",
     "output_type": "error",
     "traceback": [
      "\u001b[0;31m---------------------------------------------------------------------------\u001b[0m",
      "\u001b[0;31mAssertionError\u001b[0m                            Traceback (most recent call last)",
      "\u001b[0;32m<ipython-input-41-8038a74e5713>\u001b[0m in \u001b[0;36m<module>\u001b[0;34m()\u001b[0m\n\u001b[0;32m----> 1\u001b[0;31m \u001b[0mprint\u001b[0m\u001b[0;34m(\u001b[0m\u001b[0mhorario_em_segundos\u001b[0m \u001b[0;34m(\u001b[0m\u001b[0;34m-\u001b[0m\u001b[0;36m1\u001b[0m\u001b[0;34m,\u001b[0m\u001b[0;36m20\u001b[0m\u001b[0;34m,\u001b[0m\u001b[0;36m30\u001b[0m\u001b[0;34m)\u001b[0m\u001b[0;34m)\u001b[0m\u001b[0;34m\u001b[0m\u001b[0m\n\u001b[0m",
      "\u001b[0;32m<ipython-input-39-bc871fb3a4ba>\u001b[0m in \u001b[0;36mhorario_em_segundos\u001b[0;34m(h, m, s)\u001b[0m\n\u001b[1;32m      1\u001b[0m \u001b[0;32mdef\u001b[0m \u001b[0mhorario_em_segundos\u001b[0m\u001b[0;34m(\u001b[0m\u001b[0mh\u001b[0m\u001b[0;34m,\u001b[0m \u001b[0mm\u001b[0m\u001b[0;34m,\u001b[0m \u001b[0ms\u001b[0m\u001b[0;34m)\u001b[0m\u001b[0;34m:\u001b[0m\u001b[0;34m\u001b[0m\u001b[0m\n\u001b[0;32m----> 2\u001b[0;31m     \u001b[0;32massert\u001b[0m \u001b[0mh\u001b[0m \u001b[0;34m>=\u001b[0m \u001b[0;36m0\u001b[0m \u001b[0;32mand\u001b[0m \u001b[0mm\u001b[0m \u001b[0;34m>=\u001b[0m \u001b[0;36m0\u001b[0m \u001b[0;32mand\u001b[0m \u001b[0ms\u001b[0m \u001b[0;34m>=\u001b[0m \u001b[0;36m0\u001b[0m\u001b[0;34m\u001b[0m\u001b[0m\n\u001b[0m\u001b[1;32m      3\u001b[0m     \u001b[0;32mreturn\u001b[0m \u001b[0mh\u001b[0m \u001b[0;34m*\u001b[0m \u001b[0;36m3600\u001b[0m \u001b[0;34m+\u001b[0m \u001b[0mm\u001b[0m \u001b[0;34m*\u001b[0m \u001b[0;36m60\u001b[0m \u001b[0;34m+\u001b[0m \u001b[0ms\u001b[0m\u001b[0;34m\u001b[0m\u001b[0m\n\u001b[1;32m      4\u001b[0m \u001b[0;34m\u001b[0m\u001b[0m\n\u001b[1;32m      5\u001b[0m \u001b[0mprint\u001b[0m\u001b[0;34m(\u001b[0m\u001b[0mhorario_em_segundos\u001b[0m \u001b[0;34m(\u001b[0m\u001b[0;36m3\u001b[0m\u001b[0;34m,\u001b[0m\u001b[0;36m0\u001b[0m\u001b[0;34m,\u001b[0m\u001b[0;36m50\u001b[0m\u001b[0;34m)\u001b[0m\u001b[0;34m)\u001b[0m\u001b[0;34m\u001b[0m\u001b[0m\n",
      "\u001b[0;31mAssertionError\u001b[0m: "
     ]
    }
   ],
   "source": [
    "print(horario_em_segundos (-1,20,30))"
   ]
  },
  {
   "cell_type": "code",
   "execution_count": 1,
   "metadata": {
    "collapsed": true
   },
   "outputs": [],
   "source": [
    "# Módulos em Python\n",
    "\n",
    "def fib(n): # escreve a série de Fibonacci até n\n",
    "    a, b = 0, 1\n",
    "    while b < n:\n",
    "        print(b, end = ' ')\n",
    "        a, b = b, a + b\n",
    "    print()\n",
    "\n",
    "def fib2(n):\n",
    "    result = []\n",
    "    a, b = 0, 1\n",
    "    while b < n:\n",
    "        result.append(b)\n",
    "        a, b = b, a + b\n",
    "    return result"
   ]
  },
  {
   "cell_type": "code",
   "execution_count": null,
   "metadata": {
    "collapsed": true
   },
   "outputs": [],
   "source": [
    "'''\n",
    "E no shell do Python (chamado na pasta que contém o arquivo fibo.py)\n",
    ">>> import fibo\n",
    ">>> fibo.fib(100)\n",
    "1 1 2 3 5 8 13 21 34 55 89 \n",
    ">>> fibo.fib2(100)\n",
    "[1, 1, 2, 3, 5, 8, 13, 21, 34, 55, 89]\n",
    ">>> fibo.fib2(1000)\n",
    "[1, 1, 2, 3, 5, 8, 13, 21, 34, 55, 89, 144, 233, 377, 610, 987]\n",
    ">>> meuFib = fibo.fib\n",
    ">>> meuFib(20)\n",
    "1 1 2 3 5 8 13 \n",
    "\n",
    "'''\n",
    "\n"
   ]
  },
  {
   "cell_type": "markdown",
   "metadata": {
    "collapsed": true
   },
   "source": [
    "Incluindo <pre>```print(__name__)```</pre> na última linha de fibo.py, ao fazer a importação import fibo no shell do Python, imprime 'fibo', que é o nome do programa."
   ]
  },
  {
   "cell_type": "markdown",
   "metadata": {
    "collapsed": true
   },
   "source": [
    "Ao incluir \n",
    "\n",
    "<pre>\n",
    "if __name__ == \"__main__\": \n",
    "    import sys\n",
    "    fib(int(sys.argv[1]))\n",
    "</pre>\n",
    "\n",
    "podemos ver se está sendo executado como script (com o if do jeito que está) ou como módulo dentro de outro código (se o nome não for main, está sendo importado pra usar alguma função lá dentro)."
   ]
  },
  {
   "cell_type": "code",
   "execution_count": 1,
   "metadata": {},
   "outputs": [
    {
     "name": "stdout",
     "output_type": "stream",
     "text": [
      "EtsEt\n",
      "zUrtsEvA Od OvO O\n",
      "AdAçArgnE OtIUm AsAc A\n",
      "UOrbEUq OãsIvElEt A\n",
      "AlErAmA AcAv A\n"
     ]
    }
   ],
   "source": [
    "def fazAlgo(string): # inverte a string e deixa as vogais maiúsculas\n",
    "    pos = len(string)-1 # define a variável posição do array\n",
    "    stringMi = string.lower() # aqui estão todas minúsculas\n",
    "    string = string.upper() # aqui estão todas maiúsculas\n",
    "    stringRe = \"\" # string de retorno\n",
    "    \n",
    "    while pos >= 0:\n",
    "        if string[pos] == 'A' or string[pos] == 'E' or string[pos] == 'I' or string[pos] == 'O' or string[pos] == 'U':\n",
    "            stringRe = stringRe + string[pos]\n",
    "        else:\n",
    "            stringRe = stringRe + stringMi[pos]\n",
    "        pos = pos - 1\n",
    "    return stringRe\n",
    "\n",
    "if __name__ == \"__main__\":\n",
    "    print(fazAlgo(\"teste\"))\n",
    "    print(fazAlgo(\"o ovo do avestruz\"))\n",
    "    print(fazAlgo(\"A CASA MUITO ENGRAÇADA\"))\n",
    "    print(fazAlgo(\"A TELEvisão queBROU\"))\n",
    "    print(fazAlgo(\"A Vaca Amarela\"))"
   ]
  },
  {
   "cell_type": "markdown",
   "metadata": {
    "collapsed": true
   },
   "source": [
    "# Exercício 1: Letras maiúsculas\n",
    "\n",
    "Escreva a função maiusculas(frase) que recebe uma frase (uma string) como parâmetro e devolve uma string com as letras maiúsculas que existem nesta frase, na ordem em que elas aparecem.\n",
    "\n",
    "Para resolver este exercício, pode ser útil verificar uma tabela ASCII, que contém os valores de cada caractere. Ver http://equipe.nce.ufrj.br/adriano/c/apostila/tabascii.htm\n",
    "\n",
    "Note que para simplificar a solução do exercício, as frases passadas para a sua função não possuirão caracteres que não estejam presentes na tabela ASCII apresentada, como ç, á, É, ã, etc.\n",
    "\n",
    "Dica: Os valores apresentados na tabela são os mesmos devolvidos pela função ord apresentada nas aulas.\n",
    "\n",
    "Exemplos:"
   ]
  },
  {
   "cell_type": "code",
   "execution_count": null,
   "metadata": {
    "collapsed": true
   },
   "outputs": [],
   "source": [
    "maiusculas('Programamos em python 2?')\n",
    "# deve devolver 'P'\n",
    "\n",
    "maiusculas('Programamos em Python 3.')\n",
    "# deve devolver 'PP'\n",
    "\n",
    "maiusculas('PrOgRaMaMoS em python!')\n",
    "# deve devolver 'PORMMS'"
   ]
  },
  {
   "cell_type": "code",
   "execution_count": 34,
   "metadata": {
    "collapsed": true
   },
   "outputs": [],
   "source": [
    "def maiusculas(frase):\n",
    "    \n",
    "    listRe = [] # lista de retorno vazia\n",
    "    stringRe = '' # string de retorno vazia\n",
    "    \n",
    "    for ch in frase:\n",
    "        if ord(ch) >=65 and ord(ch) <= 91:\n",
    "            listRe.append(ch)      \n",
    "    \n",
    "    # retornando a lista para string\n",
    "    stringRe = ''.join(listRe)\n",
    "    \n",
    "    return stringRe"
   ]
  },
  {
   "cell_type": "code",
   "execution_count": 40,
   "metadata": {},
   "outputs": [
    {
     "data": {
      "text/plain": [
       "'P'"
      ]
     },
     "execution_count": 40,
     "metadata": {},
     "output_type": "execute_result"
    }
   ],
   "source": [
    "maiusculas('Programamos em python 2?')"
   ]
  },
  {
   "cell_type": "code",
   "execution_count": 41,
   "metadata": {},
   "outputs": [
    {
     "data": {
      "text/plain": [
       "'PP'"
      ]
     },
     "execution_count": 41,
     "metadata": {},
     "output_type": "execute_result"
    }
   ],
   "source": [
    "maiusculas('Programamos em Python 3.')"
   ]
  },
  {
   "cell_type": "code",
   "execution_count": 42,
   "metadata": {},
   "outputs": [
    {
     "data": {
      "text/plain": [
       "'PORMMS'"
      ]
     },
     "execution_count": 42,
     "metadata": {},
     "output_type": "execute_result"
    }
   ],
   "source": [
    "maiusculas('PrOgRaMaMoS em python!')"
   ]
  },
  {
   "cell_type": "code",
   "execution_count": 24,
   "metadata": {},
   "outputs": [
    {
     "data": {
      "text/plain": [
       "(65, 97)"
      ]
     },
     "execution_count": 24,
     "metadata": {},
     "output_type": "execute_result"
    }
   ],
   "source": [
    "x = ord('A')\n",
    "y = ord('a')\n",
    "x, y"
   ]
  },
  {
   "cell_type": "code",
   "execution_count": 21,
   "metadata": {},
   "outputs": [
    {
     "data": {
      "text/plain": [
       "66"
      ]
     },
     "execution_count": 21,
     "metadata": {},
     "output_type": "execute_result"
    }
   ],
   "source": [
    "ord('B')"
   ]
  },
  {
   "cell_type": "code",
   "execution_count": 14,
   "metadata": {},
   "outputs": [
    {
     "data": {
      "text/plain": [
       "90"
      ]
     },
     "execution_count": 14,
     "metadata": {},
     "output_type": "execute_result"
    }
   ],
   "source": [
    "ord('Z')"
   ]
  },
  {
   "cell_type": "markdown",
   "metadata": {
    "collapsed": true
   },
   "source": [
    "# Exercício 2: Menor nome\n",
    "\n",
    "Como pedido no primeiro vídeo desta semana, escreva uma função menor_nome(nomes) que recebe uma lista de strings com nome de pessoas como parâmetro e devolve o nome mais curto presente na lista.\n",
    "\n",
    "A função deve ignorar espaços antes e depois do nome e deve devolver o menor nome presente na lista. Este nome deve ser devolvido com a primeira letra maiúscula e seus demais caracteres minúsculos, independente de como tenha sido apresentado na lista passada para a função.\n",
    "\n",
    "Quando houver mais de um nome com o menor comprimento dentre os nomes na lista, a função deve devolver o primeiro nome com o menor comprimento presente na lista.\n",
    "\n",
    "Exemplos:"
   ]
  },
  {
   "cell_type": "code",
   "execution_count": null,
   "metadata": {
    "collapsed": true
   },
   "outputs": [],
   "source": [
    "menor_nome(['maria', 'josé', 'PAULO', 'Catarina'])\n",
    "# deve devolver 'José'\n",
    "\n",
    "menor_nome(['maria', ' josé  ', '  PAULO', 'Catarina  '])\n",
    "# deve devolver 'José'\n",
    "\n",
    "menor_nome(['Bárbara', 'JOSÉ  ', 'Bill'])\n",
    "# deve devolver José"
   ]
  },
  {
   "cell_type": "code",
   "execution_count": 81,
   "metadata": {
    "collapsed": true
   },
   "outputs": [],
   "source": [
    "def menor_nome(nomes):\n",
    "    \n",
    "    tamanho = len(nomes) # pega a quantidade de nomes na lista\n",
    "    menor = '' # variável para escolher o menor nome\n",
    "    lista_limpa = [] # lista de nomes sem os espaços em branco\n",
    "    \n",
    "    # ignora espaços em branco\n",
    "    for str in nomes:\n",
    "        lista_limpa.append(str.strip())\n",
    "        \n",
    "    # verifica o menor nome\n",
    "    menor = lista_limpa[0] # considera o primeiro como menor\n",
    "    for str in lista_limpa:\n",
    "        if len(str) < len(menor): # não deixei <= senão pegará um segundo menor de mesmo tamanho\n",
    "            menor = str\n",
    "            \n",
    "    return menor.capitalize() # deixa a primeira letra maiúscula"
   ]
  },
  {
   "cell_type": "code",
   "execution_count": 83,
   "metadata": {},
   "outputs": [
    {
     "name": "stdout",
     "output_type": "stream",
     "text": [
      "José\n"
     ]
    }
   ],
   "source": [
    "menor_nome(['maria', 'josé', 'PAULO', 'Catarina'])\n",
    "# deve devolver 'José'"
   ]
  },
  {
   "cell_type": "code",
   "execution_count": 84,
   "metadata": {},
   "outputs": [
    {
     "name": "stdout",
     "output_type": "stream",
     "text": [
      "José\n"
     ]
    }
   ],
   "source": [
    "menor_nome(['maria', ' josé  ', '  PAULO', 'Catarina  '])\n",
    "# deve devolver 'José'"
   ]
  },
  {
   "cell_type": "code",
   "execution_count": 85,
   "metadata": {},
   "outputs": [
    {
     "name": "stdout",
     "output_type": "stream",
     "text": [
      "José\n"
     ]
    }
   ],
   "source": [
    "menor_nome(['Bárbara', 'JOSÉ  ', 'Bill'])\n",
    "# deve devolver José"
   ]
  },
  {
   "cell_type": "code",
   "execution_count": 88,
   "metadata": {},
   "outputs": [
    {
     "name": "stdout",
     "output_type": "stream",
     "text": [
      "Ada\n"
     ]
    }
   ],
   "source": [
    "menor_nome(['Bárbara', 'JOSÉ  ', 'Bill', '     aDa '])"
   ]
  },
  {
   "cell_type": "markdown",
   "metadata": {
    "collapsed": true
   },
   "source": [
    "# Exercícios adicionais\n",
    "\n",
    "## Exercício 1: Contando vogais ou consoantes\n",
    "\n",
    "Escreva a função conta_letras(frase, contar=\"vogais\"), que recebe como primeiro parâmetro uma string contendo uma frase e como segundo parâmetro uma outra string. Este segundo parâmetro deve ser opcional.\n",
    "\n",
    "Quando o segundo parâmetro for definido como \"vogais\", a função deve devolver o numero de vogais presentes na frase. Quando ele for definido como \"consoantes\", a função deve devolver o número de consoantes presentes na frase. Se este parâmetro não for passado para a função, deve-se assumir o valor \"vogais\" para o parâmetro.\n",
    "\n",
    "Exemplos:\n",
    "\n",
    "conta_letras('programamos em python')\n",
    "\n",
    "6\n",
    "\n",
    "conta_letras('programamos em python', 'vogais')\n",
    "\n",
    "6\n",
    "\n",
    "conta_letras('programamos em python', 'consoantes')\n",
    "\n",
    "13"
   ]
  },
  {
   "cell_type": "code",
   "execution_count": 125,
   "metadata": {
    "collapsed": true
   },
   "outputs": [],
   "source": [
    "def conta_letras(frase, contar = 'vogais'):\n",
    "    \n",
    "    pos = len(frase) - 1 # atribui na variável pos (posição) a posição do array\n",
    "    count = 0 # define o contador de vogais\n",
    "    \n",
    "    while pos >= 0: # conta as vogais\n",
    "        if frase[pos] == 'a' or frase[pos] == 'e' or frase[pos] == 'i' or frase[pos] == 'o' or frase[pos] == 'u':\n",
    "            count += 1\n",
    "        pos = pos - 1\n",
    "    \n",
    "    if contar == 'consoantes':\n",
    "        frase = frase.replace(' ', '')     # retira espaços em branco\n",
    "        return len(frase) - count # subtrai do total as vogais\n",
    "    else:\n",
    "        return count"
   ]
  },
  {
   "cell_type": "code",
   "execution_count": 126,
   "metadata": {},
   "outputs": [
    {
     "data": {
      "text/plain": [
       "6"
      ]
     },
     "execution_count": 126,
     "metadata": {},
     "output_type": "execute_result"
    }
   ],
   "source": [
    "conta_letras('programamos em python')"
   ]
  },
  {
   "cell_type": "code",
   "execution_count": 127,
   "metadata": {},
   "outputs": [
    {
     "data": {
      "text/plain": [
       "6"
      ]
     },
     "execution_count": 127,
     "metadata": {},
     "output_type": "execute_result"
    }
   ],
   "source": [
    "conta_letras('programamos em python', 'vogais')"
   ]
  },
  {
   "cell_type": "code",
   "execution_count": 128,
   "metadata": {},
   "outputs": [
    {
     "data": {
      "text/plain": [
       "13"
      ]
     },
     "execution_count": 128,
     "metadata": {},
     "output_type": "execute_result"
    }
   ],
   "source": [
    "conta_letras('programamos em python', 'consoantes')"
   ]
  },
  {
   "cell_type": "code",
   "execution_count": 129,
   "metadata": {},
   "outputs": [
    {
     "data": {
      "text/plain": [
       "21"
      ]
     },
     "execution_count": 129,
     "metadata": {},
     "output_type": "execute_result"
    }
   ],
   "source": [
    "conta_letras('bcdfghjklmnpqrstvxywz', 'consoantes')"
   ]
  },
  {
   "cell_type": "code",
   "execution_count": 130,
   "metadata": {},
   "outputs": [
    {
     "data": {
      "text/plain": [
       "21"
      ]
     },
     "execution_count": 130,
     "metadata": {},
     "output_type": "execute_result"
    }
   ],
   "source": [
    "len('programamos em python')"
   ]
  },
  {
   "cell_type": "code",
   "execution_count": 131,
   "metadata": {},
   "outputs": [
    {
     "data": {
      "text/plain": [
       "'programamos em python'"
      ]
     },
     "execution_count": 131,
     "metadata": {},
     "output_type": "execute_result"
    }
   ],
   "source": [
    "frase = 'programamos em python'\n",
    "frase.replace(' ', '')\n",
    "frase"
   ]
  },
  {
   "cell_type": "markdown",
   "metadata": {
    "collapsed": true
   },
   "source": [
    "# Exercício 2: Ordem lexicográfica\n",
    "\n",
    "Como pedido no segundo vídeo da semana, escreva a função primeiro_lex(lista) que recebe uma lista de strings como parâmetro e devolve o primeiro string na ordem lexicográfica. Neste exercício, considere letras maiúsculas e minúsculas.\n",
    "\n",
    "Dica: revise a segunda vídeo-aula desta semana.\n",
    "\n",
    "Exemplos:\n",
    "\n",
    "primeiro_lex(['oĺá', 'A', 'a', 'casa'])\n",
    "\n",
    "'A'\n",
    "\n",
    "primeiro_lex(['AAAAAA', 'b'])\n",
    "\n",
    "'AAAAAA'"
   ]
  },
  {
   "cell_type": "code",
   "execution_count": 29,
   "metadata": {
    "collapsed": true
   },
   "outputs": [],
   "source": [
    "def primeiro_lex(lista):\n",
    "    \n",
    "    resposta = lista[0] # define o primeiro item da lista como a resposta...mas verifica depois.\n",
    "    \n",
    "    for str in lista:\n",
    "        if ord(str[0]) < ord(resposta[0]):\n",
    "            resposta = str\n",
    "    \n",
    "    return resposta"
   ]
  },
  {
   "cell_type": "code",
   "execution_count": null,
   "metadata": {
    "collapsed": true
   },
   "outputs": [],
   "source": [
    "assert primeiro_lex(['oĺá', 'A', 'a', 'casa']), 'A'"
   ]
  },
  {
   "cell_type": "code",
   "execution_count": null,
   "metadata": {
    "collapsed": true
   },
   "outputs": [],
   "source": [
    "assert primeiro_lex(['AAAAAA', 'b']), 'AAAAAA'"
   ]
  },
  {
   "cell_type": "code",
   "execution_count": 35,
   "metadata": {},
   "outputs": [
    {
     "data": {
      "text/plain": [
       "'A'"
      ]
     },
     "execution_count": 35,
     "metadata": {},
     "output_type": "execute_result"
    }
   ],
   "source": [
    "primeiro_lex(['casa', 'a', 'Z', 'A'])"
   ]
  },
  {
   "cell_type": "code",
   "execution_count": 133,
   "metadata": {},
   "outputs": [
    {
     "data": {
      "text/plain": [
       "'AAAAAA'"
      ]
     },
     "execution_count": 133,
     "metadata": {},
     "output_type": "execute_result"
    }
   ],
   "source": [
    "primeiro_lex(['AAAAAA', 'b'])"
   ]
  },
  {
   "cell_type": "markdown",
   "metadata": {
    "collapsed": true
   },
   "source": [
    "# Semana 3 - POO – Programação Orientada a Objetos"
   ]
  },
  {
   "cell_type": "code",
   "execution_count": 142,
   "metadata": {
    "collapsed": true
   },
   "outputs": [],
   "source": [
    "def cria_matriz(tot_lin, tot_col, valor):\n",
    "\n",
    "    matriz = []  #lista vazia\n",
    "\n",
    "    for i in range(tot_lin):\n",
    "        linha = []\n",
    "        for j in range(tot_col):\n",
    "            linha.append(valor)\n",
    "        matriz.append(linha)\n",
    "    \n",
    "    return matriz"
   ]
  },
  {
   "cell_type": "code",
   "execution_count": 144,
   "metadata": {},
   "outputs": [
    {
     "name": "stdout",
     "output_type": "stream",
     "text": [
      "[[11, 22, 33], [44, 55, 66], [77, 88, 99]]\n"
     ]
    }
   ],
   "source": [
    "# import matriz # descomentar apenas no arquivo .py\n",
    "\n",
    "def soma_matrizes(A, B):\n",
    "    \n",
    "    num_lin = len(A)\n",
    "    num_col = len(A[0])\n",
    "    \n",
    "    C = cria_matriz(num_lin, num_col, 0) # matriz com zeros\n",
    "    \n",
    "    for lin in range(num_lin): # percorre as linhas da matriz\n",
    "        for col in range(num_col): # percorre as colunas da matriz\n",
    "            C[lin][col] = A[lin][col] + B[lin][col]\n",
    "        \n",
    "    return C\n",
    "\n",
    "if __name__ == '__main__':\n",
    "    A = [[1, 2, 3], [4, 5, 6], [7, 8, 9]]\n",
    "    B = [[10, 20, 30], [40, 50, 60], [70, 80, 90]]\n",
    "    print(soma_matrizes(A, B))"
   ]
  },
  {
   "cell_type": "code",
   "execution_count": null,
   "metadata": {
    "collapsed": true
   },
   "outputs": [],
   "source": [
    "# No arquivo matriz.py\n",
    "\n",
    "def cria_matriz(tot_lin, tot_col, valor):\n",
    "\n",
    "    matriz = []  #lista vazia\n",
    "\n",
    "    for i in range(tot_lin):\n",
    "        linha = []\n",
    "        for j in range(tot_col):\n",
    "            linha.append(valor)\n",
    "        matriz.append(linha)\n",
    "    \n",
    "    return matriz\n",
    "\n",
    "# E no arquivo soma_matrizes.py\n",
    "\n",
    "import matriz\n",
    "\n",
    "def soma_matrizes(A, B):\n",
    "    \n",
    "    num_lin = len(A)\n",
    "    num_col = len(A[0])\n",
    "    \n",
    "    C = matriz.cria_matriz(num_lin, num_col, 0) # matriz com zeros\n",
    "    \n",
    "    for lin in range(num_lin): # percorre as linhas da matriz\n",
    "        for col in range(num_col): # percorre as colunas da matriz\n",
    "            C[lin][col] = A[lin][col] + B[lin][col]\n",
    "        \n",
    "    return C\n",
    "\n",
    "if __name__ == '__main__':\n",
    "    A = [[1, 2, 3], [4, 5, 6], [7, 8, 9]]\n",
    "    B = [[10, 20, 30], [40, 50, 60], [70, 80, 90]]\n",
    "    print(soma_matrizes(A, B))\n",
    "    "
   ]
  },
  {
   "cell_type": "code",
   "execution_count": null,
   "metadata": {
    "collapsed": true
   },
   "outputs": [],
   "source": [
    "'''\n",
    "Multiplicação de matrizes:\n",
    "\n",
    "1 2 3      1 2     22 28\n",
    "4 5 6   *  3 4  =  49 64\n",
    "           5 6 \n",
    "           \n",
    "1*1 + 2*3 + 3*5 = 22\n",
    "1*2 + 2*4 + 3*6 = 28\n",
    "4*1 + 5*3 + 6*5 = 49    \n",
    "4*2 + 5*4 + 6*6 = 64\n",
    "\n",
    "c11 = a11*b11 + a12*b21 + c13*c31\n",
    "c12 = a11*b21 + a12*b22 + c13*c23\n",
    "c21 = a21*b11 + a22*b21 + c23*c31\n",
    "c22 = a21*b21 + a22*b22 + c23*c23\n",
    "'''"
   ]
  },
  {
   "cell_type": "code",
   "execution_count": 151,
   "metadata": {},
   "outputs": [
    {
     "name": "stdout",
     "output_type": "stream",
     "text": [
      "[[22, 28], [49, 64]]\n"
     ]
    }
   ],
   "source": [
    "def multiplica_matrizes (A, B):\n",
    "    \n",
    "    num_linA, num_colA = len(A), len(A[0])\n",
    "    num_linB, num_colB = len(B), len(B[0])\n",
    "    \n",
    "    assert num_colA == num_linB\n",
    "    \n",
    "    C = []\n",
    "    \n",
    "    for lin in range(num_linA): # percorre as linhas da matriz A\n",
    "        # começando uma nova linha\n",
    "        C.append([])\n",
    "        for col in range(num_colB): # percorre as colunas da matriz B\n",
    "            # Adicionando uma nova coluna na linha\n",
    "            C[lin].append(0)\n",
    "            for k in range(num_colA):\n",
    "                C[lin][col] += A[lin][k] * B[k][col]     \n",
    "\n",
    "    return C\n",
    "\n",
    "if __name__ == '__main__':\n",
    "    A = [[1, 2, 3], [4, 5, 6]]\n",
    "    B = [[1, 2], [3, 4], [5, 6]]\n",
    "    print(multiplica_matrizes(A, B))\n",
    "    "
   ]
  },
  {
   "cell_type": "markdown",
   "metadata": {},
   "source": [
    "# POO"
   ]
  },
  {
   "cell_type": "code",
   "execution_count": 153,
   "metadata": {},
   "outputs": [
    {
     "data": {
      "text/plain": [
       "<__main__.Carro at 0x7f4f7898ffd0>"
      ]
     },
     "execution_count": 153,
     "metadata": {},
     "output_type": "execute_result"
    }
   ],
   "source": [
    "class Carro:\n",
    "    pass\n",
    "\n",
    "meu_carro = Carro()\n",
    "meu_carro"
   ]
  },
  {
   "cell_type": "code",
   "execution_count": 155,
   "metadata": {},
   "outputs": [
    {
     "data": {
      "text/plain": [
       "<__main__.Carro at 0x7f4f789883c8>"
      ]
     },
     "execution_count": 155,
     "metadata": {},
     "output_type": "execute_result"
    }
   ],
   "source": [
    "carro_do_trabalho = Carro()\n",
    "carro_do_trabalho"
   ]
  },
  {
   "cell_type": "code",
   "execution_count": 156,
   "metadata": {
    "collapsed": true
   },
   "outputs": [],
   "source": [
    "meu_carro.ano = 1968\n",
    "meu_carro.modelo = 'Fusca'\n",
    "meu_carro.cor = 'azul'"
   ]
  },
  {
   "cell_type": "code",
   "execution_count": 157,
   "metadata": {},
   "outputs": [
    {
     "data": {
      "text/plain": [
       "1968"
      ]
     },
     "execution_count": 157,
     "metadata": {},
     "output_type": "execute_result"
    }
   ],
   "source": [
    "meu_carro.ano"
   ]
  },
  {
   "cell_type": "code",
   "execution_count": 158,
   "metadata": {},
   "outputs": [
    {
     "data": {
      "text/plain": [
       "'azul'"
      ]
     },
     "execution_count": 158,
     "metadata": {},
     "output_type": "execute_result"
    }
   ],
   "source": [
    "meu_carro.cor"
   ]
  },
  {
   "cell_type": "code",
   "execution_count": 159,
   "metadata": {
    "collapsed": true
   },
   "outputs": [],
   "source": [
    "carro_do_trabalho.ano = 1981\n",
    "carro_do_trabalho.modelo = 'Brasília'\n",
    "carro_do_trabalho.cor = 'amarela'"
   ]
  },
  {
   "cell_type": "code",
   "execution_count": 160,
   "metadata": {},
   "outputs": [
    {
     "data": {
      "text/plain": [
       "1981"
      ]
     },
     "execution_count": 160,
     "metadata": {},
     "output_type": "execute_result"
    }
   ],
   "source": [
    "carro_do_trabalho.ano"
   ]
  },
  {
   "cell_type": "code",
   "execution_count": 162,
   "metadata": {
    "collapsed": true
   },
   "outputs": [],
   "source": [
    "novo_fusca = meu_carro # duas variáveis apontando para o mesmo objeto"
   ]
  },
  {
   "cell_type": "code",
   "execution_count": 164,
   "metadata": {},
   "outputs": [
    {
     "data": {
      "text/plain": [
       "<__main__.Carro at 0x7f4f7898ffd0>"
      ]
     },
     "execution_count": 164,
     "metadata": {},
     "output_type": "execute_result"
    }
   ],
   "source": [
    "novo_fusca #repare que é o mesmo end. de memória"
   ]
  },
  {
   "cell_type": "code",
   "execution_count": 165,
   "metadata": {
    "collapsed": true
   },
   "outputs": [],
   "source": [
    "novo_fusca.ano += 10"
   ]
  },
  {
   "cell_type": "code",
   "execution_count": 166,
   "metadata": {},
   "outputs": [
    {
     "data": {
      "text/plain": [
       "1978"
      ]
     },
     "execution_count": 166,
     "metadata": {},
     "output_type": "execute_result"
    }
   ],
   "source": [
    "novo_fusca.ano"
   ]
  },
  {
   "cell_type": "code",
   "execution_count": 167,
   "metadata": {},
   "outputs": [
    {
     "data": {
      "text/plain": [
       "<__main__.Carro at 0x7f4f7898ffd0>"
      ]
     },
     "execution_count": 167,
     "metadata": {},
     "output_type": "execute_result"
    }
   ],
   "source": [
    "novo_fusca"
   ]
  },
  {
   "cell_type": "markdown",
   "metadata": {},
   "source": [
    "# Testes para praticar"
   ]
  },
  {
   "cell_type": "code",
   "execution_count": 168,
   "metadata": {},
   "outputs": [
    {
     "name": "stdout",
     "output_type": "stream",
     "text": [
      "Estamos em endereços diferentes!\n"
     ]
    }
   ],
   "source": [
    "class Pato:\n",
    "  pass\n",
    "\n",
    "pato = Pato()\n",
    "patinho = Pato()\n",
    "if pato == patinho:\n",
    "  print(\"Estamos no mesmo endereço!\")\n",
    "else:\n",
    "  print(\"Estamos em endereços diferentes!\")"
   ]
  },
  {
   "cell_type": "code",
   "execution_count": 172,
   "metadata": {
    "collapsed": true
   },
   "outputs": [],
   "source": [
    "class Carro:\n",
    "    def __init__(self, modelo, ano, cor): # init é o Construtor da classe\n",
    "        self.modelo = modelo\n",
    "        self.ano = ano\n",
    "        self.cor = cor"
   ]
  },
  {
   "cell_type": "code",
   "execution_count": 173,
   "metadata": {},
   "outputs": [
    {
     "data": {
      "text/plain": [
       "<__main__.Carro at 0x7f4f7898a828>"
      ]
     },
     "execution_count": 173,
     "metadata": {},
     "output_type": "execute_result"
    }
   ],
   "source": [
    "carro_do_meu_avo = Carro('Ferrari', 1980, 'vermelha')\n",
    "carro_do_meu_avo"
   ]
  },
  {
   "cell_type": "code",
   "execution_count": 174,
   "metadata": {},
   "outputs": [
    {
     "data": {
      "text/plain": [
       "'vermelha'"
      ]
     },
     "execution_count": 174,
     "metadata": {},
     "output_type": "execute_result"
    }
   ],
   "source": [
    "carro_do_meu_avo.cor"
   ]
  },
  {
   "cell_type": "markdown",
   "metadata": {
    "collapsed": true
   },
   "source": [
    "# POO – Programação Orientada a Objetos – Parte 2"
   ]
  },
  {
   "cell_type": "code",
   "execution_count": 6,
   "metadata": {
    "scrolled": false
   },
   "outputs": [
    {
     "name": "stdout",
     "output_type": "stream",
     "text": [
      "Brasília amarela indo a 40 km/h\n",
      "Fuscão preto indo a 50 km/h\n",
      "Brasília amarela indo muito rapido!\n",
      "Brasília amarela 1968\n",
      "Fuscão preto indo muito rapido!\n"
     ]
    }
   ],
   "source": [
    "def main():\n",
    "    carro1 = Carro('Brasília', 1968, 'amarela', 80)\n",
    "    carro2 = Carro('Fuscão', 1981, 'preto', 95)\n",
    "    \n",
    "    carro1.acelere(40)\n",
    "    carro2.acelere(50)\n",
    "    carro1.acelere(80)\n",
    "    carro1.pare()\n",
    "    carro2.acelere(100)\n",
    "    \n",
    "class Carro:\n",
    "    \n",
    "    def __init__(self, modelo, ano, cor, vel_max):\n",
    "        self.modelo = modelo\n",
    "        self.ano    = ano\n",
    "        self.cor    = cor\n",
    "        self.vel    = 0\n",
    "        self.maxV   = vel_max # velocidade máxima\n",
    "    \n",
    "    def imprima(self):\n",
    "        if self.vel == 0: # parado dá para ver o ano\n",
    "            print('%s %s %d' % (self.modelo, self.cor, self.ano))\n",
    "        elif self.vel < self.maxV:\n",
    "            print('%s %s indo a %d km/h' % (self.modelo, self.cor, self.vel))\n",
    "        else:\n",
    "            print('%s %s indo muito rapido!' % (self.modelo, self.cor))\n",
    "    \n",
    "    def acelere(self, velocidade):\n",
    "        self.vel = velocidade\n",
    "        if self.vel > self.maxV:\n",
    "            self.vel = self.maxV\n",
    "        self.imprima()\n",
    "        \n",
    "    def pare(self):\n",
    "        self.vel = 0\n",
    "        self.imprima()\n",
    "    \n",
    "main()\n",
    "    "
   ]
  },
  {
   "cell_type": "markdown",
   "metadata": {
    "collapsed": true
   },
   "source": [
    "# TESTE PARA PRATICAR POO – Programação Orientada a Objetos – Parte 2"
   ]
  },
  {
   "cell_type": "code",
   "execution_count": 7,
   "metadata": {
    "collapsed": true
   },
   "outputs": [],
   "source": [
    "class Cafeteira:\n",
    "  def __init__(self, marca, tipo, tamanho, cor):\n",
    "    self.marca = marca\n",
    "    self.tipo = tipo\n",
    "    self.tamanho = tamanho\n",
    "    self.cor = cor"
   ]
  },
  {
   "cell_type": "code",
   "execution_count": 15,
   "metadata": {
    "collapsed": true
   },
   "outputs": [],
   "source": [
    "class Cachorro:\n",
    "  def __init__(self, raça, idade, nome, cor):\n",
    "    self.raça = raça\n",
    "    self.idade = idade\n",
    "    self.nome = nome\n",
    "    self.cor = cor\n",
    "    \n",
    "rex = Cachorro('vira-lata', 2, 'Bobby', 'marrom')"
   ]
  },
  {
   "cell_type": "code",
   "execution_count": 16,
   "metadata": {},
   "outputs": [
    {
     "data": {
      "text/plain": [
       "True"
      ]
     },
     "execution_count": 16,
     "metadata": {},
     "output_type": "execute_result"
    }
   ],
   "source": [
    "'vira-lata' == rex.raça"
   ]
  },
  {
   "cell_type": "code",
   "execution_count": 17,
   "metadata": {},
   "outputs": [
    {
     "data": {
      "text/plain": [
       "False"
      ]
     },
     "execution_count": 17,
     "metadata": {},
     "output_type": "execute_result"
    }
   ],
   "source": [
    "rex.idade > 2"
   ]
  },
  {
   "cell_type": "code",
   "execution_count": 18,
   "metadata": {},
   "outputs": [
    {
     "data": {
      "text/plain": [
       "False"
      ]
     },
     "execution_count": 18,
     "metadata": {},
     "output_type": "execute_result"
    }
   ],
   "source": [
    "rex.idade == '2'"
   ]
  },
  {
   "cell_type": "code",
   "execution_count": 19,
   "metadata": {},
   "outputs": [
    {
     "data": {
      "text/plain": [
       "False"
      ]
     },
     "execution_count": 19,
     "metadata": {},
     "output_type": "execute_result"
    }
   ],
   "source": [
    "rex.nome == 'rex'"
   ]
  },
  {
   "cell_type": "code",
   "execution_count": 20,
   "metadata": {},
   "outputs": [
    {
     "ename": "NameError",
     "evalue": "name 'Bobby' is not defined",
     "output_type": "error",
     "traceback": [
      "\u001b[0;31m---------------------------------------------------------------------------\u001b[0m",
      "\u001b[0;31mNameError\u001b[0m                                 Traceback (most recent call last)",
      "\u001b[0;32m<ipython-input-20-60ecef47743f>\u001b[0m in \u001b[0;36m<module>\u001b[0;34m()\u001b[0m\n\u001b[0;32m----> 1\u001b[0;31m \u001b[0mBobby\u001b[0m\u001b[0;34m.\u001b[0m\u001b[0mcor\u001b[0m \u001b[0;34m==\u001b[0m \u001b[0;34m'marrom'\u001b[0m\u001b[0;34m\u001b[0m\u001b[0m\n\u001b[0m",
      "\u001b[0;31mNameError\u001b[0m: name 'Bobby' is not defined"
     ]
    }
   ],
   "source": [
    "Bobby.cor == 'marrom'"
   ]
  },
  {
   "cell_type": "code",
   "execution_count": 21,
   "metadata": {},
   "outputs": [
    {
     "data": {
      "text/plain": [
       "True"
      ]
     },
     "execution_count": 21,
     "metadata": {},
     "output_type": "execute_result"
    }
   ],
   "source": [
    "rex.cor == 'marrom'"
   ]
  },
  {
   "cell_type": "code",
   "execution_count": 22,
   "metadata": {
    "collapsed": true
   },
   "outputs": [],
   "source": [
    "class Lista:\n",
    "  def append(self, elemento):\n",
    "    return \"Oops! Este objeto não é uma lista\"\n",
    "    \n",
    "lista = []\n",
    "\n",
    "a = Lista()\n",
    "b = a.append(7)\n",
    "\n",
    "lista.append(b)"
   ]
  },
  {
   "cell_type": "code",
   "execution_count": 23,
   "metadata": {},
   "outputs": [
    {
     "data": {
      "text/plain": [
       "<__main__.Lista at 0x7f88999f4eb8>"
      ]
     },
     "execution_count": 23,
     "metadata": {},
     "output_type": "execute_result"
    }
   ],
   "source": [
    "a"
   ]
  },
  {
   "cell_type": "code",
   "execution_count": 24,
   "metadata": {},
   "outputs": [
    {
     "data": {
      "text/plain": [
       "'Oops! Este objeto não é uma lista'"
      ]
     },
     "execution_count": 24,
     "metadata": {},
     "output_type": "execute_result"
    }
   ],
   "source": [
    "b"
   ]
  },
  {
   "cell_type": "code",
   "execution_count": 25,
   "metadata": {},
   "outputs": [
    {
     "data": {
      "text/plain": [
       "['Oops! Este objeto não é uma lista']"
      ]
     },
     "execution_count": 25,
     "metadata": {},
     "output_type": "execute_result"
    }
   ],
   "source": [
    "lista"
   ]
  },
  {
   "cell_type": "markdown",
   "metadata": {},
   "source": [
    "# Códigos Testáveis"
   ]
  },
  {
   "cell_type": "code",
   "execution_count": 34,
   "metadata": {
    "collapsed": true
   },
   "outputs": [],
   "source": [
    "import math\n",
    "\n",
    "class Bhaskara:\n",
    "\n",
    "    def delta(self, a, b, c):\n",
    "        return b ** 2 - 4 * a * c\n",
    "\n",
    "    def main(self):\n",
    "        a_digitado = float(input(\"Digite o valor de a:\"))\n",
    "        b_digitado = float(input(\"Digite o valor de b:\"))\n",
    "        c_digitado = float(input(\"Digite o valor de c:\"))\n",
    "        print(self.calcula_raizes(a_digitado, b_digitado, c_digitado))\n",
    "\n",
    "    def calcula_raizes(self, a, b, c):\n",
    "        d = self.delta(self, a, b, c)\n",
    "        if d == 0:\n",
    "            raiz1 = (-b + math.sqrt(d)) / (2 * a)\n",
    "            return 1, raiz1 # indica que tem uma raiz e o valor dela\n",
    "        else:\n",
    "            if d < 0:\n",
    "                return 0\n",
    "            else:\n",
    "                raiz1 = (-b + math.sqrt(d)) / (2 * a)\n",
    "                raiz2 = (-b - math.sqrt(d)) / (2 * a)\n",
    "                return 2, raiz1, raiz2"
   ]
  },
  {
   "cell_type": "code",
   "execution_count": 35,
   "metadata": {},
   "outputs": [
    {
     "name": "stdout",
     "output_type": "stream",
     "text": [
      "Digite o valor de a:10\n",
      "Digite o valor de b:10\n",
      "Digite o valor de c:10\n",
      "0\n"
     ]
    }
   ],
   "source": [
    "main()"
   ]
  },
  {
   "cell_type": "code",
   "execution_count": 36,
   "metadata": {},
   "outputs": [
    {
     "name": "stdout",
     "output_type": "stream",
     "text": [
      "Digite o valor de a:10\n",
      "Digite o valor de b:20\n",
      "Digite o valor de c:10\n",
      "(1, -1.0)\n"
     ]
    }
   ],
   "source": [
    "main()"
   ]
  },
  {
   "cell_type": "code",
   "execution_count": 38,
   "metadata": {
    "collapsed": true
   },
   "outputs": [],
   "source": [
    "import Bhaskara\n",
    "\n",
    "class TestBhaskara:\n",
    "\n",
    "    def testa_uma_raiz(self):\n",
    "        b = Bhaskara.Bhaskara()\n",
    "        assert b.calcula_raizes(1, 0, 0) == (1, 0)\n",
    "\n",
    "    def testa_duas_raizes(self):\n",
    "        b = Bhaskara.Bhaskara()\n",
    "        assert b.calcula_raizes(1, -5, 6) == (2, 3, 2)\n",
    "\n",
    "    def testa_zero_raizes(self):\n",
    "        b = Bhaskara.Bhaskara()\n",
    "        assert b.calcula_raizes(10, 10, 10) == 0\n",
    "        \n",
    "    def testa_raiz_negativa(self):\n",
    "        b = Bhaskara.Bhaskara()\n",
    "        assert b.calcula_raizes(10, 20, 10) == (1, -1)"
   ]
  },
  {
   "cell_type": "markdown",
   "metadata": {},
   "source": [
    "# Fixture: valor fixo para um conjunto de testes\n",
    "\n",
    "@pytest.fixture"
   ]
  },
  {
   "cell_type": "code",
   "execution_count": 42,
   "metadata": {},
   "outputs": [
    {
     "ename": "ImportError",
     "evalue": "No module named 'pytest'",
     "output_type": "error",
     "traceback": [
      "\u001b[0;31m---------------------------------------------------------------------------\u001b[0m",
      "\u001b[0;31mImportError\u001b[0m                               Traceback (most recent call last)",
      "\u001b[0;32m<ipython-input-42-b1f9ab1890f3>\u001b[0m in \u001b[0;36m<module>\u001b[0;34m()\u001b[0m\n\u001b[1;32m      1\u001b[0m \u001b[0;32mimport\u001b[0m \u001b[0mBhaskara\u001b[0m\u001b[0;34m\u001b[0m\u001b[0m\n\u001b[0;32m----> 2\u001b[0;31m \u001b[0;32mimport\u001b[0m \u001b[0mpytest\u001b[0m\u001b[0;34m\u001b[0m\u001b[0m\n\u001b[0m\u001b[1;32m      3\u001b[0m \u001b[0;34m\u001b[0m\u001b[0m\n\u001b[1;32m      4\u001b[0m \u001b[0;32mclass\u001b[0m \u001b[0mTestBhaskara\u001b[0m\u001b[0;34m:\u001b[0m\u001b[0;34m\u001b[0m\u001b[0m\n\u001b[1;32m      5\u001b[0m \u001b[0;34m\u001b[0m\u001b[0m\n",
      "\u001b[0;31mImportError\u001b[0m: No module named 'pytest'"
     ]
    }
   ],
   "source": [
    "# Nos estudos ficou pytest_bhaskara.py\n",
    "\n",
    "import Bhaskara\n",
    "import pytest\n",
    "\n",
    "class TestBhaskara:\n",
    "\n",
    "    @pytest.fixture\n",
    "    def b(self):\n",
    "        return Bhaskara.Bhaskara()\n",
    "    \n",
    "    def testa_uma_raiz(self, b):\n",
    "        assert b.calcula_raizes(1, 0, 0) == (1, 0)\n",
    "\n",
    "    def testa_duas_raizes(self, b):\n",
    "        assert b.calcula_raizes(1, -5, 6) == (2, 3, 2)\n",
    "\n",
    "    def testa_zero_raizes(self, b):\n",
    "        assert b.calcula_raizes(10, 10, 10) == 0\n",
    "        \n",
    "    def testa_raiz_negativa(self, b):\n",
    "        assert b.calcula_raizes(10, 20, 10) == (1, -1)"
   ]
  },
  {
   "cell_type": "markdown",
   "metadata": {},
   "source": [
    "# Parametrização"
   ]
  },
  {
   "cell_type": "code",
   "execution_count": 44,
   "metadata": {},
   "outputs": [
    {
     "ename": "ImportError",
     "evalue": "No module named 'pytest'",
     "output_type": "error",
     "traceback": [
      "\u001b[0;31m---------------------------------------------------------------------------\u001b[0m",
      "\u001b[0;31mImportError\u001b[0m                               Traceback (most recent call last)",
      "\u001b[0;32m<ipython-input-44-0078dadb3bde>\u001b[0m in \u001b[0;36m<module>\u001b[0;34m()\u001b[0m\n\u001b[1;32m      8\u001b[0m     \u001b[0;32mreturn\u001b[0m \u001b[0mfat\u001b[0m\u001b[0;34m\u001b[0m\u001b[0m\n\u001b[1;32m      9\u001b[0m \u001b[0;34m\u001b[0m\u001b[0m\n\u001b[0;32m---> 10\u001b[0;31m \u001b[0;32mimport\u001b[0m \u001b[0mpytest\u001b[0m\u001b[0;34m\u001b[0m\u001b[0m\n\u001b[0m\u001b[1;32m     11\u001b[0m \u001b[0;34m\u001b[0m\u001b[0m\n\u001b[1;32m     12\u001b[0m @pytest.mark.parametrize(\"entrada, esperado\", [\n",
      "\u001b[0;31mImportError\u001b[0m: No module named 'pytest'"
     ]
    }
   ],
   "source": [
    "def fatorial(n):\n",
    "    if n < 0:\n",
    "        return 0\n",
    "    i = fat = 1\n",
    "    while i <= n:\n",
    "        fat = fat * i\n",
    "        i += 1\n",
    "    return fat\n",
    "\n",
    "import pytest\n",
    "\n",
    "@pytest.mark.parametrize(\"entrada, esperado\", [\n",
    "    (0, 1),\n",
    "    (1, 1), \n",
    "    (-10, 0), \n",
    "    (4, 24),\n",
    "    (5, 120)\n",
    "    ])\n",
    "\n",
    "def testa_fatorial(entrada, esperado):\n",
    "    assert fatorial(entrada) == esperado"
   ]
  },
  {
   "cell_type": "markdown",
   "metadata": {},
   "source": [
    "# Exercícios\n",
    "\n",
    "1. Escreva uma versão do TestaBhaskara usando @pytest.mark.parametrize\n",
    "\n",
    "2. Escreva uma bateria de testes para o seu código preferido"
   ]
  },
  {
   "cell_type": "code",
   "execution_count": null,
   "metadata": {
    "collapsed": true
   },
   "outputs": [],
   "source": []
  },
  {
   "cell_type": "code",
   "execution_count": null,
   "metadata": {
    "collapsed": true
   },
   "outputs": [],
   "source": []
  },
  {
   "cell_type": "code",
   "execution_count": null,
   "metadata": {
    "collapsed": true
   },
   "outputs": [],
   "source": []
  },
  {
   "cell_type": "code",
   "execution_count": null,
   "metadata": {
    "collapsed": true
   },
   "outputs": [],
   "source": []
  },
  {
   "cell_type": "markdown",
   "metadata": {
    "collapsed": true
   },
   "source": [
    "# Tarefa de programação: Lista de exercícios - 3"
   ]
  },
  {
   "cell_type": "markdown",
   "metadata": {
    "collapsed": true
   },
   "source": [
    "Exercício 1: Uma classe para triângulos\n",
    "\n",
    "Defina a classe Triangulo cujo construtor recebe 3 valores inteiros correspondentes aos lados a, b e c de um triângulo.\n",
    "\n",
    "A classe triângulo também deve possuir um método perimetro, que não recebe parâmetros e devolve um valor inteiro correspondente ao perímetro do triângulo.\n",
    "\n",
    "t = Triangulo(1, 1, 1)\n",
    "#deve atribuir uma referência para um triângulo de lados 1, 1 e 1 à variável t \n",
    "\n",
    "Um objeto desta classe deve responder às seguintes chamadas:\n",
    "\n",
    "t.a\n",
    "#deve devolver o valor do lado a do triângulo\n",
    "\n",
    "t. b\n",
    "#deve devolver o valor do lado b do triângulo\n",
    "\n",
    "t.c\n",
    "#deve devolver o valor do lado c do triângulo\n",
    "\n",
    "t.perimetro()\n",
    "#deve devolver um inteiro correspondente ao valor do perímetro do triângulo."
   ]
  },
  {
   "cell_type": "code",
   "execution_count": 13,
   "metadata": {
    "collapsed": true
   },
   "outputs": [],
   "source": [
    "class Triangulo:\n",
    "    \n",
    "    def __init__(self, a, b, c):\n",
    "        self.a = a\n",
    "        self.b = b\n",
    "        self.c = c\n",
    "        \n",
    "    def perimetro(self):\n",
    "        return self.a + self.b + self.c"
   ]
  },
  {
   "cell_type": "code",
   "execution_count": 14,
   "metadata": {
    "collapsed": true
   },
   "outputs": [],
   "source": [
    "t = Triangulo(1, 1, 1)"
   ]
  },
  {
   "cell_type": "code",
   "execution_count": 15,
   "metadata": {},
   "outputs": [
    {
     "data": {
      "text/plain": [
       "1"
      ]
     },
     "execution_count": 15,
     "metadata": {},
     "output_type": "execute_result"
    }
   ],
   "source": [
    "t.a"
   ]
  },
  {
   "cell_type": "code",
   "execution_count": 16,
   "metadata": {},
   "outputs": [
    {
     "data": {
      "text/plain": [
       "1"
      ]
     },
     "execution_count": 16,
     "metadata": {},
     "output_type": "execute_result"
    }
   ],
   "source": [
    "t.b"
   ]
  },
  {
   "cell_type": "code",
   "execution_count": 17,
   "metadata": {},
   "outputs": [
    {
     "data": {
      "text/plain": [
       "1"
      ]
     },
     "execution_count": 17,
     "metadata": {},
     "output_type": "execute_result"
    }
   ],
   "source": [
    "t.c"
   ]
  },
  {
   "cell_type": "code",
   "execution_count": 18,
   "metadata": {},
   "outputs": [
    {
     "data": {
      "text/plain": [
       "3"
      ]
     },
     "execution_count": 18,
     "metadata": {},
     "output_type": "execute_result"
    }
   ],
   "source": [
    "t.perimetro()"
   ]
  },
  {
   "cell_type": "code",
   "execution_count": null,
   "metadata": {
    "collapsed": true
   },
   "outputs": [],
   "source": []
  },
  {
   "cell_type": "code",
   "execution_count": null,
   "metadata": {
    "collapsed": true
   },
   "outputs": [],
   "source": []
  },
  {
   "cell_type": "markdown",
   "metadata": {
    "collapsed": true
   },
   "source": [
    "Exercício 2: Tipos de triângulos\n",
    "\n",
    "Na classe triângulo, definida na Questão 1, escreva o metodo tipo_lado() que devolve uma string dizendo se o triângulo é:\n",
    "\n",
    "isóceles (dois lados iguais)\n",
    "\n",
    "equilátero (todos os lados iguais)\n",
    "\n",
    "escaleno (todos os lados diferentes)\n",
    "\n",
    "Note que se o triângulo for equilátero, a função não deve devolver isóceles.\n",
    "\n",
    "Exemplos:\n",
    "\n",
    "t = Triangulo(4, 4, 4)\n",
    "t.tipo_lado()\n",
    "#deve devolver 'equilátero'\n",
    "\n",
    "u = Triangulo(3, 4, 5)\n",
    ".tipo_lado()\n",
    "#deve devolver 'escaleno'"
   ]
  },
  {
   "cell_type": "code",
   "execution_count": 24,
   "metadata": {
    "collapsed": true
   },
   "outputs": [],
   "source": [
    "class Triangulo:\n",
    "    \n",
    "    def __init__(self, a, b, c):\n",
    "        self.a = a\n",
    "        self.b = b\n",
    "        self.c = c\n",
    "        \n",
    "    def tipo_lado(self):\n",
    "        if self.a == self.b and self.a == self.c:\n",
    "            return 'equilátero'\n",
    "        elif self.a != self.b and self.a != self.c and self.b != self.c:\n",
    "            return 'escaleno'\n",
    "        else:\n",
    "            return 'isósceles'"
   ]
  },
  {
   "cell_type": "code",
   "execution_count": 25,
   "metadata": {},
   "outputs": [
    {
     "data": {
      "text/plain": [
       "'equilátero'"
      ]
     },
     "execution_count": 25,
     "metadata": {},
     "output_type": "execute_result"
    }
   ],
   "source": [
    "t = Triangulo(4, 4, 4)\n",
    "t.tipo_lado()"
   ]
  },
  {
   "cell_type": "code",
   "execution_count": 26,
   "metadata": {},
   "outputs": [
    {
     "data": {
      "text/plain": [
       "'escaleno'"
      ]
     },
     "execution_count": 26,
     "metadata": {},
     "output_type": "execute_result"
    }
   ],
   "source": [
    "u = Triangulo(3, 4, 5)\n",
    "u.tipo_lado()"
   ]
  },
  {
   "cell_type": "code",
   "execution_count": 27,
   "metadata": {},
   "outputs": [
    {
     "data": {
      "text/plain": [
       "'isósceles'"
      ]
     },
     "execution_count": 27,
     "metadata": {},
     "output_type": "execute_result"
    }
   ],
   "source": [
    "v = Triangulo(1, 3, 3)\n",
    "v.tipo_lado()"
   ]
  },
  {
   "cell_type": "code",
   "execution_count": 28,
   "metadata": {},
   "outputs": [
    {
     "data": {
      "text/plain": [
       "'isósceles'"
      ]
     },
     "execution_count": 28,
     "metadata": {},
     "output_type": "execute_result"
    }
   ],
   "source": [
    "t = Triangulo(5, 8, 5)\n",
    "t.tipo_lado()"
   ]
  },
  {
   "cell_type": "code",
   "execution_count": 29,
   "metadata": {},
   "outputs": [
    {
     "data": {
      "text/plain": [
       "'isósceles'"
      ]
     },
     "execution_count": 29,
     "metadata": {},
     "output_type": "execute_result"
    }
   ],
   "source": [
    "t = Triangulo(5, 5, 6)\n",
    "t.tipo_lado()"
   ]
  },
  {
   "cell_type": "code",
   "execution_count": 30,
   "metadata": {},
   "outputs": [
    {
     "data": {
      "text/plain": [
       "'\\nExercício 1: Triângulos retângulos\\n\\nEscreva, na classe Triangulo, o método retangulo() que devolve True se o triângulo for retângulo, e False caso contrário.\\n\\nExemplos:\\n\\nt = Triangulo(1, 3, 5)\\nt.retangulo()\\n# deve devolver False\\n\\nu = Triangulo(3, 4, 5)\\nu.retangulo()\\n# deve devolver True\\n'"
      ]
     },
     "execution_count": 30,
     "metadata": {},
     "output_type": "execute_result"
    }
   ],
   "source": [
    "'''\n",
    "Exercício 1: Triângulos retângulos\n",
    "\n",
    "Escreva, na classe Triangulo, o método retangulo() que devolve \n",
    "True se o triângulo for retângulo, e False caso contrário.\n",
    "\n",
    "Exemplos:\n",
    "\n",
    "t = Triangulo(1, 3, 5)\n",
    "t.retangulo()\n",
    "# deve devolver False\n",
    "\n",
    "u = Triangulo(3, 4, 5)\n",
    "u.retangulo()\n",
    "# deve devolver True\n",
    "'''"
   ]
  },
  {
   "cell_type": "code",
   "execution_count": 36,
   "metadata": {
    "collapsed": true
   },
   "outputs": [],
   "source": [
    "class Triangulo:\n",
    "    \n",
    "    def __init__(self, a, b, c):\n",
    "        self.a = a\n",
    "        self.b = b\n",
    "        self.c = c\n",
    "        \n",
    "    def retangulo(self):\n",
    "        if self.a > self.b and self.a > self.c:\n",
    "            if self.a ** 2 == self.b ** 2 + self.c ** 2:\n",
    "                return True\n",
    "            else:\n",
    "                return False\n",
    "        elif self.b > self.a and self.b > self.c:\n",
    "            if self.b ** 2 == self.c ** 2 + self.a ** 2:\n",
    "                return True\n",
    "            else:\n",
    "                return False\n",
    "        else:\n",
    "            if self.c ** 2 == self.a ** 2 + self.b ** 2:\n",
    "                return True\n",
    "            else:\n",
    "                return False"
   ]
  },
  {
   "cell_type": "code",
   "execution_count": 37,
   "metadata": {},
   "outputs": [
    {
     "data": {
      "text/plain": [
       "False"
      ]
     },
     "execution_count": 37,
     "metadata": {},
     "output_type": "execute_result"
    }
   ],
   "source": [
    "t = Triangulo(1, 3, 5)\n",
    "t.retangulo()"
   ]
  },
  {
   "cell_type": "code",
   "execution_count": 38,
   "metadata": {},
   "outputs": [
    {
     "data": {
      "text/plain": [
       "False"
      ]
     },
     "execution_count": 38,
     "metadata": {},
     "output_type": "execute_result"
    }
   ],
   "source": [
    "t = Triangulo(3, 1, 5)\n",
    "t.retangulo()"
   ]
  },
  {
   "cell_type": "code",
   "execution_count": 39,
   "metadata": {},
   "outputs": [
    {
     "data": {
      "text/plain": [
       "False"
      ]
     },
     "execution_count": 39,
     "metadata": {},
     "output_type": "execute_result"
    }
   ],
   "source": [
    "t = Triangulo(5, 1, 3)\n",
    "t.retangulo()"
   ]
  },
  {
   "cell_type": "code",
   "execution_count": 40,
   "metadata": {},
   "outputs": [
    {
     "data": {
      "text/plain": [
       "True"
      ]
     },
     "execution_count": 40,
     "metadata": {},
     "output_type": "execute_result"
    }
   ],
   "source": [
    "u = Triangulo(3, 4, 5)\n",
    "u.retangulo()"
   ]
  },
  {
   "cell_type": "code",
   "execution_count": 41,
   "metadata": {},
   "outputs": [
    {
     "data": {
      "text/plain": [
       "True"
      ]
     },
     "execution_count": 41,
     "metadata": {},
     "output_type": "execute_result"
    }
   ],
   "source": [
    "u = Triangulo(4, 5, 3)\n",
    "u.retangulo()"
   ]
  },
  {
   "cell_type": "code",
   "execution_count": 42,
   "metadata": {},
   "outputs": [
    {
     "data": {
      "text/plain": [
       "True"
      ]
     },
     "execution_count": 42,
     "metadata": {},
     "output_type": "execute_result"
    }
   ],
   "source": [
    "u = Triangulo(5, 3, 4)\n",
    "u.retangulo()"
   ]
  },
  {
   "cell_type": "code",
   "execution_count": null,
   "metadata": {
    "collapsed": true
   },
   "outputs": [],
   "source": []
  },
  {
   "cell_type": "code",
   "execution_count": null,
   "metadata": {
    "collapsed": true
   },
   "outputs": [],
   "source": []
  },
  {
   "cell_type": "code",
   "execution_count": null,
   "metadata": {
    "collapsed": true
   },
   "outputs": [],
   "source": []
  },
  {
   "cell_type": "markdown",
   "metadata": {},
   "source": [
    "# Exercício 2: Triângulos semelhantes\n",
    "\n",
    "Ainda na classe Triangulo, escreva um método semelhantes(triangulo) \n",
    "que recebe um objeto do tipo Triangulo como parâmetro e verifica \n",
    "se o triângulo atual é semelhante ao triângulo passado como parâmetro. \n",
    "\n",
    "Caso positivo, o método deve devolver True. Caso negativo, \n",
    "deve devolver False.\n",
    "\n",
    "Verifique a semelhança dos triângulos através do comprimento \n",
    "dos lados.\n",
    "\n",
    "Dica: você pode colocar os lados de cada um dos triângulos em uma \n",
    "lista diferente e ordená-las.\n",
    "\n",
    "Exemplo:\n",
    "\n",
    "t1 = Triangulo(2, 2, 2)\n",
    "\n",
    "t2 = Triangulo(4, 4, 4)\n",
    "\n",
    "t1.semelhantes(t2)\n",
    "#deve devolver True\n",
    "\n",
    "'''"
   ]
  },
  {
   "cell_type": "code",
   "execution_count": 23,
   "metadata": {},
   "outputs": [],
   "source": [
    "class Triangulo:\n",
    "\n",
    "    '''\n",
    "    O resultado dos testes com seu programa foi:\n",
    "\n",
    "    ***** [0.2 pontos]: Testando método semelhantes(Triangulo(3, 4, 5)) para Triangulo(3, 4, 5) - Falhou *****\n",
    "    TypeError: 'Triangulo' object is not iterable\n",
    "\n",
    "    ***** [0.2 pontos]: Testando método semelhantes(Triangulo(3, 4, 5)) para Triangulo(6, 8, 10) - Falhou *****\n",
    "    TypeError: 'Triangulo' object is not iterable\n",
    "\n",
    "    ***** [0.2 pontos]: Testando método semelhantes(Triangulo(6, 8, 10)) para Triangulo(3, 4, 5) - Falhou *****\n",
    "    TypeError: 'Triangulo' object is not iterable\n",
    "\n",
    "    ***** [0.4 pontos]: Testando método semelhantes(Triangulo(3, 3, 3)) para Triangulo(3, 4, 5) - Falhou *****\n",
    "    TypeError: 'Triangulo' object is not iterable\n",
    "\n",
    "    '''\n",
    "    def __init__(self, a, b, c):\n",
    "        self.a = a\n",
    "        self.b = b\n",
    "        self.c = c\n",
    "\n",
    "# https://stackoverflow.com/questions/961048/get-class-that-defined-method\n",
    "    def semelhantes(self, Triangulo):\n",
    "        \n",
    "        list1 = []\n",
    "        \n",
    "        for arg in self:\n",
    "            list1.append(arg)\n",
    "            \n",
    "        list2 = []\n",
    "        \n",
    "        for arg in self1:\n",
    "            list2.append(arg)\n",
    "        \n",
    "        \n",
    "        for i in list2:\n",
    "            print(i)\n",
    "        "
   ]
  },
  {
   "cell_type": "code",
   "execution_count": 24,
   "metadata": {},
   "outputs": [
    {
     "ename": "TypeError",
     "evalue": "'Triangulo' object is not iterable",
     "output_type": "error",
     "traceback": [
      "\u001b[0;31m---------------------------------------------------------------------------\u001b[0m",
      "\u001b[0;31mTypeError\u001b[0m                                 Traceback (most recent call last)",
      "\u001b[0;32m<ipython-input-24-35450f00cdda>\u001b[0m in \u001b[0;36m<module>\u001b[0;34m()\u001b[0m\n\u001b[1;32m      1\u001b[0m \u001b[0mt1\u001b[0m \u001b[0;34m=\u001b[0m \u001b[0mTriangulo\u001b[0m\u001b[0;34m(\u001b[0m\u001b[0;36m2\u001b[0m\u001b[0;34m,\u001b[0m \u001b[0;36m2\u001b[0m\u001b[0;34m,\u001b[0m \u001b[0;36m2\u001b[0m\u001b[0;34m)\u001b[0m\u001b[0;34m\u001b[0m\u001b[0m\n\u001b[1;32m      2\u001b[0m \u001b[0mt2\u001b[0m \u001b[0;34m=\u001b[0m \u001b[0mTriangulo\u001b[0m\u001b[0;34m(\u001b[0m\u001b[0;36m4\u001b[0m\u001b[0;34m,\u001b[0m \u001b[0;36m4\u001b[0m\u001b[0;34m,\u001b[0m \u001b[0;36m4\u001b[0m\u001b[0;34m)\u001b[0m\u001b[0;34m\u001b[0m\u001b[0m\n\u001b[0;32m----> 3\u001b[0;31m \u001b[0mt1\u001b[0m\u001b[0;34m.\u001b[0m\u001b[0msemelhantes\u001b[0m\u001b[0;34m(\u001b[0m\u001b[0mt2\u001b[0m\u001b[0;34m)\u001b[0m\u001b[0;34m\u001b[0m\u001b[0m\n\u001b[0m",
      "\u001b[0;32m<ipython-input-23-70f97682acc0>\u001b[0m in \u001b[0;36msemelhantes\u001b[0;34m(self, Triangulo)\u001b[0m\n\u001b[1;32m     27\u001b[0m         \u001b[0mlist1\u001b[0m \u001b[0;34m=\u001b[0m \u001b[0;34m[\u001b[0m\u001b[0;34m]\u001b[0m\u001b[0;34m\u001b[0m\u001b[0m\n\u001b[1;32m     28\u001b[0m \u001b[0;34m\u001b[0m\u001b[0m\n\u001b[0;32m---> 29\u001b[0;31m         \u001b[0;32mfor\u001b[0m \u001b[0marg\u001b[0m \u001b[0;32min\u001b[0m \u001b[0mself\u001b[0m\u001b[0;34m:\u001b[0m\u001b[0;34m\u001b[0m\u001b[0m\n\u001b[0m\u001b[1;32m     30\u001b[0m             \u001b[0mlist1\u001b[0m\u001b[0;34m.\u001b[0m\u001b[0mappend\u001b[0m\u001b[0;34m(\u001b[0m\u001b[0marg\u001b[0m\u001b[0;34m)\u001b[0m\u001b[0;34m\u001b[0m\u001b[0m\n\u001b[1;32m     31\u001b[0m \u001b[0;34m\u001b[0m\u001b[0m\n",
      "\u001b[0;31mTypeError\u001b[0m: 'Triangulo' object is not iterable"
     ]
    }
   ],
   "source": [
    "t1 = Triangulo(2, 2, 2)\n",
    "t2 = Triangulo(4, 4, 4)\n",
    "t1.semelhantes(t2)"
   ]
  },
  {
   "cell_type": "code",
   "execution_count": null,
   "metadata": {
    "collapsed": true
   },
   "outputs": [],
   "source": []
  },
  {
   "cell_type": "code",
   "execution_count": null,
   "metadata": {
    "collapsed": true
   },
   "outputs": [],
   "source": []
  }
 ],
 "metadata": {
  "kernelspec": {
   "display_name": "python3.5",
   "language": "python",
   "name": "python3.5"
  },
  "language_info": {
   "codemirror_mode": {
    "name": "ipython",
    "version": 3
   },
   "file_extension": ".py",
   "mimetype": "text/x-python",
   "name": "python",
   "nbconvert_exporter": "python",
   "pygments_lexer": "ipython3",
   "version": "3.5.3"
  }
 },
 "nbformat": 4,
 "nbformat_minor": 2
}
